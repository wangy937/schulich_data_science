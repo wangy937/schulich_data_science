{
 "cells": [
  {
   "cell_type": "code",
   "execution_count": 1,
   "id": "a3a8a71e",
   "metadata": {},
   "outputs": [],
   "source": [
    "import numpy as np\n",
    "import pandas as pd\n",
    "import matplotlib.pyplot as plt\n",
    "import statsmodels.api as sm\n",
    "from sklearn import linear_model as lm"
   ]
  },
  {
   "cell_type": "code",
   "execution_count": 2,
   "id": "ac25ff6d",
   "metadata": {},
   "outputs": [],
   "source": [
    "x_1 = np.random.uniform(10,40,100)\n",
    "x_2 = np.random.uniform(-50,20,100)\n",
    "x_3 = np.random.uniform(20,60,100)\n",
    "x_4 = np.random.uniform(10,40,100)\n",
    "x_5 = np.random.uniform(-50,20,100)\n",
    "x_6 = np.random.uniform(20,60,100)\n",
    "epsilon = np.random.normal(0,10,100)"
   ]
  },
  {
   "cell_type": "code",
   "execution_count": 3,
   "id": "42b4353c",
   "metadata": {},
   "outputs": [],
   "source": [
    "y=-30+1.3*x_1+1.6*x_2+1.1*x_3+0.7*x_4-2.1*x_5-0.9*x_6+epsilon"
   ]
  },
  {
   "cell_type": "code",
   "execution_count": 4,
   "id": "f4f0d12d",
   "metadata": {},
   "outputs": [],
   "source": [
    "X_ols=pd.DataFrame()\n",
    "X_ols['Constant']=pd.Series(np.ones(100))\n",
    "X_ols['X1'] = pd.Series(x_1)\n",
    "X_ols['X2'] = pd.Series(x_2)\n",
    "X_ols['X3'] = pd.Series(x_3)\n",
    "X_ols['X4'] = pd.Series(x_4)\n",
    "X_ols['X5'] = pd.Series(x_5)\n",
    "X_ols['X6'] = pd.Series(x_6)"
   ]
  },
  {
   "cell_type": "code",
   "execution_count": 5,
   "id": "0614462a",
   "metadata": {},
   "outputs": [
    {
     "data": {
      "text/html": [
       "<table class=\"simpletable\">\n",
       "<caption>OLS Regression Results</caption>\n",
       "<tr>\n",
       "  <th>Dep. Variable:</th>            <td>y</td>        <th>  R-squared:         </th> <td>   0.973</td>\n",
       "</tr>\n",
       "<tr>\n",
       "  <th>Model:</th>                   <td>OLS</td>       <th>  Adj. R-squared:    </th> <td>   0.972</td>\n",
       "</tr>\n",
       "<tr>\n",
       "  <th>Method:</th>             <td>Least Squares</td>  <th>  F-statistic:       </th> <td>   563.6</td>\n",
       "</tr>\n",
       "<tr>\n",
       "  <th>Date:</th>             <td>Mon, 30 Sep 2024</td> <th>  Prob (F-statistic):</th> <td>8.36e-71</td>\n",
       "</tr>\n",
       "<tr>\n",
       "  <th>Time:</th>                 <td>12:40:06</td>     <th>  Log-Likelihood:    </th> <td> -373.41</td>\n",
       "</tr>\n",
       "<tr>\n",
       "  <th>No. Observations:</th>      <td>   100</td>      <th>  AIC:               </th> <td>   760.8</td>\n",
       "</tr>\n",
       "<tr>\n",
       "  <th>Df Residuals:</th>          <td>    93</td>      <th>  BIC:               </th> <td>   779.1</td>\n",
       "</tr>\n",
       "<tr>\n",
       "  <th>Df Model:</th>              <td>     6</td>      <th>                     </th>     <td> </td>   \n",
       "</tr>\n",
       "<tr>\n",
       "  <th>Covariance Type:</th>      <td>nonrobust</td>    <th>                     </th>     <td> </td>   \n",
       "</tr>\n",
       "</table>\n",
       "<table class=\"simpletable\">\n",
       "<tr>\n",
       "      <td></td>        <th>coef</th>     <th>std err</th>      <th>t</th>      <th>P>|t|</th>  <th>[0.025</th>    <th>0.975]</th>  \n",
       "</tr>\n",
       "<tr>\n",
       "  <th>Constant</th> <td>  -32.6721</td> <td>    7.525</td> <td>   -4.342</td> <td> 0.000</td> <td>  -47.615</td> <td>  -17.729</td>\n",
       "</tr>\n",
       "<tr>\n",
       "  <th>X1</th>       <td>    1.3130</td> <td>    0.122</td> <td>   10.760</td> <td> 0.000</td> <td>    1.071</td> <td>    1.555</td>\n",
       "</tr>\n",
       "<tr>\n",
       "  <th>X2</th>       <td>    1.7141</td> <td>    0.056</td> <td>   30.739</td> <td> 0.000</td> <td>    1.603</td> <td>    1.825</td>\n",
       "</tr>\n",
       "<tr>\n",
       "  <th>X3</th>       <td>    0.9616</td> <td>    0.093</td> <td>   10.307</td> <td> 0.000</td> <td>    0.776</td> <td>    1.147</td>\n",
       "</tr>\n",
       "<tr>\n",
       "  <th>X4</th>       <td>    0.6806</td> <td>    0.129</td> <td>    5.266</td> <td> 0.000</td> <td>    0.424</td> <td>    0.937</td>\n",
       "</tr>\n",
       "<tr>\n",
       "  <th>X5</th>       <td>   -2.1590</td> <td>    0.053</td> <td>  -40.576</td> <td> 0.000</td> <td>   -2.265</td> <td>   -2.053</td>\n",
       "</tr>\n",
       "<tr>\n",
       "  <th>X6</th>       <td>   -0.7238</td> <td>    0.099</td> <td>   -7.288</td> <td> 0.000</td> <td>   -0.921</td> <td>   -0.527</td>\n",
       "</tr>\n",
       "</table>\n",
       "<table class=\"simpletable\">\n",
       "<tr>\n",
       "  <th>Omnibus:</th>       <td> 0.320</td> <th>  Durbin-Watson:     </th> <td>   1.622</td>\n",
       "</tr>\n",
       "<tr>\n",
       "  <th>Prob(Omnibus):</th> <td> 0.852</td> <th>  Jarque-Bera (JB):  </th> <td>   0.122</td>\n",
       "</tr>\n",
       "<tr>\n",
       "  <th>Skew:</th>          <td>-0.081</td> <th>  Prob(JB):          </th> <td>   0.941</td>\n",
       "</tr>\n",
       "<tr>\n",
       "  <th>Kurtosis:</th>      <td> 3.058</td> <th>  Cond. No.          </th> <td>    515.</td>\n",
       "</tr>\n",
       "</table><br/><br/>Notes:<br/>[1] Standard Errors assume that the covariance matrix of the errors is correctly specified."
      ],
      "text/latex": [
       "\\begin{center}\n",
       "\\begin{tabular}{lclc}\n",
       "\\toprule\n",
       "\\textbf{Dep. Variable:}    &        y         & \\textbf{  R-squared:         } &     0.973   \\\\\n",
       "\\textbf{Model:}            &       OLS        & \\textbf{  Adj. R-squared:    } &     0.972   \\\\\n",
       "\\textbf{Method:}           &  Least Squares   & \\textbf{  F-statistic:       } &     563.6   \\\\\n",
       "\\textbf{Date:}             & Mon, 30 Sep 2024 & \\textbf{  Prob (F-statistic):} &  8.36e-71   \\\\\n",
       "\\textbf{Time:}             &     12:40:06     & \\textbf{  Log-Likelihood:    } &   -373.41   \\\\\n",
       "\\textbf{No. Observations:} &         100      & \\textbf{  AIC:               } &     760.8   \\\\\n",
       "\\textbf{Df Residuals:}     &          93      & \\textbf{  BIC:               } &     779.1   \\\\\n",
       "\\textbf{Df Model:}         &           6      & \\textbf{                     } &             \\\\\n",
       "\\textbf{Covariance Type:}  &    nonrobust     & \\textbf{                     } &             \\\\\n",
       "\\bottomrule\n",
       "\\end{tabular}\n",
       "\\begin{tabular}{lcccccc}\n",
       "                  & \\textbf{coef} & \\textbf{std err} & \\textbf{t} & \\textbf{P$> |$t$|$} & \\textbf{[0.025} & \\textbf{0.975]}  \\\\\n",
       "\\midrule\n",
       "\\textbf{Constant} &     -32.6721  &        7.525     &    -4.342  &         0.000        &      -47.615    &      -17.729     \\\\\n",
       "\\textbf{X1}       &       1.3130  &        0.122     &    10.760  &         0.000        &        1.071    &        1.555     \\\\\n",
       "\\textbf{X2}       &       1.7141  &        0.056     &    30.739  &         0.000        &        1.603    &        1.825     \\\\\n",
       "\\textbf{X3}       &       0.9616  &        0.093     &    10.307  &         0.000        &        0.776    &        1.147     \\\\\n",
       "\\textbf{X4}       &       0.6806  &        0.129     &     5.266  &         0.000        &        0.424    &        0.937     \\\\\n",
       "\\textbf{X5}       &      -2.1590  &        0.053     &   -40.576  &         0.000        &       -2.265    &       -2.053     \\\\\n",
       "\\textbf{X6}       &      -0.7238  &        0.099     &    -7.288  &         0.000        &       -0.921    &       -0.527     \\\\\n",
       "\\bottomrule\n",
       "\\end{tabular}\n",
       "\\begin{tabular}{lclc}\n",
       "\\textbf{Omnibus:}       &  0.320 & \\textbf{  Durbin-Watson:     } &    1.622  \\\\\n",
       "\\textbf{Prob(Omnibus):} &  0.852 & \\textbf{  Jarque-Bera (JB):  } &    0.122  \\\\\n",
       "\\textbf{Skew:}          & -0.081 & \\textbf{  Prob(JB):          } &    0.941  \\\\\n",
       "\\textbf{Kurtosis:}      &  3.058 & \\textbf{  Cond. No.          } &     515.  \\\\\n",
       "\\bottomrule\n",
       "\\end{tabular}\n",
       "%\\caption{OLS Regression Results}\n",
       "\\end{center}\n",
       "\n",
       "Notes: \\newline\n",
       " [1] Standard Errors assume that the covariance matrix of the errors is correctly specified."
      ],
      "text/plain": [
       "<class 'statsmodels.iolib.summary.Summary'>\n",
       "\"\"\"\n",
       "                            OLS Regression Results                            \n",
       "==============================================================================\n",
       "Dep. Variable:                      y   R-squared:                       0.973\n",
       "Model:                            OLS   Adj. R-squared:                  0.972\n",
       "Method:                 Least Squares   F-statistic:                     563.6\n",
       "Date:                Mon, 30 Sep 2024   Prob (F-statistic):           8.36e-71\n",
       "Time:                        12:40:06   Log-Likelihood:                -373.41\n",
       "No. Observations:                 100   AIC:                             760.8\n",
       "Df Residuals:                      93   BIC:                             779.1\n",
       "Df Model:                           6                                         \n",
       "Covariance Type:            nonrobust                                         \n",
       "==============================================================================\n",
       "                 coef    std err          t      P>|t|      [0.025      0.975]\n",
       "------------------------------------------------------------------------------\n",
       "Constant     -32.6721      7.525     -4.342      0.000     -47.615     -17.729\n",
       "X1             1.3130      0.122     10.760      0.000       1.071       1.555\n",
       "X2             1.7141      0.056     30.739      0.000       1.603       1.825\n",
       "X3             0.9616      0.093     10.307      0.000       0.776       1.147\n",
       "X4             0.6806      0.129      5.266      0.000       0.424       0.937\n",
       "X5            -2.1590      0.053    -40.576      0.000      -2.265      -2.053\n",
       "X6            -0.7238      0.099     -7.288      0.000      -0.921      -0.527\n",
       "==============================================================================\n",
       "Omnibus:                        0.320   Durbin-Watson:                   1.622\n",
       "Prob(Omnibus):                  0.852   Jarque-Bera (JB):                0.122\n",
       "Skew:                          -0.081   Prob(JB):                        0.941\n",
       "Kurtosis:                       3.058   Cond. No.                         515.\n",
       "==============================================================================\n",
       "\n",
       "Notes:\n",
       "[1] Standard Errors assume that the covariance matrix of the errors is correctly specified.\n",
       "\"\"\""
      ]
     },
     "execution_count": 5,
     "metadata": {},
     "output_type": "execute_result"
    }
   ],
   "source": [
    "model_reg = sm.OLS(y,X_ols).fit()\n",
    "model_reg.summary()"
   ]
  },
  {
   "cell_type": "code",
   "execution_count": 6,
   "id": "7a996da0",
   "metadata": {},
   "outputs": [],
   "source": [
    "# Now we add some unrelated coefficients\n",
    "x_7 = np.random.uniform(10,40,100)\n",
    "x_8 = np.random.uniform(-50,20,100)\n",
    "x_9 = np.random.uniform(20,60,100)\n",
    "x_10 = np.random.uniform(10,40,100)\n",
    "x_11 = np.random.uniform(-50,20,100)\n",
    "x_12 = np.random.uniform(20,60,100)"
   ]
  },
  {
   "cell_type": "code",
   "execution_count": 7,
   "id": "6c40d68e",
   "metadata": {},
   "outputs": [],
   "source": [
    "X_ext = pd.DataFrame()\n",
    "X_ext['Constant']=pd.Series(np.ones(100))\n",
    "X_ext['X1'] = pd.Series(x_1)\n",
    "X_ext['X2'] = pd.Series(x_2)\n",
    "X_ext['X3'] = pd.Series(x_3)\n",
    "X_ext['X4'] = pd.Series(x_4)\n",
    "X_ext['X5'] = pd.Series(x_5)\n",
    "X_ext['X6'] = pd.Series(x_6)\n",
    "X_ext['X7'] = pd.Series(x_7)\n",
    "X_ext['X8'] = pd.Series(x_8)\n",
    "X_ext['X9'] = pd.Series(x_9)\n",
    "X_ext['X10'] = pd.Series(x_10)\n",
    "X_ext['X11'] = pd.Series(x_11)\n",
    "X_ext['X12'] = pd.Series(x_12)"
   ]
  },
  {
   "cell_type": "code",
   "execution_count": 8,
   "id": "d87033bc",
   "metadata": {},
   "outputs": [
    {
     "data": {
      "text/html": [
       "<table class=\"simpletable\">\n",
       "<caption>OLS Regression Results</caption>\n",
       "<tr>\n",
       "  <th>Dep. Variable:</th>            <td>y</td>        <th>  R-squared:         </th> <td>   0.975</td>\n",
       "</tr>\n",
       "<tr>\n",
       "  <th>Model:</th>                   <td>OLS</td>       <th>  Adj. R-squared:    </th> <td>   0.972</td>\n",
       "</tr>\n",
       "<tr>\n",
       "  <th>Method:</th>             <td>Least Squares</td>  <th>  F-statistic:       </th> <td>   285.1</td>\n",
       "</tr>\n",
       "<tr>\n",
       "  <th>Date:</th>             <td>Mon, 30 Sep 2024</td> <th>  Prob (F-statistic):</th> <td>2.32e-64</td>\n",
       "</tr>\n",
       "<tr>\n",
       "  <th>Time:</th>                 <td>12:40:06</td>     <th>  Log-Likelihood:    </th> <td> -369.60</td>\n",
       "</tr>\n",
       "<tr>\n",
       "  <th>No. Observations:</th>      <td>   100</td>      <th>  AIC:               </th> <td>   765.2</td>\n",
       "</tr>\n",
       "<tr>\n",
       "  <th>Df Residuals:</th>          <td>    87</td>      <th>  BIC:               </th> <td>   799.1</td>\n",
       "</tr>\n",
       "<tr>\n",
       "  <th>Df Model:</th>              <td>    12</td>      <th>                     </th>     <td> </td>   \n",
       "</tr>\n",
       "<tr>\n",
       "  <th>Covariance Type:</th>      <td>nonrobust</td>    <th>                     </th>     <td> </td>   \n",
       "</tr>\n",
       "</table>\n",
       "<table class=\"simpletable\">\n",
       "<tr>\n",
       "      <td></td>        <th>coef</th>     <th>std err</th>      <th>t</th>      <th>P>|t|</th>  <th>[0.025</th>    <th>0.975]</th>  \n",
       "</tr>\n",
       "<tr>\n",
       "  <th>Constant</th> <td>  -14.3536</td> <td>   10.924</td> <td>   -1.314</td> <td> 0.192</td> <td>  -36.067</td> <td>    7.359</td>\n",
       "</tr>\n",
       "<tr>\n",
       "  <th>X1</th>       <td>    1.2764</td> <td>    0.125</td> <td>   10.229</td> <td> 0.000</td> <td>    1.028</td> <td>    1.524</td>\n",
       "</tr>\n",
       "<tr>\n",
       "  <th>X2</th>       <td>    1.6966</td> <td>    0.056</td> <td>   30.110</td> <td> 0.000</td> <td>    1.585</td> <td>    1.809</td>\n",
       "</tr>\n",
       "<tr>\n",
       "  <th>X3</th>       <td>    0.9205</td> <td>    0.095</td> <td>    9.679</td> <td> 0.000</td> <td>    0.731</td> <td>    1.110</td>\n",
       "</tr>\n",
       "<tr>\n",
       "  <th>X4</th>       <td>    0.6069</td> <td>    0.137</td> <td>    4.421</td> <td> 0.000</td> <td>    0.334</td> <td>    0.880</td>\n",
       "</tr>\n",
       "<tr>\n",
       "  <th>X5</th>       <td>   -2.1395</td> <td>    0.055</td> <td>  -38.989</td> <td> 0.000</td> <td>   -2.249</td> <td>   -2.030</td>\n",
       "</tr>\n",
       "<tr>\n",
       "  <th>X6</th>       <td>   -0.7422</td> <td>    0.100</td> <td>   -7.396</td> <td> 0.000</td> <td>   -0.942</td> <td>   -0.543</td>\n",
       "</tr>\n",
       "<tr>\n",
       "  <th>X7</th>       <td>   -0.0938</td> <td>    0.135</td> <td>   -0.694</td> <td> 0.490</td> <td>   -0.362</td> <td>    0.175</td>\n",
       "</tr>\n",
       "<tr>\n",
       "  <th>X8</th>       <td>   -0.0232</td> <td>    0.053</td> <td>   -0.437</td> <td> 0.663</td> <td>   -0.129</td> <td>    0.082</td>\n",
       "</tr>\n",
       "<tr>\n",
       "  <th>X9</th>       <td>   -0.1420</td> <td>    0.093</td> <td>   -1.527</td> <td> 0.130</td> <td>   -0.327</td> <td>    0.043</td>\n",
       "</tr>\n",
       "<tr>\n",
       "  <th>X10</th>      <td>    0.0098</td> <td>    0.126</td> <td>    0.078</td> <td> 0.938</td> <td>   -0.241</td> <td>    0.261</td>\n",
       "</tr>\n",
       "<tr>\n",
       "  <th>X11</th>      <td>    0.0512</td> <td>    0.058</td> <td>    0.882</td> <td> 0.380</td> <td>   -0.064</td> <td>    0.167</td>\n",
       "</tr>\n",
       "<tr>\n",
       "  <th>X12</th>      <td>   -0.1332</td> <td>    0.092</td> <td>   -1.442</td> <td> 0.153</td> <td>   -0.317</td> <td>    0.050</td>\n",
       "</tr>\n",
       "</table>\n",
       "<table class=\"simpletable\">\n",
       "<tr>\n",
       "  <th>Omnibus:</th>       <td> 0.600</td> <th>  Durbin-Watson:     </th> <td>   1.700</td>\n",
       "</tr>\n",
       "<tr>\n",
       "  <th>Prob(Omnibus):</th> <td> 0.741</td> <th>  Jarque-Bera (JB):  </th> <td>   0.382</td>\n",
       "</tr>\n",
       "<tr>\n",
       "  <th>Skew:</th>          <td>-0.149</td> <th>  Prob(JB):          </th> <td>   0.826</td>\n",
       "</tr>\n",
       "<tr>\n",
       "  <th>Kurtosis:</th>      <td> 3.049</td> <th>  Cond. No.          </th> <td>1.05e+03</td>\n",
       "</tr>\n",
       "</table><br/><br/>Notes:<br/>[1] Standard Errors assume that the covariance matrix of the errors is correctly specified.<br/>[2] The condition number is large, 1.05e+03. This might indicate that there are<br/>strong multicollinearity or other numerical problems."
      ],
      "text/latex": [
       "\\begin{center}\n",
       "\\begin{tabular}{lclc}\n",
       "\\toprule\n",
       "\\textbf{Dep. Variable:}    &        y         & \\textbf{  R-squared:         } &     0.975   \\\\\n",
       "\\textbf{Model:}            &       OLS        & \\textbf{  Adj. R-squared:    } &     0.972   \\\\\n",
       "\\textbf{Method:}           &  Least Squares   & \\textbf{  F-statistic:       } &     285.1   \\\\\n",
       "\\textbf{Date:}             & Mon, 30 Sep 2024 & \\textbf{  Prob (F-statistic):} &  2.32e-64   \\\\\n",
       "\\textbf{Time:}             &     12:40:06     & \\textbf{  Log-Likelihood:    } &   -369.60   \\\\\n",
       "\\textbf{No. Observations:} &         100      & \\textbf{  AIC:               } &     765.2   \\\\\n",
       "\\textbf{Df Residuals:}     &          87      & \\textbf{  BIC:               } &     799.1   \\\\\n",
       "\\textbf{Df Model:}         &          12      & \\textbf{                     } &             \\\\\n",
       "\\textbf{Covariance Type:}  &    nonrobust     & \\textbf{                     } &             \\\\\n",
       "\\bottomrule\n",
       "\\end{tabular}\n",
       "\\begin{tabular}{lcccccc}\n",
       "                  & \\textbf{coef} & \\textbf{std err} & \\textbf{t} & \\textbf{P$> |$t$|$} & \\textbf{[0.025} & \\textbf{0.975]}  \\\\\n",
       "\\midrule\n",
       "\\textbf{Constant} &     -14.3536  &       10.924     &    -1.314  &         0.192        &      -36.067    &        7.359     \\\\\n",
       "\\textbf{X1}       &       1.2764  &        0.125     &    10.229  &         0.000        &        1.028    &        1.524     \\\\\n",
       "\\textbf{X2}       &       1.6966  &        0.056     &    30.110  &         0.000        &        1.585    &        1.809     \\\\\n",
       "\\textbf{X3}       &       0.9205  &        0.095     &     9.679  &         0.000        &        0.731    &        1.110     \\\\\n",
       "\\textbf{X4}       &       0.6069  &        0.137     &     4.421  &         0.000        &        0.334    &        0.880     \\\\\n",
       "\\textbf{X5}       &      -2.1395  &        0.055     &   -38.989  &         0.000        &       -2.249    &       -2.030     \\\\\n",
       "\\textbf{X6}       &      -0.7422  &        0.100     &    -7.396  &         0.000        &       -0.942    &       -0.543     \\\\\n",
       "\\textbf{X7}       &      -0.0938  &        0.135     &    -0.694  &         0.490        &       -0.362    &        0.175     \\\\\n",
       "\\textbf{X8}       &      -0.0232  &        0.053     &    -0.437  &         0.663        &       -0.129    &        0.082     \\\\\n",
       "\\textbf{X9}       &      -0.1420  &        0.093     &    -1.527  &         0.130        &       -0.327    &        0.043     \\\\\n",
       "\\textbf{X10}      &       0.0098  &        0.126     &     0.078  &         0.938        &       -0.241    &        0.261     \\\\\n",
       "\\textbf{X11}      &       0.0512  &        0.058     &     0.882  &         0.380        &       -0.064    &        0.167     \\\\\n",
       "\\textbf{X12}      &      -0.1332  &        0.092     &    -1.442  &         0.153        &       -0.317    &        0.050     \\\\\n",
       "\\bottomrule\n",
       "\\end{tabular}\n",
       "\\begin{tabular}{lclc}\n",
       "\\textbf{Omnibus:}       &  0.600 & \\textbf{  Durbin-Watson:     } &    1.700  \\\\\n",
       "\\textbf{Prob(Omnibus):} &  0.741 & \\textbf{  Jarque-Bera (JB):  } &    0.382  \\\\\n",
       "\\textbf{Skew:}          & -0.149 & \\textbf{  Prob(JB):          } &    0.826  \\\\\n",
       "\\textbf{Kurtosis:}      &  3.049 & \\textbf{  Cond. No.          } & 1.05e+03  \\\\\n",
       "\\bottomrule\n",
       "\\end{tabular}\n",
       "%\\caption{OLS Regression Results}\n",
       "\\end{center}\n",
       "\n",
       "Notes: \\newline\n",
       " [1] Standard Errors assume that the covariance matrix of the errors is correctly specified. \\newline\n",
       " [2] The condition number is large, 1.05e+03. This might indicate that there are \\newline\n",
       " strong multicollinearity or other numerical problems."
      ],
      "text/plain": [
       "<class 'statsmodels.iolib.summary.Summary'>\n",
       "\"\"\"\n",
       "                            OLS Regression Results                            \n",
       "==============================================================================\n",
       "Dep. Variable:                      y   R-squared:                       0.975\n",
       "Model:                            OLS   Adj. R-squared:                  0.972\n",
       "Method:                 Least Squares   F-statistic:                     285.1\n",
       "Date:                Mon, 30 Sep 2024   Prob (F-statistic):           2.32e-64\n",
       "Time:                        12:40:06   Log-Likelihood:                -369.60\n",
       "No. Observations:                 100   AIC:                             765.2\n",
       "Df Residuals:                      87   BIC:                             799.1\n",
       "Df Model:                          12                                         \n",
       "Covariance Type:            nonrobust                                         \n",
       "==============================================================================\n",
       "                 coef    std err          t      P>|t|      [0.025      0.975]\n",
       "------------------------------------------------------------------------------\n",
       "Constant     -14.3536     10.924     -1.314      0.192     -36.067       7.359\n",
       "X1             1.2764      0.125     10.229      0.000       1.028       1.524\n",
       "X2             1.6966      0.056     30.110      0.000       1.585       1.809\n",
       "X3             0.9205      0.095      9.679      0.000       0.731       1.110\n",
       "X4             0.6069      0.137      4.421      0.000       0.334       0.880\n",
       "X5            -2.1395      0.055    -38.989      0.000      -2.249      -2.030\n",
       "X6            -0.7422      0.100     -7.396      0.000      -0.942      -0.543\n",
       "X7            -0.0938      0.135     -0.694      0.490      -0.362       0.175\n",
       "X8            -0.0232      0.053     -0.437      0.663      -0.129       0.082\n",
       "X9            -0.1420      0.093     -1.527      0.130      -0.327       0.043\n",
       "X10            0.0098      0.126      0.078      0.938      -0.241       0.261\n",
       "X11            0.0512      0.058      0.882      0.380      -0.064       0.167\n",
       "X12           -0.1332      0.092     -1.442      0.153      -0.317       0.050\n",
       "==============================================================================\n",
       "Omnibus:                        0.600   Durbin-Watson:                   1.700\n",
       "Prob(Omnibus):                  0.741   Jarque-Bera (JB):                0.382\n",
       "Skew:                          -0.149   Prob(JB):                        0.826\n",
       "Kurtosis:                       3.049   Cond. No.                     1.05e+03\n",
       "==============================================================================\n",
       "\n",
       "Notes:\n",
       "[1] Standard Errors assume that the covariance matrix of the errors is correctly specified.\n",
       "[2] The condition number is large, 1.05e+03. This might indicate that there are\n",
       "strong multicollinearity or other numerical problems.\n",
       "\"\"\""
      ]
     },
     "execution_count": 8,
     "metadata": {},
     "output_type": "execute_result"
    }
   ],
   "source": [
    "model_reg = sm.OLS(y,X_ext).fit()\n",
    "model_reg.summary()"
   ]
  },
  {
   "cell_type": "code",
   "execution_count": 9,
   "id": "4bf6e43b",
   "metadata": {},
   "outputs": [
    {
     "data": {
      "text/plain": [
       "array([ 1.26370476,  1.69677833,  0.91024211,  0.58758196, -2.13864493,\n",
       "       -0.73417723, -0.07855273, -0.02265897, -0.13914921,  0.        ,\n",
       "        0.0505828 , -0.13011214])"
      ]
     },
     "execution_count": 9,
     "metadata": {},
     "output_type": "execute_result"
    }
   ],
   "source": [
    "# When we input the matrix, we don't need to add the column of ones because \\\n",
    "# Lasso automatically takes it into account\n",
    "\n",
    "X_ext = X_ext.drop(columns=['Constant'])\n",
    "model_lasso = lm.Lasso(alpha=1).fit(X_ext,y)\n",
    "model_lasso.coef_"
   ]
  },
  {
   "cell_type": "code",
   "execution_count": 10,
   "id": "d9778204",
   "metadata": {},
   "outputs": [
    {
     "data": {
      "text/plain": [
       "array([ 1.14973217,  1.69924372,  0.81150393,  0.4300906 , -2.13010932,\n",
       "       -0.66266055, -0.        , -0.02167832, -0.10376503, -0.        ,\n",
       "        0.04472617, -0.09614228])"
      ]
     },
     "execution_count": 10,
     "metadata": {},
     "output_type": "execute_result"
    }
   ],
   "source": [
    "model_lasso = lm.Lasso(alpha=10).fit(X_ext,y)\n",
    "model_lasso.coef_"
   ]
  },
  {
   "cell_type": "code",
   "execution_count": 11,
   "id": "7b10d4f6",
   "metadata": {},
   "outputs": [
    {
     "data": {
      "text/plain": [
       "array([ 1.27464241,  1.69625134,  0.91940855,  0.60541907, -2.13895268,\n",
       "       -0.74188045, -0.0937838 , -0.02337289, -0.14237055,  0.0096495 ,\n",
       "        0.05150843, -0.1332167 ])"
      ]
     },
     "execution_count": 11,
     "metadata": {},
     "output_type": "execute_result"
    }
   ],
   "source": [
    "# We now apply Ridge Regression to our data\n",
    "\n",
    "model_ridge = lm.Ridge(alpha=10).fit(X_ext,y)\n",
    "model_ridge.coef_"
   ]
  },
  {
   "cell_type": "code",
   "execution_count": 12,
   "id": "16de3321",
   "metadata": {},
   "outputs": [
    {
     "data": {
      "text/plain": [
       "array([ 0.57570239,  1.38202373,  0.4455731 ,  0.17349253, -1.72103565,\n",
       "       -0.53363709, -0.11065111, -0.09111359, -0.23608019, -0.02907018,\n",
       "        0.16976035, -0.07961734])"
      ]
     },
     "execution_count": 12,
     "metadata": {},
     "output_type": "execute_result"
    }
   ],
   "source": [
    "model_ridge = lm.Ridge(alpha=10000).fit(X_ext,y)\n",
    "model_ridge.coef_"
   ]
  },
  {
   "cell_type": "code",
   "execution_count": null,
   "id": "b0628168",
   "metadata": {},
   "outputs": [],
   "source": []
  }
 ],
 "metadata": {
  "kernelspec": {
   "display_name": "Python 3 (ipykernel)",
   "language": "python",
   "name": "python3"
  },
  "language_info": {
   "codemirror_mode": {
    "name": "ipython",
    "version": 3
   },
   "file_extension": ".py",
   "mimetype": "text/x-python",
   "name": "python",
   "nbconvert_exporter": "python",
   "pygments_lexer": "ipython3",
   "version": "3.9.6"
  }
 },
 "nbformat": 4,
 "nbformat_minor": 5
}
