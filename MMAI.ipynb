{
 "cells": [
  {
   "cell_type": "code",
   "execution_count": 1,
   "metadata": {},
   "outputs": [],
   "source": [
    "import pandas as pd\n",
    "import numpy as np\n",
    "import matplotlib.pyplot as plt\n",
    "import seaborn as sns\n",
    "from sklearn.linear_model import LogisticRegression\n",
    "from sklearn.neighbors import KNeighborsClassifier, KNeighborsRegressor\n",
    "from sklearn.naive_bayes import GaussianNB\n",
    "from sklearn.model_selection import train_test_split, cross_val_score, GridSearchCV #GridSearch is for hyperparameter tuning\n",
    "from sklearn.preprocessing import OneHotEncoder, MinMaxScaler\n",
    "from sklearn.pipeline import Pipeline\n",
    "from sklearn.compose import ColumnTransformer\n",
    "from sklearn.metrics import f1_score, accuracy_score, precision_score, recall_score, PrecisionRecallDisplay, RocCurveDisplay"
   ]
  },
  {
   "cell_type": "code",
   "execution_count": 3,
   "metadata": {},
   "outputs": [
    {
     "name": "stdout",
     "output_type": "stream",
     "text": [
      "Defaulting to user installation because normal site-packages is not writeable\n",
      "Collecting statsmodels\n",
      "  Downloading statsmodels-0.14.2-cp39-cp39-macosx_10_9_x86_64.whl.metadata (9.2 kB)\n",
      "Collecting dmba\n",
      "  Downloading dmba-0.2.4-py3-none-any.whl.metadata (1.9 kB)\n",
      "Requirement already satisfied: numpy>=1.22.3 in /Users/owner/Library/Python/3.9/lib/python/site-packages (from statsmodels) (2.0.0)\n",
      "Requirement already satisfied: scipy!=1.9.2,>=1.8 in /Users/owner/Library/Python/3.9/lib/python/site-packages (from statsmodels) (1.13.1)\n",
      "Requirement already satisfied: pandas!=2.1.0,>=1.4 in /Users/owner/Library/Python/3.9/lib/python/site-packages (from statsmodels) (2.2.2)\n",
      "Collecting patsy>=0.5.6 (from statsmodels)\n",
      "  Downloading patsy-0.5.6-py2.py3-none-any.whl.metadata (3.5 kB)\n",
      "Requirement already satisfied: packaging>=21.3 in /Users/owner/Library/Python/3.9/lib/python/site-packages (from statsmodels) (24.1)\n",
      "Collecting graphviz (from dmba)\n",
      "  Downloading graphviz-0.20.3-py3-none-any.whl.metadata (12 kB)\n",
      "Requirement already satisfied: matplotlib in /Users/owner/Library/Python/3.9/lib/python/site-packages (from dmba) (3.9.1)\n",
      "Requirement already satisfied: scikit-learn in /Users/owner/Library/Python/3.9/lib/python/site-packages (from dmba) (1.5.1)\n",
      "Requirement already satisfied: python-dateutil>=2.8.2 in /Users/owner/Library/Python/3.9/lib/python/site-packages (from pandas!=2.1.0,>=1.4->statsmodels) (2.9.0.post0)\n",
      "Requirement already satisfied: pytz>=2020.1 in /Users/owner/Library/Python/3.9/lib/python/site-packages (from pandas!=2.1.0,>=1.4->statsmodels) (2024.1)\n",
      "Requirement already satisfied: tzdata>=2022.7 in /Users/owner/Library/Python/3.9/lib/python/site-packages (from pandas!=2.1.0,>=1.4->statsmodels) (2024.1)\n",
      "Requirement already satisfied: six in /Library/Developer/CommandLineTools/Library/Frameworks/Python3.framework/Versions/3.9/lib/python3.9/site-packages (from patsy>=0.5.6->statsmodels) (1.15.0)\n",
      "Requirement already satisfied: contourpy>=1.0.1 in /Users/owner/Library/Python/3.9/lib/python/site-packages (from matplotlib->dmba) (1.2.1)\n",
      "Requirement already satisfied: cycler>=0.10 in /Users/owner/Library/Python/3.9/lib/python/site-packages (from matplotlib->dmba) (0.12.1)\n",
      "Requirement already satisfied: fonttools>=4.22.0 in /Users/owner/Library/Python/3.9/lib/python/site-packages (from matplotlib->dmba) (4.53.1)\n",
      "Requirement already satisfied: kiwisolver>=1.3.1 in /Users/owner/Library/Python/3.9/lib/python/site-packages (from matplotlib->dmba) (1.4.5)\n",
      "Requirement already satisfied: pillow>=8 in /Users/owner/Library/Python/3.9/lib/python/site-packages (from matplotlib->dmba) (10.4.0)\n",
      "Requirement already satisfied: pyparsing>=2.3.1 in /Users/owner/Library/Python/3.9/lib/python/site-packages (from matplotlib->dmba) (3.1.2)\n",
      "Requirement already satisfied: importlib-resources>=3.2.0 in /Users/owner/Library/Python/3.9/lib/python/site-packages (from matplotlib->dmba) (6.4.0)\n",
      "Requirement already satisfied: joblib>=1.2.0 in /Users/owner/Library/Python/3.9/lib/python/site-packages (from scikit-learn->dmba) (1.4.2)\n",
      "Requirement already satisfied: threadpoolctl>=3.1.0 in /Users/owner/Library/Python/3.9/lib/python/site-packages (from scikit-learn->dmba) (3.5.0)\n",
      "Requirement already satisfied: zipp>=3.1.0 in /Users/owner/Library/Python/3.9/lib/python/site-packages (from importlib-resources>=3.2.0->matplotlib->dmba) (3.19.2)\n",
      "Downloading statsmodels-0.14.2-cp39-cp39-macosx_10_9_x86_64.whl (10.5 MB)\n",
      "\u001b[2K   \u001b[90m━━━━━━━━━━━━━━━━━━━━━━━━━━━━━━━━━━━━━━━━\u001b[0m \u001b[32m10.5/10.5 MB\u001b[0m \u001b[31m1.8 MB/s\u001b[0m eta \u001b[36m0:00:00\u001b[0m00:01\u001b[0m00:01\u001b[0m\n",
      "\u001b[?25hDownloading dmba-0.2.4-py3-none-any.whl (11.8 MB)\n",
      "\u001b[2K   \u001b[90m━━━━━━━━━━━━━━━━━━━━━━━━━━━━━━━━━━━━━━━━\u001b[0m \u001b[32m11.8/11.8 MB\u001b[0m \u001b[31m1.8 MB/s\u001b[0m eta \u001b[36m0:00:00\u001b[0m00:01\u001b[0m00:01\u001b[0m\n",
      "\u001b[?25hDownloading patsy-0.5.6-py2.py3-none-any.whl (233 kB)\n",
      "\u001b[2K   \u001b[90m━━━━━━━━━━━━━━━━━━━━━━━━━━━━━━━━━━━━━━━━\u001b[0m \u001b[32m233.9/233.9 kB\u001b[0m \u001b[31m1.9 MB/s\u001b[0m eta \u001b[36m0:00:00\u001b[0ma \u001b[36m0:00:01\u001b[0m\n",
      "\u001b[?25hDownloading graphviz-0.20.3-py3-none-any.whl (47 kB)\n",
      "\u001b[2K   \u001b[90m━━━━━━━━━━━━━━━━━━━━━━━━━━━━━━━━━━━━━━━━\u001b[0m \u001b[32m47.1/47.1 kB\u001b[0m \u001b[31m1.2 MB/s\u001b[0m eta \u001b[36m0:00:00\u001b[0m\n",
      "\u001b[?25hInstalling collected packages: patsy, graphviz, statsmodels, dmba\n",
      "Successfully installed dmba-0.2.4 graphviz-0.20.3 patsy-0.5.6 statsmodels-0.14.2\n"
     ]
    }
   ],
   "source": [
    "!pip install statsmodels dmba\n"
   ]
  },
  {
   "cell_type": "code",
   "execution_count": 4,
   "metadata": {},
   "outputs": [],
   "source": [
    "from pathlib import Path\n",
    "\n",
    "import pandas as pd\n",
    "from sklearn.model_selection import train_test_split\n",
    "from sklearn.linear_model import LinearRegression, Lasso, Ridge, LassoCV, BayesianRidge\n",
    "import statsmodels.formula.api as sm\n",
    "import matplotlib.pylab as plt\n",
    "\n",
    "import dmba\n",
    "from dmba import regressionSummary, exhaustive_search\n",
    "from dmba import backward_elimination, forward_selection, stepwise_selection\n",
    "from dmba import adjusted_r2_score, AIC_score, BIC_score\n",
    "\n",
    "%matplotlib inline"
   ]
  },
  {
   "cell_type": "code",
   "execution_count": 7,
   "metadata": {},
   "outputs": [
    {
     "name": "stdout",
     "output_type": "stream",
     "text": [
      "Defaulting to user installation because normal site-packages is not writeable\n",
      "Collecting openpyxl\n",
      "  Downloading openpyxl-3.1.5-py2.py3-none-any.whl.metadata (2.5 kB)\n",
      "Collecting et-xmlfile (from openpyxl)\n",
      "  Downloading et_xmlfile-1.1.0-py3-none-any.whl.metadata (1.8 kB)\n",
      "Downloading openpyxl-3.1.5-py2.py3-none-any.whl (250 kB)\n",
      "\u001b[2K   \u001b[90m━━━━━━━━━━━━━━━━━━━━━━━━━━━━━━━━━━━━━━━━\u001b[0m \u001b[32m250.9/250.9 kB\u001b[0m \u001b[31m1.8 MB/s\u001b[0m eta \u001b[36m0:00:00\u001b[0m00:01\u001b[0m00:01\u001b[0m\n",
      "\u001b[?25hDownloading et_xmlfile-1.1.0-py3-none-any.whl (4.7 kB)\n",
      "Installing collected packages: et-xmlfile, openpyxl\n",
      "Successfully installed et-xmlfile-1.1.0 openpyxl-3.1.5\n"
     ]
    }
   ],
   "source": [
    "!pip install openpyxl\n"
   ]
  },
  {
   "cell_type": "code",
   "execution_count": 8,
   "metadata": {},
   "outputs": [],
   "source": [
    "# read data\n",
    "\n",
    "df = pd.read_excel('/Users/Owner/Desktop/AI-Human-PewData.xlsx')"
   ]
  },
  {
   "cell_type": "code",
   "execution_count": 9,
   "metadata": {},
   "outputs": [],
   "source": [
    "# add predictors and response variable to X and y\n",
    "c_df = df.iloc[0:10260]\n",
    "\n",
    "predictors = ['F_METRO', 'F_CREGION', 'F_AGECAT','F_GENDER','F_EDUCCAT','F_EDUCCAT2','F_RELIG','F_PARTY_FINAL','F_INC_SDT1']\n",
    "outcome = 'SMALG2_W99'"
   ]
  },
  {
   "cell_type": "code",
   "execution_count": 10,
   "metadata": {},
   "outputs": [],
   "source": [
    "# add predictors and response variable to X and y\n",
    "X = c_df[predictors]\n",
    "y = c_df[outcome]\n",
    "clean_df = c_df[predictors + [outcome]]"
   ]
  },
  {
   "cell_type": "code",
   "execution_count": 11,
   "metadata": {},
   "outputs": [
    {
     "name": "stderr",
     "output_type": "stream",
     "text": [
      "/var/folders/j6/k6gy0m_x02b05c849w1998_c0000gn/T/ipykernel_4031/604183416.py:3: SettingWithCopyWarning: \n",
      "A value is trying to be set on a copy of a slice from a DataFrame\n",
      "\n",
      "See the caveats in the documentation: https://pandas.pydata.org/pandas-docs/stable/user_guide/indexing.html#returning-a-view-versus-a-copy\n",
      "  clean_df.replace(\"Refused\", pd.NA, inplace=True)\n"
     ]
    }
   ],
   "source": [
    "# Replace \"refused\" responses with NaN\n",
    "# Assuming \"refused\" is represented as the string \"Refused\"\n",
    "clean_df.replace(\"Refused\", pd.NA, inplace=True)\n",
    "\n",
    "clean_df = clean_df.dropna()"
   ]
  },
  {
   "cell_type": "code",
   "execution_count": 12,
   "metadata": {},
   "outputs": [],
   "source": [
    "# merge relative coloums\n",
    "clean_df[\"F_EDU\"] = clean_df['F_EDUCCAT'] + ' : ' + clean_df['F_EDUCCAT2']\n",
    "clean_df['F_LOCAL'] = clean_df['F_METRO'] + ' : ' + clean_df['F_CREGION']"
   ]
  },
  {
   "cell_type": "code",
   "execution_count": 15,
   "metadata": {},
   "outputs": [
    {
     "name": "stdout",
     "output_type": "stream",
     "text": [
      "Defaulting to user installation because normal site-packages is not writeable\n",
      "Requirement already satisfied: dmba in /Users/owner/Library/Python/3.9/lib/python/site-packages (0.2.4)\n",
      "Requirement already satisfied: graphviz in /Users/owner/Library/Python/3.9/lib/python/site-packages (from dmba) (0.20.3)\n",
      "Requirement already satisfied: matplotlib in /Users/owner/Library/Python/3.9/lib/python/site-packages (from dmba) (3.9.1)\n",
      "Requirement already satisfied: numpy in /Users/owner/Library/Python/3.9/lib/python/site-packages (from dmba) (2.0.0)\n",
      "Requirement already satisfied: pandas in /Users/owner/Library/Python/3.9/lib/python/site-packages (from dmba) (2.2.2)\n",
      "Requirement already satisfied: scikit-learn in /Users/owner/Library/Python/3.9/lib/python/site-packages (from dmba) (1.5.1)\n",
      "Requirement already satisfied: scipy in /Users/owner/Library/Python/3.9/lib/python/site-packages (from dmba) (1.13.1)\n",
      "Requirement already satisfied: contourpy>=1.0.1 in /Users/owner/Library/Python/3.9/lib/python/site-packages (from matplotlib->dmba) (1.2.1)\n",
      "Requirement already satisfied: cycler>=0.10 in /Users/owner/Library/Python/3.9/lib/python/site-packages (from matplotlib->dmba) (0.12.1)\n",
      "Requirement already satisfied: fonttools>=4.22.0 in /Users/owner/Library/Python/3.9/lib/python/site-packages (from matplotlib->dmba) (4.53.1)\n",
      "Requirement already satisfied: kiwisolver>=1.3.1 in /Users/owner/Library/Python/3.9/lib/python/site-packages (from matplotlib->dmba) (1.4.5)\n",
      "Requirement already satisfied: packaging>=20.0 in /Users/owner/Library/Python/3.9/lib/python/site-packages (from matplotlib->dmba) (24.1)\n",
      "Requirement already satisfied: pillow>=8 in /Users/owner/Library/Python/3.9/lib/python/site-packages (from matplotlib->dmba) (10.4.0)\n",
      "Requirement already satisfied: pyparsing>=2.3.1 in /Users/owner/Library/Python/3.9/lib/python/site-packages (from matplotlib->dmba) (3.1.2)\n",
      "Requirement already satisfied: python-dateutil>=2.7 in /Users/owner/Library/Python/3.9/lib/python/site-packages (from matplotlib->dmba) (2.9.0.post0)\n",
      "Requirement already satisfied: importlib-resources>=3.2.0 in /Users/owner/Library/Python/3.9/lib/python/site-packages (from matplotlib->dmba) (6.4.0)\n",
      "Requirement already satisfied: pytz>=2020.1 in /Users/owner/Library/Python/3.9/lib/python/site-packages (from pandas->dmba) (2024.1)\n",
      "Requirement already satisfied: tzdata>=2022.7 in /Users/owner/Library/Python/3.9/lib/python/site-packages (from pandas->dmba) (2024.1)\n",
      "Requirement already satisfied: joblib>=1.2.0 in /Users/owner/Library/Python/3.9/lib/python/site-packages (from scikit-learn->dmba) (1.4.2)\n",
      "Requirement already satisfied: threadpoolctl>=3.1.0 in /Users/owner/Library/Python/3.9/lib/python/site-packages (from scikit-learn->dmba) (3.5.0)\n",
      "Requirement already satisfied: zipp>=3.1.0 in /Users/owner/Library/Python/3.9/lib/python/site-packages (from importlib-resources>=3.2.0->matplotlib->dmba) (3.19.2)\n",
      "Requirement already satisfied: six>=1.5 in /Library/Developer/CommandLineTools/Library/Frameworks/Python3.framework/Versions/3.9/lib/python3.9/site-packages (from python-dateutil>=2.7->matplotlib->dmba) (1.15.0)\n"
     ]
    }
   ],
   "source": [
    "# 确保dmba模块已安装\n",
    "!pip install dmba\n",
    "\n",
    "# 导入所需模块\n",
    "from pathlib import Path\n",
    "import pandas as pd\n",
    "from sklearn.model_selection import train_test_split\n",
    "from sklearn.linear_model import LinearRegression, Lasso, Ridge, LassoCV, BayesianRidge\n",
    "import statsmodels.formula.api as sm\n",
    "import matplotlib.pylab as plt\n",
    "\n",
    "import dmba\n",
    "from dmba import regressionSummary, exhaustive_search\n",
    "from dmba import backward_elimination, forward_selection, stepwise_selection\n",
    "from dmba import adjusted_r2_score, AIC_score, BIC_score\n",
    "\n",
    "from sklearn.metrics import mean_squared_error, r2_score\n",
    "from sklearn.preprocessing import LabelEncoder\n"
   ]
  },
  {
   "cell_type": "code",
   "execution_count": 16,
   "metadata": {},
   "outputs": [
    {
     "name": "stdout",
     "output_type": "stream",
     "text": [
      "Defaulting to user installation because normal site-packages is not writeable\n",
      "Requirement already satisfied: dmba in /Users/owner/Library/Python/3.9/lib/python/site-packages (0.2.4)\n",
      "Requirement already satisfied: graphviz in /Users/owner/Library/Python/3.9/lib/python/site-packages (from dmba) (0.20.3)\n",
      "Requirement already satisfied: matplotlib in /Users/owner/Library/Python/3.9/lib/python/site-packages (from dmba) (3.9.1)\n",
      "Requirement already satisfied: numpy in /Users/owner/Library/Python/3.9/lib/python/site-packages (from dmba) (2.0.0)\n",
      "Requirement already satisfied: pandas in /Users/owner/Library/Python/3.9/lib/python/site-packages (from dmba) (2.2.2)\n",
      "Requirement already satisfied: scikit-learn in /Users/owner/Library/Python/3.9/lib/python/site-packages (from dmba) (1.5.1)\n",
      "Requirement already satisfied: scipy in /Users/owner/Library/Python/3.9/lib/python/site-packages (from dmba) (1.13.1)\n",
      "Requirement already satisfied: contourpy>=1.0.1 in /Users/owner/Library/Python/3.9/lib/python/site-packages (from matplotlib->dmba) (1.2.1)\n",
      "Requirement already satisfied: cycler>=0.10 in /Users/owner/Library/Python/3.9/lib/python/site-packages (from matplotlib->dmba) (0.12.1)\n",
      "Requirement already satisfied: fonttools>=4.22.0 in /Users/owner/Library/Python/3.9/lib/python/site-packages (from matplotlib->dmba) (4.53.1)\n",
      "Requirement already satisfied: kiwisolver>=1.3.1 in /Users/owner/Library/Python/3.9/lib/python/site-packages (from matplotlib->dmba) (1.4.5)\n",
      "Requirement already satisfied: packaging>=20.0 in /Users/owner/Library/Python/3.9/lib/python/site-packages (from matplotlib->dmba) (24.1)\n",
      "Requirement already satisfied: pillow>=8 in /Users/owner/Library/Python/3.9/lib/python/site-packages (from matplotlib->dmba) (10.4.0)\n",
      "Requirement already satisfied: pyparsing>=2.3.1 in /Users/owner/Library/Python/3.9/lib/python/site-packages (from matplotlib->dmba) (3.1.2)\n",
      "Requirement already satisfied: python-dateutil>=2.7 in /Users/owner/Library/Python/3.9/lib/python/site-packages (from matplotlib->dmba) (2.9.0.post0)\n",
      "Requirement already satisfied: importlib-resources>=3.2.0 in /Users/owner/Library/Python/3.9/lib/python/site-packages (from matplotlib->dmba) (6.4.0)\n",
      "Requirement already satisfied: pytz>=2020.1 in /Users/owner/Library/Python/3.9/lib/python/site-packages (from pandas->dmba) (2024.1)\n",
      "Requirement already satisfied: tzdata>=2022.7 in /Users/owner/Library/Python/3.9/lib/python/site-packages (from pandas->dmba) (2024.1)\n",
      "Requirement already satisfied: joblib>=1.2.0 in /Users/owner/Library/Python/3.9/lib/python/site-packages (from scikit-learn->dmba) (1.4.2)\n",
      "Requirement already satisfied: threadpoolctl>=3.1.0 in /Users/owner/Library/Python/3.9/lib/python/site-packages (from scikit-learn->dmba) (3.5.0)\n",
      "Requirement already satisfied: zipp>=3.1.0 in /Users/owner/Library/Python/3.9/lib/python/site-packages (from importlib-resources>=3.2.0->matplotlib->dmba) (3.19.2)\n",
      "Requirement already satisfied: six>=1.5 in /Library/Developer/CommandLineTools/Library/Frameworks/Python3.framework/Versions/3.9/lib/python3.9/site-packages (from python-dateutil>=2.7->matplotlib->dmba) (1.15.0)\n",
      "Mean Squared Error: 0.5707593442488851\n",
      "R^2 Score: 0.053922350425707366\n",
      "Model Coefficients: [-2.15009350e+13  2.68549757e+13 -1.12861794e+13 -1.47001505e+13\n",
      "  1.98416713e-02 -4.82846499e-02 -2.29594239e-02  1.55636345e-01\n",
      "  1.47875638e-01  1.03907699e+13  3.87378382e+12  1.89505977e+13\n",
      "  4.41975023e+12  3.67764423e+12  8.33928867e+12  6.58368506e+12\n",
      " -4.12553842e-03  4.76294460e-02 -1.67644444e-01 -7.49083355e-02\n",
      "  3.00286100e-02 -1.76974573e-01 -2.91563636e-02 -1.44568727e-01\n",
      " -1.44026540e-01 -7.79052537e-02 -2.59442846e-02 -1.26639702e-01\n",
      " -3.31913732e-01 -1.33444618e-01  8.14366432e-02  1.15855874e-02\n",
      "  3.55573975e-02  6.72036389e-02 -3.30573777e-02  8.66559388e-02\n",
      "  3.32953171e-02  2.79082657e-02  1.06113090e+13  4.14007752e+12\n",
      "  4.88218352e+12  1.50768139e+13  8.49312881e+12 -2.68549757e+13\n",
      "  1.12861794e+13  1.47001505e+13  2.15009350e+13 -5.35404067e+12\n",
      "  3.27871144e+13  3.62010855e+13]\n"
     ]
    }
   ],
   "source": [
    "# 确保dmba模块已安装\n",
    "!pip install dmba\n",
    "\n",
    "# 导入所需模块\n",
    "from pathlib import Path\n",
    "import pandas as pd\n",
    "from sklearn.model_selection import train_test_split\n",
    "from sklearn.linear_model import LinearRegression, Lasso, Ridge, LassoCV, BayesianRidge\n",
    "import statsmodels.formula.api as sm\n",
    "import matplotlib.pylab as plt\n",
    "\n",
    "import dmba\n",
    "from dmba import regressionSummary, exhaustive_search\n",
    "from dmba import backward_elimination, forward_selection, stepwise_selection\n",
    "from dmba import adjusted_r2_score, AIC_score, BIC_score\n",
    "\n",
    "\n",
    "\n",
    "\n",
    "# 分离目标变量(y)和特征变量(X)\n",
    "y = clean_df['SMALG2_W99']\n",
    "X = clean_df.drop('SMALG2_W99', axis=1)\n",
    "\n",
    "# 将目标变量进行编码，因为它包含分类字符串值\n",
    "from sklearn.preprocessing import LabelEncoder\n",
    "label_encoder = LabelEncoder()\n",
    "y_encoded = label_encoder.fit_transform(y)\n",
    "\n",
    "# 对特征变量进行编码\n",
    "X_encoded = pd.get_dummies(X, drop_first=True)\n",
    "\n",
    "# 将数据分为训练集和测试集\n",
    "X_train, X_test, y_train, y_test = train_test_split(X_encoded, y_encoded, test_size=0.2, random_state=42)\n",
    "\n",
    "# 创建和训练线性回归模型\n",
    "model = LinearRegression()\n",
    "model.fit(X_train, y_train)\n",
    "\n",
    "# 在测试集上进行预测\n",
    "y_pred = model.predict(X_test)\n",
    "\n",
    "# 计算性能指标\n",
    "mse = mean_squared_error(y_test, y_pred)\n",
    "r2 = r2_score(y_test, y_pred)\n",
    "\n",
    "# 输出性能指标和模型系数\n",
    "print(f'Mean Squared Error: {mse}')\n",
    "print(f'R^2 Score: {r2}')\n",
    "print(f'Model Coefficients: {model.coef_}')"
   ]
  },
  {
   "cell_type": "code",
   "execution_count": 18,
   "metadata": {},
   "outputs": [
    {
     "name": "stdout",
     "output_type": "stream",
     "text": [
      "Mean Squared Error: 0.5707593442488851\n",
      "R^2 Score: 0.053922350425707366\n",
      "Model Coefficients: [-2.15009350e+13  2.68549757e+13 -1.12861794e+13 -1.47001505e+13\n",
      "  1.98416713e-02 -4.82846499e-02 -2.29594239e-02  1.55636345e-01\n",
      "  1.47875638e-01  1.03907699e+13  3.87378382e+12  1.89505977e+13\n",
      "  4.41975023e+12  3.67764423e+12  8.33928867e+12  6.58368506e+12\n",
      " -4.12553842e-03  4.76294460e-02 -1.67644444e-01 -7.49083355e-02\n",
      "  3.00286100e-02 -1.76974573e-01 -2.91563636e-02 -1.44568727e-01\n",
      " -1.44026540e-01 -7.79052537e-02 -2.59442846e-02 -1.26639702e-01\n",
      " -3.31913732e-01 -1.33444618e-01  8.14366432e-02  1.15855874e-02\n",
      "  3.55573975e-02  6.72036389e-02 -3.30573777e-02  8.66559388e-02\n",
      "  3.32953171e-02  2.79082657e-02  1.06113090e+13  4.14007752e+12\n",
      "  4.88218352e+12  1.50768139e+13  8.49312881e+12 -2.68549757e+13\n",
      "  1.12861794e+13  1.47001505e+13  2.15009350e+13 -5.35404067e+12\n",
      "  3.27871144e+13  3.62010855e+13]\n"
     ]
    }
   ],
   "source": [
    "import pandas as pd\n",
    "from sklearn.model_selection import train_test_split\n",
    "from sklearn.linear_model import LinearRegression\n",
    "from sklearn.metrics import mean_squared_error, r2_score\n",
    "from sklearn.preprocessing import LabelEncoder\n",
    "\n",
    "\n",
    "\n",
    "# Separate the target variable (y) and the feature variables (X)\n",
    "y = clean_df['SMALG2_W99']\n",
    "X = clean_df.drop('SMALG2_W99', axis=1)\n",
    "\n",
    "# Encode the target variable (y) as it contains categorical string values\n",
    "label_encoder = LabelEncoder()\n",
    "y_encoded = label_encoder.fit_transform(y)\n",
    "\n",
    "# Encode categorical variables for feature variables\n",
    "X_encoded = pd.get_dummies(X, drop_first=True)\n",
    "\n",
    "# Split the data into training and testing sets\n",
    "X_train, X_test, y_train, y_test = train_test_split(X_encoded, y_encoded, test_size=0.2, random_state=42)\n",
    "\n",
    "# Create and train the linear regression model\n",
    "model = LinearRegression()\n",
    "model.fit(X_train, y_train)\n",
    "\n",
    "# Make predictions on the test set\n",
    "y_pred = model.predict(X_test)\n",
    "\n",
    "# Calculate the performance metrics\n",
    "mse = mean_squared_error(y_test, y_pred)\n",
    "r2 = r2_score(y_test, y_pred)\n",
    "\n",
    "# Output the performance metrics and the model coefficients\n",
    "print(f'Mean Squared Error: {mse}')\n",
    "print(f'R^2 Score: {r2}')\n",
    "print(f'Model Coefficients: {model.coef_}')"
   ]
  },
  {
   "cell_type": "code",
   "execution_count": 19,
   "metadata": {},
   "outputs": [],
   "source": [
    "from pathlib import Path\n",
    "\n",
    "import pandas as pd\n",
    "from sklearn.model_selection import train_test_split\n",
    "from sklearn.linear_model import LinearRegression, Lasso, Ridge, LassoCV, BayesianRidge\n",
    "import statsmodels.formula.api as sm\n",
    "import matplotlib.pylab as plt\n",
    "\n",
    "import dmba\n",
    "from dmba import regressionSummary, exhaustive_search\n",
    "from dmba import backward_elimination, forward_selection, stepwise_selection\n",
    "from dmba import adjusted_r2_score, AIC_score, BIC_score"
   ]
  },
  {
   "cell_type": "code",
   "execution_count": 21,
   "metadata": {},
   "outputs": [],
   "source": [
    "# partition data\n",
    "X = pd.get_dummies(clean_df[predictors], drop_first=True)\n",
    "y = clean_df[outcome]\n",
    "train_X, valid_X, train_y, valid_y = train_test_split(X, y, test_size=0.4, random_state=1)"
   ]
  },
  {
   "cell_type": "code",
   "execution_count": null,
   "metadata": {},
   "outputs": [],
   "source": [
    "# The initial model is the constant model - this requires special handling\n",
    "# in train_model and score_model\n",
    "def train_model(variables):\n",
    "    if len(variables) == 0:\n",
    "        return None\n",
    "    model = LinearRegression()\n",
    "    model.fit(train_X[variables], train_y)\n",
    "    return model\n",
    "\n",
    "def score_model(model, variables):\n",
    "    if len(variables) == 0:\n",
    "        return AIC_score(train_y, [train_y.mean()] * len(train_y), model, df=1)\n",
    "    return AIC_score(train_y, model.predict(train_X[variables]), model)\n",
    "\n",
    "best_model, best_variables = forward_selection(train_X.columns, train_model, score_model, verbose=True)\n",
    "\n",
    "print(best_variables)"
   ]
  },
  {
   "cell_type": "code",
   "execution_count": null,
   "metadata": {},
   "outputs": [],
   "source": [
    "OneHotEncoder().fit_transform(clean_df[['season', 'holiday', 'workingday']])"
   ]
  },
  {
   "cell_type": "code",
   "execution_count": 26,
   "metadata": {},
   "outputs": [],
   "source": [
    "pre = ['F_EDU','F_RELIG','F_PARTY_FINAL','F_INC_SDT1']\n",
    "X = clean_df[pre]\n",
    "clean_df['output'] = clean_df['SMALG2_W99'].apply(lambda x: 1 if x == 'Good idea for society' else 0)\n",
    "y = clean_df['output']\n"
   ]
  },
  {
   "cell_type": "code",
   "execution_count": 28,
   "metadata": {},
   "outputs": [
    {
     "name": "stdout",
     "output_type": "stream",
     "text": [
      "KNN Accuracy: 0.6494312306101344\n",
      "Logistic Regression Accuracy: 0.6835573940020683\n",
      "GaussianNB Accuracy: 0.6732161323681489\n"
     ]
    }
   ],
   "source": [
    "X_train, X_test, y_train, y_test = train_test_split(X, y, test_size=0.2, random_state=42)\n",
    "\n",
    "\n",
    "knn = KNeighborsClassifier()\n",
    "logreg = LogisticRegression(max_iter=1000)\n",
    "gnb = GaussianNB()\n",
    "\n",
    "# 预处理管道定义\n",
    "preprocessor = ColumnTransformer(\n",
    "    transformers=[\n",
    "        ('edu', Pipeline(steps=[\n",
    "            ('onehot', OneHotEncoder(handle_unknown='ignore'))\n",
    "        ]), ['F_EDU']),\n",
    "        \n",
    "        ('party', Pipeline(steps=[\n",
    "            ('onehot', OneHotEncoder(handle_unknown='ignore'))\n",
    "        ]), ['F_PARTY_FINAL']),\n",
    "        \n",
    "        ('religion', Pipeline(steps=[\n",
    "            ('onehot', OneHotEncoder(handle_unknown='ignore'))\n",
    "        ]), ['F_RELIG']),\n",
    "\n",
    "        ('income', Pipeline(steps=[\n",
    "            ('onehot', OneHotEncoder(handle_unknown='ignore'))\n",
    "        ]), ['F_INC_SDT1']),\n",
    "    ])\n",
    "\n",
    "# 预处理训练和测试数据\n",
    "X_train_preprocessed = preprocessor.fit_transform(X_train).toarray()\n",
    "X_test_preprocessed = preprocessor.transform(X_test).toarray()\n",
    "\n",
    "# 训练和评估KNN\n",
    "knn.fit(X_train_preprocessed, y_train)\n",
    "knn_pred = knn.predict(X_test_preprocessed)\n",
    "knn_acc = accuracy_score(y_test, knn_pred)\n",
    "\n",
    "# 训练和评估Logistic回归\n",
    "logreg.fit(X_train_preprocessed, y_train)\n",
    "logreg_pred = logreg.predict(X_test_preprocessed)\n",
    "logreg_acc = accuracy_score(y_test, logreg_pred)\n",
    "\n",
    "# 训练和评估GaussianNB\n",
    "gnb.fit(X_train_preprocessed, y_train)\n",
    "gnb_pred = gnb.predict(X_test_preprocessed)\n",
    "gnb_acc = accuracy_score(y_test, gnb_pred)\n",
    "\n",
    "# 打印准确率\n",
    "print(f\"KNN Accuracy: {knn_acc}\")\n",
    "print(f\"Logistic Regression Accuracy: {logreg_acc}\")\n",
    "print(f\"GaussianNB Accuracy: {gnb_acc}\")"
   ]
  }
 ],
 "metadata": {
  "kernelspec": {
   "display_name": "Python 3",
   "language": "python",
   "name": "python3"
  },
  "language_info": {
   "codemirror_mode": {
    "name": "ipython",
    "version": 3
   },
   "file_extension": ".py",
   "mimetype": "text/x-python",
   "name": "python",
   "nbconvert_exporter": "python",
   "pygments_lexer": "ipython3",
   "version": "3.9.6"
  }
 },
 "nbformat": 4,
 "nbformat_minor": 2
}
