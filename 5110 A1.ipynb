{
 "cells": [
  {
   "cell_type": "code",
   "execution_count": 26,
   "metadata": {},
   "outputs": [],
   "source": [
    "### Part A\n"
   ]
  },
  {
   "cell_type": "code",
   "execution_count": 27,
   "metadata": {},
   "outputs": [],
   "source": [
    "# Step 1: Import necessary libraries\n",
    "import pandas as pd\n",
    "import statsmodels.api as sm"
   ]
  },
  {
   "cell_type": "code",
   "execution_count": 28,
   "metadata": {},
   "outputs": [
    {
     "name": "stdout",
     "output_type": "stream",
     "text": [
      "   Dependent Var  Explanatory Var #1  Explanatory Var #2  Explanatory Var #3  \\\n",
      "0      56.293458           13.698667           50.639873                   0   \n",
      "1      58.473431            2.714725           65.845845                   1   \n",
      "2      94.195330           11.618072           65.072497                   0   \n",
      "3      29.074583            0.818623           45.408996                   1   \n",
      "4      86.035569            9.077544           73.548021                   0   \n",
      "\n",
      "   Explanatory Var #4  Explanatory Var #5  Explanatory Var #6  \\\n",
      "0          -18.568035           45.121911           11.412501   \n",
      "1          -25.105932           47.190213           10.080280   \n",
      "2           -7.897464           52.163036           11.057301   \n",
      "3          -18.316132           54.356714            5.029029   \n",
      "4          -19.204165           47.186807           12.128134   \n",
      "\n",
      "   Explanatory Var #7  Explanatory Var #8  Explanatory Var #9  \\\n",
      "0           56.410757                   2          -12.281132   \n",
      "1           65.383107                   3          -36.763585   \n",
      "2           82.812717                   0          -15.733547   \n",
      "3           48.812471                   1          -12.825591   \n",
      "4           62.520911                   2          -13.804860   \n",
      "\n",
      "   Explanatory Var #10  Explanatory Var #11  Explanatory Var #12  \\\n",
      "0            38.996909            -3.010548            49.195073   \n",
      "1            51.654939             4.991111            45.591729   \n",
      "2            48.913837            -2.457696            56.608806   \n",
      "3            45.851732            14.974177            47.362594   \n",
      "4            47.765904             9.593982            53.700562   \n",
      "\n",
      "   Explanatory Var #13  Explanatory Var #14  Explanatory Var #15  \n",
      "0                    0           -21.153143            46.919314  \n",
      "1                    0            -6.474403            53.383508  \n",
      "2                    0           -27.903299            48.515026  \n",
      "3                    1           -10.064411            55.266254  \n",
      "4                    0           -17.546302            48.150543  \n",
      "<class 'pandas.core.frame.DataFrame'>\n",
      "RangeIndex: 422 entries, 0 to 421\n",
      "Data columns (total 16 columns):\n",
      " #   Column               Non-Null Count  Dtype  \n",
      "---  ------               --------------  -----  \n",
      " 0   Dependent Var        422 non-null    float64\n",
      " 1   Explanatory Var #1   422 non-null    float64\n",
      " 2   Explanatory Var #2   422 non-null    float64\n",
      " 3   Explanatory Var #3   422 non-null    int64  \n",
      " 4   Explanatory Var #4   422 non-null    float64\n",
      " 5   Explanatory Var #5   422 non-null    float64\n",
      " 6   Explanatory Var #6   422 non-null    float64\n",
      " 7   Explanatory Var #7   422 non-null    float64\n",
      " 8   Explanatory Var #8   422 non-null    int64  \n",
      " 9   Explanatory Var #9   422 non-null    float64\n",
      " 10  Explanatory Var #10  422 non-null    float64\n",
      " 11  Explanatory Var #11  422 non-null    float64\n",
      " 12  Explanatory Var #12  422 non-null    float64\n",
      " 13  Explanatory Var #13  422 non-null    int64  \n",
      " 14  Explanatory Var #14  422 non-null    float64\n",
      " 15  Explanatory Var #15  422 non-null    float64\n",
      "dtypes: float64(13), int64(3)\n",
      "memory usage: 52.9 KB\n",
      "None\n"
     ]
    }
   ],
   "source": [
    "# Step 2: Load the dataset\n",
    "# Replace with the correct file path where your dataset is saved\n",
    "data = pd.read_csv('/Users/Sam/Downloads/dataset_lm.csv')\n",
    "\n",
    "# Preview the first few rows of the dataset to confirm it is loaded correctly\n",
    "print(data.head())\n",
    "\n",
    "# Check the structure of the dataset (columns, types, missing values, etc.)\n",
    "print(data.info())\n"
   ]
  },
  {
   "cell_type": "code",
   "execution_count": 29,
   "metadata": {},
   "outputs": [
    {
     "data": {
      "text/html": [
       "<div>\n",
       "<style scoped>\n",
       "    .dataframe tbody tr th:only-of-type {\n",
       "        vertical-align: middle;\n",
       "    }\n",
       "\n",
       "    .dataframe tbody tr th {\n",
       "        vertical-align: top;\n",
       "    }\n",
       "\n",
       "    .dataframe thead th {\n",
       "        text-align: right;\n",
       "    }\n",
       "</style>\n",
       "<table border=\"1\" class=\"dataframe\">\n",
       "  <thead>\n",
       "    <tr style=\"text-align: right;\">\n",
       "      <th></th>\n",
       "      <th>Dependent Var</th>\n",
       "      <th>Explanatory Var #1</th>\n",
       "      <th>Explanatory Var #2</th>\n",
       "      <th>Explanatory Var #3</th>\n",
       "      <th>Explanatory Var #4</th>\n",
       "      <th>Explanatory Var #5</th>\n",
       "      <th>Explanatory Var #6</th>\n",
       "      <th>Explanatory Var #7</th>\n",
       "      <th>Explanatory Var #8</th>\n",
       "      <th>Explanatory Var #9</th>\n",
       "      <th>Explanatory Var #10</th>\n",
       "      <th>Explanatory Var #11</th>\n",
       "      <th>Explanatory Var #12</th>\n",
       "      <th>Explanatory Var #13</th>\n",
       "      <th>Explanatory Var #14</th>\n",
       "      <th>Explanatory Var #15</th>\n",
       "    </tr>\n",
       "  </thead>\n",
       "  <tbody>\n",
       "    <tr>\n",
       "      <th>0</th>\n",
       "      <td>56.293458</td>\n",
       "      <td>13.698667</td>\n",
       "      <td>50.639873</td>\n",
       "      <td>0</td>\n",
       "      <td>-18.568035</td>\n",
       "      <td>45.121911</td>\n",
       "      <td>11.412501</td>\n",
       "      <td>56.410757</td>\n",
       "      <td>2</td>\n",
       "      <td>-12.281132</td>\n",
       "      <td>38.996909</td>\n",
       "      <td>-3.010548</td>\n",
       "      <td>49.195073</td>\n",
       "      <td>0</td>\n",
       "      <td>-21.153143</td>\n",
       "      <td>46.919314</td>\n",
       "    </tr>\n",
       "    <tr>\n",
       "      <th>1</th>\n",
       "      <td>58.473431</td>\n",
       "      <td>2.714725</td>\n",
       "      <td>65.845845</td>\n",
       "      <td>1</td>\n",
       "      <td>-25.105932</td>\n",
       "      <td>47.190213</td>\n",
       "      <td>10.080280</td>\n",
       "      <td>65.383107</td>\n",
       "      <td>3</td>\n",
       "      <td>-36.763585</td>\n",
       "      <td>51.654939</td>\n",
       "      <td>4.991111</td>\n",
       "      <td>45.591729</td>\n",
       "      <td>0</td>\n",
       "      <td>-6.474403</td>\n",
       "      <td>53.383508</td>\n",
       "    </tr>\n",
       "    <tr>\n",
       "      <th>2</th>\n",
       "      <td>94.195330</td>\n",
       "      <td>11.618072</td>\n",
       "      <td>65.072497</td>\n",
       "      <td>0</td>\n",
       "      <td>-7.897464</td>\n",
       "      <td>52.163036</td>\n",
       "      <td>11.057301</td>\n",
       "      <td>82.812717</td>\n",
       "      <td>0</td>\n",
       "      <td>-15.733547</td>\n",
       "      <td>48.913837</td>\n",
       "      <td>-2.457696</td>\n",
       "      <td>56.608806</td>\n",
       "      <td>0</td>\n",
       "      <td>-27.903299</td>\n",
       "      <td>48.515026</td>\n",
       "    </tr>\n",
       "    <tr>\n",
       "      <th>3</th>\n",
       "      <td>29.074583</td>\n",
       "      <td>0.818623</td>\n",
       "      <td>45.408996</td>\n",
       "      <td>1</td>\n",
       "      <td>-18.316132</td>\n",
       "      <td>54.356714</td>\n",
       "      <td>5.029029</td>\n",
       "      <td>48.812471</td>\n",
       "      <td>1</td>\n",
       "      <td>-12.825591</td>\n",
       "      <td>45.851732</td>\n",
       "      <td>14.974177</td>\n",
       "      <td>47.362594</td>\n",
       "      <td>1</td>\n",
       "      <td>-10.064411</td>\n",
       "      <td>55.266254</td>\n",
       "    </tr>\n",
       "    <tr>\n",
       "      <th>4</th>\n",
       "      <td>86.035569</td>\n",
       "      <td>9.077544</td>\n",
       "      <td>73.548021</td>\n",
       "      <td>0</td>\n",
       "      <td>-19.204165</td>\n",
       "      <td>47.186807</td>\n",
       "      <td>12.128134</td>\n",
       "      <td>62.520911</td>\n",
       "      <td>2</td>\n",
       "      <td>-13.804860</td>\n",
       "      <td>47.765904</td>\n",
       "      <td>9.593982</td>\n",
       "      <td>53.700562</td>\n",
       "      <td>0</td>\n",
       "      <td>-17.546302</td>\n",
       "      <td>48.150543</td>\n",
       "    </tr>\n",
       "  </tbody>\n",
       "</table>\n",
       "</div>"
      ],
      "text/plain": [
       "   Dependent Var  Explanatory Var #1  Explanatory Var #2  Explanatory Var #3  \\\n",
       "0      56.293458           13.698667           50.639873                   0   \n",
       "1      58.473431            2.714725           65.845845                   1   \n",
       "2      94.195330           11.618072           65.072497                   0   \n",
       "3      29.074583            0.818623           45.408996                   1   \n",
       "4      86.035569            9.077544           73.548021                   0   \n",
       "\n",
       "   Explanatory Var #4  Explanatory Var #5  Explanatory Var #6  \\\n",
       "0          -18.568035           45.121911           11.412501   \n",
       "1          -25.105932           47.190213           10.080280   \n",
       "2           -7.897464           52.163036           11.057301   \n",
       "3          -18.316132           54.356714            5.029029   \n",
       "4          -19.204165           47.186807           12.128134   \n",
       "\n",
       "   Explanatory Var #7  Explanatory Var #8  Explanatory Var #9  \\\n",
       "0           56.410757                   2          -12.281132   \n",
       "1           65.383107                   3          -36.763585   \n",
       "2           82.812717                   0          -15.733547   \n",
       "3           48.812471                   1          -12.825591   \n",
       "4           62.520911                   2          -13.804860   \n",
       "\n",
       "   Explanatory Var #10  Explanatory Var #11  Explanatory Var #12  \\\n",
       "0            38.996909            -3.010548            49.195073   \n",
       "1            51.654939             4.991111            45.591729   \n",
       "2            48.913837            -2.457696            56.608806   \n",
       "3            45.851732            14.974177            47.362594   \n",
       "4            47.765904             9.593982            53.700562   \n",
       "\n",
       "   Explanatory Var #13  Explanatory Var #14  Explanatory Var #15  \n",
       "0                    0           -21.153143            46.919314  \n",
       "1                    0            -6.474403            53.383508  \n",
       "2                    0           -27.903299            48.515026  \n",
       "3                    1           -10.064411            55.266254  \n",
       "4                    0           -17.546302            48.150543  "
      ]
     },
     "execution_count": 29,
     "metadata": {},
     "output_type": "execute_result"
    }
   ],
   "source": [
    "data.head()"
   ]
  },
  {
   "cell_type": "code",
   "execution_count": 30,
   "metadata": {},
   "outputs": [],
   "source": [
    "# Step 3: Define the dependent (y) and explanatory (X) variables\n",
    "# The first column is the dependent variable, and columns 2-16 are the explanatory variables\n",
    "y = data.iloc[:, 0]  # Dependent variable (target)\n",
    "X = data.iloc[:, 1:16]  # Explanatory variables (features)\n"
   ]
  },
  {
   "cell_type": "code",
   "execution_count": 31,
   "metadata": {},
   "outputs": [],
   "source": [
    "# Step 4: Add a constant term (intercept) to the model\n",
    "X = sm.add_constant(X)  # This adds a column of 1s for the intercept\n"
   ]
  },
  {
   "cell_type": "code",
   "execution_count": 32,
   "metadata": {},
   "outputs": [
    {
     "name": "stdout",
     "output_type": "stream",
     "text": [
      "                            OLS Regression Results                            \n",
      "==============================================================================\n",
      "Dep. Variable:          Dependent Var   R-squared:                       1.000\n",
      "Model:                            OLS   Adj. R-squared:                  1.000\n",
      "Method:                 Least Squares   F-statistic:                 1.682e+30\n",
      "Date:                Sun, 06 Oct 2024   Prob (F-statistic):               0.00\n",
      "Time:                        22:44:49   Log-Likelihood:                 12021.\n",
      "No. Observations:                 422   AIC:                        -2.401e+04\n",
      "Df Residuals:                     406   BIC:                        -2.395e+04\n",
      "Df Model:                          15                                         \n",
      "Covariance Type:            nonrobust                                         \n",
      "=======================================================================================\n",
      "                          coef    std err          t      P>|t|      [0.025      0.975]\n",
      "---------------------------------------------------------------------------------------\n",
      "const                  32.0000   9.19e-14   3.48e+14      0.000      32.000      32.000\n",
      "Explanatory Var #1      1.3000   7.42e-16   1.75e+15      0.000       1.300       1.300\n",
      "Explanatory Var #2      1.7000   5.39e-16   3.15e+15      0.000       1.700       1.700\n",
      "Explanatory Var #3      6.2000   1.03e-14   5.99e+14      0.000       6.200       6.200\n",
      "Explanatory Var #4      2.1000   6.37e-16    3.3e+15      0.000       2.100       2.100\n",
      "Explanatory Var #5     -0.9000   7.47e-16  -1.21e+15      0.000      -0.900      -0.900\n",
      "Explanatory Var #6   2.276e-15   4.51e-16      5.051      0.000    1.39e-15    3.16e-15\n",
      "Explanatory Var #7   3.018e-16   3.48e-16      0.867      0.386   -3.82e-16    9.86e-16\n",
      "Explanatory Var #8  -6.217e-15   4.73e-15     -1.314      0.189   -1.55e-14    3.08e-15\n",
      "Explanatory Var #9  -9.923e-16   6.05e-16     -1.641      0.102   -2.18e-15    1.97e-16\n",
      "Explanatory Var #10 -3.691e-15   7.54e-16     -4.897      0.000   -5.17e-15   -2.21e-15\n",
      "Explanatory Var #11  1.277e-15   7.29e-16      1.751      0.081   -1.56e-16    2.71e-15\n",
      "Explanatory Var #12 -9.437e-16   5.45e-16     -1.730      0.084   -2.02e-15    1.28e-16\n",
      "Explanatory Var #13 -3.553e-15   1.04e-14     -0.340      0.734   -2.41e-14     1.7e-14\n",
      "Explanatory Var #14 -1.596e-15   6.41e-16     -2.488      0.013   -2.86e-15   -3.35e-16\n",
      "Explanatory Var #15 -3.358e-15   7.64e-16     -4.397      0.000   -4.86e-15   -1.86e-15\n",
      "==============================================================================\n",
      "Omnibus:                        2.439   Durbin-Watson:                   0.781\n",
      "Prob(Omnibus):                  0.295   Jarque-Bera (JB):                2.053\n",
      "Skew:                           0.044   Prob(JB):                        0.358\n",
      "Kurtosis:                       2.670   Cond. No.                     2.55e+03\n",
      "==============================================================================\n",
      "\n",
      "Notes:\n",
      "[1] Standard Errors assume that the covariance matrix of the errors is correctly specified.\n",
      "[2] The condition number is large, 2.55e+03. This might indicate that there are\n",
      "strong multicollinearity or other numerical problems.\n"
     ]
    }
   ],
   "source": [
    "# Step 5: Build the OLS model and fit it to the data\n",
    "ols_model = sm.OLS(y, X).fit()  # Fit the model\n",
    "\n",
    "# Output the summary of the regression model\n",
    "print(ols_model.summary())\n"
   ]
  },
  {
   "cell_type": "code",
   "execution_count": null,
   "metadata": {},
   "outputs": [],
   "source": [
    "### Part B"
   ]
  },
  {
   "cell_type": "code",
   "execution_count": 33,
   "metadata": {},
   "outputs": [
    {
     "name": "stdout",
     "output_type": "stream",
     "text": [
      "Standard Deviation of Residuals: 6.591964783129596e-14\n"
     ]
    }
   ],
   "source": [
    "# Step 1: Get the residuals (error values) from the OLS model\n",
    "residuals = ols_model.resid  # Residuals from the OLS model\n",
    "\n",
    "# Step 2: Calculate the standard deviation of the residuals\n",
    "std_residuals = residuals.std()\n",
    "\n",
    "# Step 3: Display the standard deviation\n",
    "print(\"Standard Deviation of Residuals:\", std_residuals)\n"
   ]
  },
  {
   "cell_type": "code",
   "execution_count": 34,
   "metadata": {},
   "outputs": [
    {
     "name": "stdout",
     "output_type": "stream",
     "text": [
      "Autocorrelation for Lag 1: 0.04571487839665854\n",
      "Autocorrelation for Lag 2: -0.025669908463495265\n",
      "Autocorrelation for Lag 3: -0.0018240481885611526\n"
     ]
    }
   ],
   "source": [
    "# Step 4: Calculate autocorrelation values for the first three lags\n",
    "autocorr_lag_1 = residuals.autocorr(lag=1)\n",
    "autocorr_lag_2 = residuals.autocorr(lag=2)\n",
    "autocorr_lag_3 = residuals.autocorr(lag=3)\n",
    "\n",
    "# Step 5: Display the autocorrelation values\n",
    "print(\"Autocorrelation for Lag 1:\", autocorr_lag_1)\n",
    "print(\"Autocorrelation for Lag 2:\", autocorr_lag_2)\n",
    "print(\"Autocorrelation for Lag 3:\", autocorr_lag_3)\n"
   ]
  },
  {
   "cell_type": "code",
   "execution_count": 35,
   "metadata": {},
   "outputs": [
    {
     "name": "stdout",
     "output_type": "stream",
     "text": [
      "                            GLS Regression Results                            \n",
      "==============================================================================\n",
      "Dep. Variable:          Dependent Var   R-squared:                       1.000\n",
      "Model:                            GLS   Adj. R-squared:                  1.000\n",
      "Method:                 Least Squares   F-statistic:                 1.705e+30\n",
      "Date:                Sun, 06 Oct 2024   Prob (F-statistic):               0.00\n",
      "Time:                        22:45:45   Log-Likelihood:                 12024.\n",
      "No. Observations:                 422   AIC:                        -2.402e+04\n",
      "Df Residuals:                     406   BIC:                        -2.395e+04\n",
      "Df Model:                          15                                         \n",
      "Covariance Type:            nonrobust                                         \n",
      "=======================================================================================\n",
      "                          coef    std err          t      P>|t|      [0.025      0.975]\n",
      "---------------------------------------------------------------------------------------\n",
      "const                  32.0000   9.12e-14   3.51e+14      0.000      32.000      32.000\n",
      "Explanatory Var #1      1.3000   7.37e-16   1.76e+15      0.000       1.300       1.300\n",
      "Explanatory Var #2      1.7000   5.35e-16   3.18e+15      0.000       1.700       1.700\n",
      "Explanatory Var #3      6.2000   1.03e-14   6.03e+14      0.000       6.200       6.200\n",
      "Explanatory Var #4      2.1000   6.33e-16   3.32e+15      0.000       2.100       2.100\n",
      "Explanatory Var #5     -0.9000   7.42e-16  -1.21e+15      0.000      -0.900      -0.900\n",
      "Explanatory Var #6   2.276e-15   4.47e-16      5.086      0.000     1.4e-15    3.16e-15\n",
      "Explanatory Var #7   3.018e-16   3.46e-16      0.873      0.383   -3.78e-16    9.81e-16\n",
      "Explanatory Var #8  -6.217e-15    4.7e-15     -1.323      0.186   -1.55e-14    3.02e-15\n",
      "Explanatory Var #9  -9.923e-16   6.01e-16     -1.652      0.099   -2.17e-15    1.88e-16\n",
      "Explanatory Var #10 -3.691e-15   7.49e-16     -4.931      0.000   -5.16e-15   -2.22e-15\n",
      "Explanatory Var #11  1.277e-15   7.24e-16      1.763      0.079   -1.46e-16     2.7e-15\n",
      "Explanatory Var #12 -9.437e-16   5.42e-16     -1.742      0.082   -2.01e-15    1.21e-16\n",
      "Explanatory Var #13 -3.553e-15   1.04e-14     -0.342      0.732    -2.4e-14    1.68e-14\n",
      "Explanatory Var #14 -1.596e-15   6.37e-16     -2.505      0.013   -2.85e-15   -3.44e-16\n",
      "Explanatory Var #15 -3.358e-15   7.59e-16     -4.427      0.000   -4.85e-15   -1.87e-15\n",
      "==============================================================================\n",
      "Omnibus:                        1.438   Durbin-Watson:                   0.716\n",
      "Prob(Omnibus):                  0.487   Jarque-Bera (JB):                1.472\n",
      "Skew:                           0.088   Prob(JB):                        0.479\n",
      "Kurtosis:                       2.770   Cond. No.                     2.55e+03\n",
      "==============================================================================\n",
      "\n",
      "Notes:\n",
      "[1] Standard Errors assume that the covariance matrix of the errors is correctly specified.\n",
      "[2] The condition number is large, 2.55e+03. This might indicate that there are\n",
      "strong multicollinearity or other numerical problems.\n"
     ]
    }
   ],
   "source": [
    "import numpy as np\n",
    "from scipy.linalg import toeplitz\n",
    "\n",
    "# Step 6: Define the covariance matrix based on autocorrelation values\n",
    "rho = [1, autocorr_lag_1, autocorr_lag_2, autocorr_lag_3]  # Use autocorrelations\n",
    "n = len(residuals)\n",
    "cov_matrix = toeplitz([rho[0]] + [0]*(n-1))  # Toeplitz matrix\n",
    "\n",
    "# Step 7: Fit the GLS model\n",
    "gls_model = sm.GLS(y, X, sigma=cov_matrix).fit()\n",
    "\n",
    "# Step 8: Display the GLS model summary\n",
    "print(gls_model.summary())\n"
   ]
  },
  {
   "cell_type": "code",
   "execution_count": 36,
   "metadata": {},
   "outputs": [],
   "source": [
    "### Part C"
   ]
  },
  {
   "cell_type": "code",
   "execution_count": 37,
   "metadata": {},
   "outputs": [
    {
     "name": "stdout",
     "output_type": "stream",
     "text": [
      "(211, 16) (211, 16)\n"
     ]
    }
   ],
   "source": [
    "# Import necessary libraries\n",
    "from sklearn.model_selection import train_test_split\n",
    "from sklearn.linear_model import Lasso\n",
    "from sklearn.metrics import mean_absolute_percentage_error\n",
    "\n",
    "# Step 1: Split the dataset into training and test sets (test size = 0.5)\n",
    "X_train, X_test, y_train, y_test = train_test_split(X, y, test_size=0.5, random_state=42)\n",
    "\n",
    "# Check the shapes of the training and test sets\n",
    "print(X_train.shape, X_test.shape)\n"
   ]
  },
  {
   "cell_type": "code",
   "execution_count": 38,
   "metadata": {},
   "outputs": [
    {
     "name": "stdout",
     "output_type": "stream",
     "text": [
      "Lasso Coefficients: [ 0.          1.26972628  1.68394638  2.02626245  2.08756512 -0.91746375\n",
      " -0.          0.         -0.          0.         -0.          0.01314162\n",
      "  0.         -0.          0.         -0.03617731]\n"
     ]
    }
   ],
   "source": [
    "# Step 2: Run the Lasso model with alpha=1 and fit it to the training set\n",
    "lasso_model = Lasso(alpha=1).fit(X_train, y_train)\n",
    "\n",
    "# Display the estimated coefficients\n",
    "print(\"Lasso Coefficients:\", lasso_model.coef_)\n"
   ]
  },
  {
   "cell_type": "code",
   "execution_count": 39,
   "metadata": {},
   "outputs": [
    {
     "name": "stdout",
     "output_type": "stream",
     "text": [
      "Mean Absolute Percentage Error (MAPE): 0.04432190198291582\n"
     ]
    }
   ],
   "source": [
    "# Step 3: Predict using the test set\n",
    "y_pred = lasso_model.predict(X_test)\n",
    "\n",
    "# Calculate the Mean Absolute Percentage Error (MAPE)\n",
    "mape = mean_absolute_percentage_error(y_test, y_pred)\n",
    "print(\"Mean Absolute Percentage Error (MAPE):\", mape)\n"
   ]
  },
  {
   "cell_type": "code",
   "execution_count": 40,
   "metadata": {},
   "outputs": [
    {
     "name": "stdout",
     "output_type": "stream",
     "text": [
      "Best alpha: 0.001\n",
      "Minimum MAPE: 4.4128318074243554e-05\n"
     ]
    }
   ],
   "source": [
    "# Step 4: Test multiple values of alpha to find the one that minimizes MAPE\n",
    "import numpy as np\n",
    "\n",
    "alphas = np.logspace(-3, 3, 50)  # Range of alpha values to test\n",
    "best_alpha = None\n",
    "min_mape = float('inf')\n",
    "\n",
    "for alpha in alphas:\n",
    "    lasso_model = Lasso(alpha=alpha).fit(X_train, y_train)\n",
    "    y_pred = lasso_model.predict(X_test)\n",
    "    mape = mean_absolute_percentage_error(y_test, y_pred)\n",
    "    \n",
    "    if mape < min_mape:\n",
    "        min_mape = mape\n",
    "        best_alpha = alpha\n",
    "\n",
    "print(\"Best alpha:\", best_alpha)\n",
    "print(\"Minimum MAPE:\", min_mape)\n"
   ]
  },
  {
   "cell_type": "code",
   "execution_count": null,
   "metadata": {},
   "outputs": [],
   "source": []
  }
 ],
 "metadata": {
  "kernelspec": {
   "display_name": "Python 3",
   "language": "python",
   "name": "python3"
  },
  "language_info": {
   "codemirror_mode": {
    "name": "ipython",
    "version": 3
   },
   "file_extension": ".py",
   "mimetype": "text/x-python",
   "name": "python",
   "nbconvert_exporter": "python",
   "pygments_lexer": "ipython3",
   "version": "3.9.6"
  }
 },
 "nbformat": 4,
 "nbformat_minor": 2
}
