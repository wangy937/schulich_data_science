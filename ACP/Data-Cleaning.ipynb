{
 "cells": [
  {
   "cell_type": "code",
   "execution_count": 2,
   "metadata": {},
   "outputs": [],
   "source": [
    "#print(df.shape)"
   ]
  },
  {
   "cell_type": "code",
   "execution_count": 3,
   "metadata": {},
   "outputs": [
    {
     "name": "stdout",
     "output_type": "stream",
     "text": [
      "Error: 3130757229 read, but total bytes expected is 4320502042.\n"
     ]
    }
   ],
   "source": [
    "import boto3\n",
    "import pandas as pd\n",
    "from io import StringIO\n",
    "\n",
    "# Configuration\n",
    "BUCKET_NAME = 'schulich-project-roadrunner'\n",
    "OBJECT_KEY = 'project_kickoff_scripts/Data Preparation 07 Month/Data-Preparation-07.csv'\n",
    "\n",
    "# Initialize S3 client\n",
    "s3 = boto3.client('s3')\n",
    "\n",
    "def read_csv_from_s3(bucket_name, object_key):\n",
    "    try:\n",
    "        # Retrieve the CSV file from S3\n",
    "        response = s3.get_object(Bucket=bucket_name, Key=object_key)\n",
    "        \n",
    "        # Read the CSV content\n",
    "        csv_content = response['Body'].read().decode('utf-8')\n",
    "        \n",
    "        # Convert CSV content to a Pandas DataFrame\n",
    "        df = pd.read_csv(StringIO(csv_content))\n",
    "        print(\"CSV File Loaded Successfully:\")\n",
    "        print(df.head())  # Display the first few rows of the DataFrame\n",
    "        return df\n",
    "    except s3.exceptions.NoSuchKey:\n",
    "        print(f\"Error: The file '{object_key}' was not found in bucket '{bucket_name}'.\")\n",
    "    except Exception as e:\n",
    "        print(f\"Error: {e}\")\n",
    "\n",
    "# Read the file from S3\n",
    "df = read_csv_from_s3(BUCKET_NAME, OBJECT_KEY)\n"
   ]
  },
  {
   "cell_type": "code",
   "execution_count": 4,
   "metadata": {},
   "outputs": [
    {
     "name": "stdout",
     "output_type": "stream",
     "text": [
      "Attempting to retrieve file 'project_kickoff_scripts/Data Preparation 07 Month/Data-Preparation-07.csv' from bucket 'schulich-project-roadrunner'...\n",
      "File retrieved successfully!\n"
     ]
    },
    {
     "name": "stderr",
     "output_type": "stream",
     "text": [
      "/var/folders/t8/98kc315d6592z5nmcq76rt9h0000gn/T/ipykernel_6562/4108640598.py:24: DtypeWarning: Columns (14,16,27,28,33,48,50,55,56,61,67,89,105,107,112,114,129,130,138,139,146,148,151,152,159,180,211,217,218,219,220,221,222,223,224) have mixed types. Specify dtype option on import or set low_memory=False.\n",
      "  df = pd.read_csv(StringIO(csv_content))\n"
     ]
    },
    {
     "name": "stdout",
     "output_type": "stream",
     "text": [
      "CSV File Loaded Successfully:\n",
      "   battery_heater_on  battery_level  battery_range  charge_amps  \\\n",
      "0              False           91.0         241.54         32.0   \n",
      "1              False           91.0         241.54         32.0   \n",
      "2              False           91.0         241.54         32.0   \n",
      "3              False           91.0         241.54         32.0   \n",
      "4              False           91.0         241.54         32.0   \n",
      "\n",
      "   charge_current_request  charge_current_request_max  charge_enable_request  \\\n",
      "0                    32.0                        32.0                   True   \n",
      "1                    32.0                        32.0                   True   \n",
      "2                    32.0                        32.0                   True   \n",
      "3                    32.0                        32.0                   True   \n",
      "4                    32.0                        32.0                   True   \n",
      "\n",
      "   charge_energy_added  charge_limit_soc  charge_limit_soc_max  ...  \\\n",
      "0                40.72               100                   100  ...   \n",
      "1                40.72               100                   100  ...   \n",
      "2                40.72               100                   100  ...   \n",
      "3                40.72               100                   100  ...   \n",
      "4                40.72               100                   100  ...   \n",
      "\n",
      "          Folder Name  Folder Month  tpms_last_seen_pressure_time_fl_utc  \\\n",
      "0  IN/CA/2024/07/None             7            2024-06-30 08:26:06+00:00   \n",
      "1  IN/CA/2024/07/None             7            2024-06-30 08:26:06+00:00   \n",
      "2  IN/CA/2024/07/None             7            2024-06-30 08:26:06+00:00   \n",
      "3  IN/CA/2024/07/None             7            2024-06-30 08:26:06+00:00   \n",
      "4  IN/CA/2024/07/None             7            2024-06-30 08:26:06+00:00   \n",
      "\n",
      "   tpms_last_seen_pressure_time_fl_utc_date_only  \\\n",
      "0                                     2024-06-30   \n",
      "1                                     2024-06-30   \n",
      "2                                     2024-06-30   \n",
      "3                                     2024-06-30   \n",
      "4                                     2024-06-30   \n",
      "\n",
      "  tpms_last_seen_pressure_time_fr_utc  \\\n",
      "0           2024-06-30 08:26:07+00:00   \n",
      "1           2024-06-30 08:26:07+00:00   \n",
      "2           2024-06-30 08:26:07+00:00   \n",
      "3           2024-06-30 08:26:07+00:00   \n",
      "4           2024-06-30 08:26:07+00:00   \n",
      "\n",
      "  tpms_last_seen_pressure_time_fr_utc_date_only  \\\n",
      "0                                    2024-06-30   \n",
      "1                                    2024-06-30   \n",
      "2                                    2024-06-30   \n",
      "3                                    2024-06-30   \n",
      "4                                    2024-06-30   \n",
      "\n",
      "  tpms_last_seen_pressure_time_rl_utc  \\\n",
      "0           2024-06-30 08:26:06+00:00   \n",
      "1           2024-06-30 08:26:06+00:00   \n",
      "2           2024-06-30 08:26:06+00:00   \n",
      "3           2024-06-30 08:26:06+00:00   \n",
      "4           2024-06-30 08:26:06+00:00   \n",
      "\n",
      "  tpms_last_seen_pressure_time_rl_utc_date_only  \\\n",
      "0                                    2024-06-30   \n",
      "1                                    2024-06-30   \n",
      "2                                    2024-06-30   \n",
      "3                                    2024-06-30   \n",
      "4                                    2024-06-30   \n",
      "\n",
      "   tpms_last_seen_pressure_time_rr_utc  \\\n",
      "0            2024-06-30 08:26:06+00:00   \n",
      "1            2024-06-30 08:26:06+00:00   \n",
      "2            2024-06-30 08:26:06+00:00   \n",
      "3            2024-06-30 08:26:06+00:00   \n",
      "4            2024-06-30 08:26:06+00:00   \n",
      "\n",
      "   tpms_last_seen_pressure_time_rr_utc_date_only  \n",
      "0                                     2024-06-30  \n",
      "1                                     2024-06-30  \n",
      "2                                     2024-06-30  \n",
      "3                                     2024-06-30  \n",
      "4                                     2024-06-30  \n",
      "\n",
      "[5 rows x 225 columns]\n"
     ]
    }
   ],
   "source": [
    "import boto3\n",
    "import pandas as pd\n",
    "from io import StringIO\n",
    "\n",
    "# Configuration\n",
    "BUCKET_NAME = 'schulich-project-roadrunner'\n",
    "OBJECT_KEY = 'project_kickoff_scripts/Data Preparation 07 Month/Data-Preparation-07.csv'\n",
    "\n",
    "# Initialize S3 client\n",
    "s3 = boto3.client('s3')\n",
    "\n",
    "def read_csv_from_s3(bucket_name, object_key):\n",
    "    try:\n",
    "        print(f\"Attempting to retrieve file '{object_key}' from bucket '{bucket_name}'...\")\n",
    "        \n",
    "        # Retrieve the CSV file from S3\n",
    "        response = s3.get_object(Bucket=bucket_name, Key=object_key)\n",
    "        print(\"File retrieved successfully!\")\n",
    "\n",
    "        # Read the CSV content\n",
    "        csv_content = response['Body'].read().decode('utf-8')\n",
    "        \n",
    "        # Convert CSV content to a Pandas DataFrame\n",
    "        df = pd.read_csv(StringIO(csv_content))\n",
    "        print(\"CSV File Loaded Successfully:\")\n",
    "        print(df.head())  # Display the first few rows of the DataFrame\n",
    "        return df\n",
    "    except s3.exceptions.NoSuchKey:\n",
    "        print(f\"Error: The file '{object_key}' was not found in bucket '{bucket_name}'.\")\n",
    "    except s3.exceptions.ClientError as e:\n",
    "        # Catch and print more detailed client errors\n",
    "        if e.response['Error']['Code'] == 'NoSuchBucket':\n",
    "            print(f\"Error: The bucket '{bucket_name}' does not exist.\")\n",
    "        elif e.response['Error']['Code'] == 'AccessDenied':\n",
    "            print(f\"Error: Access denied to bucket '{bucket_name}'. Check your permissions.\")\n",
    "        else:\n",
    "            print(f\"ClientError: {e.response['Error']['Message']}\")\n",
    "    except Exception as e:\n",
    "        print(f\"Unexpected Error: {e}\")\n",
    "\n",
    "# Read the file from S3\n",
    "df = read_csv_from_s3(BUCKET_NAME, OBJECT_KEY)\n"
   ]
  },
  {
   "cell_type": "markdown",
   "metadata": {},
   "source": [
    "#### Refer From here -Selvin & Sanya"
   ]
  },
  {
   "cell_type": "code",
   "execution_count": 5,
   "metadata": {},
   "outputs": [
    {
     "ename": "FileNotFoundError",
     "evalue": "[Errno 2] No such file or directory: 'Data-Preparation-07.csv'",
     "output_type": "error",
     "traceback": [
      "\u001b[0;31m---------------------------------------------------------------------------\u001b[0m",
      "\u001b[0;31mFileNotFoundError\u001b[0m                         Traceback (most recent call last)",
      "Cell \u001b[0;32mIn[5], line 1\u001b[0m\n\u001b[0;32m----> 1\u001b[0m df \u001b[38;5;241m=\u001b[39m \u001b[43mpd\u001b[49m\u001b[38;5;241;43m.\u001b[39;49m\u001b[43mread_csv\u001b[49m\u001b[43m(\u001b[49m\u001b[38;5;124;43m'\u001b[39;49m\u001b[38;5;124;43mData-Preparation-07.csv\u001b[39;49m\u001b[38;5;124;43m'\u001b[39;49m\u001b[43m)\u001b[49m\n\u001b[1;32m      2\u001b[0m \u001b[38;5;28mprint\u001b[39m(df\u001b[38;5;241m.\u001b[39mshape)\n",
      "File \u001b[0;32m~/Library/Python/3.9/lib/python/site-packages/pandas/io/parsers/readers.py:1026\u001b[0m, in \u001b[0;36mread_csv\u001b[0;34m(filepath_or_buffer, sep, delimiter, header, names, index_col, usecols, dtype, engine, converters, true_values, false_values, skipinitialspace, skiprows, skipfooter, nrows, na_values, keep_default_na, na_filter, verbose, skip_blank_lines, parse_dates, infer_datetime_format, keep_date_col, date_parser, date_format, dayfirst, cache_dates, iterator, chunksize, compression, thousands, decimal, lineterminator, quotechar, quoting, doublequote, escapechar, comment, encoding, encoding_errors, dialect, on_bad_lines, delim_whitespace, low_memory, memory_map, float_precision, storage_options, dtype_backend)\u001b[0m\n\u001b[1;32m   1013\u001b[0m kwds_defaults \u001b[38;5;241m=\u001b[39m _refine_defaults_read(\n\u001b[1;32m   1014\u001b[0m     dialect,\n\u001b[1;32m   1015\u001b[0m     delimiter,\n\u001b[0;32m   (...)\u001b[0m\n\u001b[1;32m   1022\u001b[0m     dtype_backend\u001b[38;5;241m=\u001b[39mdtype_backend,\n\u001b[1;32m   1023\u001b[0m )\n\u001b[1;32m   1024\u001b[0m kwds\u001b[38;5;241m.\u001b[39mupdate(kwds_defaults)\n\u001b[0;32m-> 1026\u001b[0m \u001b[38;5;28;01mreturn\u001b[39;00m \u001b[43m_read\u001b[49m\u001b[43m(\u001b[49m\u001b[43mfilepath_or_buffer\u001b[49m\u001b[43m,\u001b[49m\u001b[43m \u001b[49m\u001b[43mkwds\u001b[49m\u001b[43m)\u001b[49m\n",
      "File \u001b[0;32m~/Library/Python/3.9/lib/python/site-packages/pandas/io/parsers/readers.py:620\u001b[0m, in \u001b[0;36m_read\u001b[0;34m(filepath_or_buffer, kwds)\u001b[0m\n\u001b[1;32m    617\u001b[0m _validate_names(kwds\u001b[38;5;241m.\u001b[39mget(\u001b[38;5;124m\"\u001b[39m\u001b[38;5;124mnames\u001b[39m\u001b[38;5;124m\"\u001b[39m, \u001b[38;5;28;01mNone\u001b[39;00m))\n\u001b[1;32m    619\u001b[0m \u001b[38;5;66;03m# Create the parser.\u001b[39;00m\n\u001b[0;32m--> 620\u001b[0m parser \u001b[38;5;241m=\u001b[39m \u001b[43mTextFileReader\u001b[49m\u001b[43m(\u001b[49m\u001b[43mfilepath_or_buffer\u001b[49m\u001b[43m,\u001b[49m\u001b[43m \u001b[49m\u001b[38;5;241;43m*\u001b[39;49m\u001b[38;5;241;43m*\u001b[39;49m\u001b[43mkwds\u001b[49m\u001b[43m)\u001b[49m\n\u001b[1;32m    622\u001b[0m \u001b[38;5;28;01mif\u001b[39;00m chunksize \u001b[38;5;129;01mor\u001b[39;00m iterator:\n\u001b[1;32m    623\u001b[0m     \u001b[38;5;28;01mreturn\u001b[39;00m parser\n",
      "File \u001b[0;32m~/Library/Python/3.9/lib/python/site-packages/pandas/io/parsers/readers.py:1620\u001b[0m, in \u001b[0;36mTextFileReader.__init__\u001b[0;34m(self, f, engine, **kwds)\u001b[0m\n\u001b[1;32m   1617\u001b[0m     \u001b[38;5;28mself\u001b[39m\u001b[38;5;241m.\u001b[39moptions[\u001b[38;5;124m\"\u001b[39m\u001b[38;5;124mhas_index_names\u001b[39m\u001b[38;5;124m\"\u001b[39m] \u001b[38;5;241m=\u001b[39m kwds[\u001b[38;5;124m\"\u001b[39m\u001b[38;5;124mhas_index_names\u001b[39m\u001b[38;5;124m\"\u001b[39m]\n\u001b[1;32m   1619\u001b[0m \u001b[38;5;28mself\u001b[39m\u001b[38;5;241m.\u001b[39mhandles: IOHandles \u001b[38;5;241m|\u001b[39m \u001b[38;5;28;01mNone\u001b[39;00m \u001b[38;5;241m=\u001b[39m \u001b[38;5;28;01mNone\u001b[39;00m\n\u001b[0;32m-> 1620\u001b[0m \u001b[38;5;28mself\u001b[39m\u001b[38;5;241m.\u001b[39m_engine \u001b[38;5;241m=\u001b[39m \u001b[38;5;28;43mself\u001b[39;49m\u001b[38;5;241;43m.\u001b[39;49m\u001b[43m_make_engine\u001b[49m\u001b[43m(\u001b[49m\u001b[43mf\u001b[49m\u001b[43m,\u001b[49m\u001b[43m \u001b[49m\u001b[38;5;28;43mself\u001b[39;49m\u001b[38;5;241;43m.\u001b[39;49m\u001b[43mengine\u001b[49m\u001b[43m)\u001b[49m\n",
      "File \u001b[0;32m~/Library/Python/3.9/lib/python/site-packages/pandas/io/parsers/readers.py:1880\u001b[0m, in \u001b[0;36mTextFileReader._make_engine\u001b[0;34m(self, f, engine)\u001b[0m\n\u001b[1;32m   1878\u001b[0m     \u001b[38;5;28;01mif\u001b[39;00m \u001b[38;5;124m\"\u001b[39m\u001b[38;5;124mb\u001b[39m\u001b[38;5;124m\"\u001b[39m \u001b[38;5;129;01mnot\u001b[39;00m \u001b[38;5;129;01min\u001b[39;00m mode:\n\u001b[1;32m   1879\u001b[0m         mode \u001b[38;5;241m+\u001b[39m\u001b[38;5;241m=\u001b[39m \u001b[38;5;124m\"\u001b[39m\u001b[38;5;124mb\u001b[39m\u001b[38;5;124m\"\u001b[39m\n\u001b[0;32m-> 1880\u001b[0m \u001b[38;5;28mself\u001b[39m\u001b[38;5;241m.\u001b[39mhandles \u001b[38;5;241m=\u001b[39m \u001b[43mget_handle\u001b[49m\u001b[43m(\u001b[49m\n\u001b[1;32m   1881\u001b[0m \u001b[43m    \u001b[49m\u001b[43mf\u001b[49m\u001b[43m,\u001b[49m\n\u001b[1;32m   1882\u001b[0m \u001b[43m    \u001b[49m\u001b[43mmode\u001b[49m\u001b[43m,\u001b[49m\n\u001b[1;32m   1883\u001b[0m \u001b[43m    \u001b[49m\u001b[43mencoding\u001b[49m\u001b[38;5;241;43m=\u001b[39;49m\u001b[38;5;28;43mself\u001b[39;49m\u001b[38;5;241;43m.\u001b[39;49m\u001b[43moptions\u001b[49m\u001b[38;5;241;43m.\u001b[39;49m\u001b[43mget\u001b[49m\u001b[43m(\u001b[49m\u001b[38;5;124;43m\"\u001b[39;49m\u001b[38;5;124;43mencoding\u001b[39;49m\u001b[38;5;124;43m\"\u001b[39;49m\u001b[43m,\u001b[49m\u001b[43m \u001b[49m\u001b[38;5;28;43;01mNone\u001b[39;49;00m\u001b[43m)\u001b[49m\u001b[43m,\u001b[49m\n\u001b[1;32m   1884\u001b[0m \u001b[43m    \u001b[49m\u001b[43mcompression\u001b[49m\u001b[38;5;241;43m=\u001b[39;49m\u001b[38;5;28;43mself\u001b[39;49m\u001b[38;5;241;43m.\u001b[39;49m\u001b[43moptions\u001b[49m\u001b[38;5;241;43m.\u001b[39;49m\u001b[43mget\u001b[49m\u001b[43m(\u001b[49m\u001b[38;5;124;43m\"\u001b[39;49m\u001b[38;5;124;43mcompression\u001b[39;49m\u001b[38;5;124;43m\"\u001b[39;49m\u001b[43m,\u001b[49m\u001b[43m \u001b[49m\u001b[38;5;28;43;01mNone\u001b[39;49;00m\u001b[43m)\u001b[49m\u001b[43m,\u001b[49m\n\u001b[1;32m   1885\u001b[0m \u001b[43m    \u001b[49m\u001b[43mmemory_map\u001b[49m\u001b[38;5;241;43m=\u001b[39;49m\u001b[38;5;28;43mself\u001b[39;49m\u001b[38;5;241;43m.\u001b[39;49m\u001b[43moptions\u001b[49m\u001b[38;5;241;43m.\u001b[39;49m\u001b[43mget\u001b[49m\u001b[43m(\u001b[49m\u001b[38;5;124;43m\"\u001b[39;49m\u001b[38;5;124;43mmemory_map\u001b[39;49m\u001b[38;5;124;43m\"\u001b[39;49m\u001b[43m,\u001b[49m\u001b[43m \u001b[49m\u001b[38;5;28;43;01mFalse\u001b[39;49;00m\u001b[43m)\u001b[49m\u001b[43m,\u001b[49m\n\u001b[1;32m   1886\u001b[0m \u001b[43m    \u001b[49m\u001b[43mis_text\u001b[49m\u001b[38;5;241;43m=\u001b[39;49m\u001b[43mis_text\u001b[49m\u001b[43m,\u001b[49m\n\u001b[1;32m   1887\u001b[0m \u001b[43m    \u001b[49m\u001b[43merrors\u001b[49m\u001b[38;5;241;43m=\u001b[39;49m\u001b[38;5;28;43mself\u001b[39;49m\u001b[38;5;241;43m.\u001b[39;49m\u001b[43moptions\u001b[49m\u001b[38;5;241;43m.\u001b[39;49m\u001b[43mget\u001b[49m\u001b[43m(\u001b[49m\u001b[38;5;124;43m\"\u001b[39;49m\u001b[38;5;124;43mencoding_errors\u001b[39;49m\u001b[38;5;124;43m\"\u001b[39;49m\u001b[43m,\u001b[49m\u001b[43m \u001b[49m\u001b[38;5;124;43m\"\u001b[39;49m\u001b[38;5;124;43mstrict\u001b[39;49m\u001b[38;5;124;43m\"\u001b[39;49m\u001b[43m)\u001b[49m\u001b[43m,\u001b[49m\n\u001b[1;32m   1888\u001b[0m \u001b[43m    \u001b[49m\u001b[43mstorage_options\u001b[49m\u001b[38;5;241;43m=\u001b[39;49m\u001b[38;5;28;43mself\u001b[39;49m\u001b[38;5;241;43m.\u001b[39;49m\u001b[43moptions\u001b[49m\u001b[38;5;241;43m.\u001b[39;49m\u001b[43mget\u001b[49m\u001b[43m(\u001b[49m\u001b[38;5;124;43m\"\u001b[39;49m\u001b[38;5;124;43mstorage_options\u001b[39;49m\u001b[38;5;124;43m\"\u001b[39;49m\u001b[43m,\u001b[49m\u001b[43m \u001b[49m\u001b[38;5;28;43;01mNone\u001b[39;49;00m\u001b[43m)\u001b[49m\u001b[43m,\u001b[49m\n\u001b[1;32m   1889\u001b[0m \u001b[43m\u001b[49m\u001b[43m)\u001b[49m\n\u001b[1;32m   1890\u001b[0m \u001b[38;5;28;01massert\u001b[39;00m \u001b[38;5;28mself\u001b[39m\u001b[38;5;241m.\u001b[39mhandles \u001b[38;5;129;01mis\u001b[39;00m \u001b[38;5;129;01mnot\u001b[39;00m \u001b[38;5;28;01mNone\u001b[39;00m\n\u001b[1;32m   1891\u001b[0m f \u001b[38;5;241m=\u001b[39m \u001b[38;5;28mself\u001b[39m\u001b[38;5;241m.\u001b[39mhandles\u001b[38;5;241m.\u001b[39mhandle\n",
      "File \u001b[0;32m~/Library/Python/3.9/lib/python/site-packages/pandas/io/common.py:873\u001b[0m, in \u001b[0;36mget_handle\u001b[0;34m(path_or_buf, mode, encoding, compression, memory_map, is_text, errors, storage_options)\u001b[0m\n\u001b[1;32m    868\u001b[0m \u001b[38;5;28;01melif\u001b[39;00m \u001b[38;5;28misinstance\u001b[39m(handle, \u001b[38;5;28mstr\u001b[39m):\n\u001b[1;32m    869\u001b[0m     \u001b[38;5;66;03m# Check whether the filename is to be opened in binary mode.\u001b[39;00m\n\u001b[1;32m    870\u001b[0m     \u001b[38;5;66;03m# Binary mode does not support 'encoding' and 'newline'.\u001b[39;00m\n\u001b[1;32m    871\u001b[0m     \u001b[38;5;28;01mif\u001b[39;00m ioargs\u001b[38;5;241m.\u001b[39mencoding \u001b[38;5;129;01mand\u001b[39;00m \u001b[38;5;124m\"\u001b[39m\u001b[38;5;124mb\u001b[39m\u001b[38;5;124m\"\u001b[39m \u001b[38;5;129;01mnot\u001b[39;00m \u001b[38;5;129;01min\u001b[39;00m ioargs\u001b[38;5;241m.\u001b[39mmode:\n\u001b[1;32m    872\u001b[0m         \u001b[38;5;66;03m# Encoding\u001b[39;00m\n\u001b[0;32m--> 873\u001b[0m         handle \u001b[38;5;241m=\u001b[39m \u001b[38;5;28;43mopen\u001b[39;49m\u001b[43m(\u001b[49m\n\u001b[1;32m    874\u001b[0m \u001b[43m            \u001b[49m\u001b[43mhandle\u001b[49m\u001b[43m,\u001b[49m\n\u001b[1;32m    875\u001b[0m \u001b[43m            \u001b[49m\u001b[43mioargs\u001b[49m\u001b[38;5;241;43m.\u001b[39;49m\u001b[43mmode\u001b[49m\u001b[43m,\u001b[49m\n\u001b[1;32m    876\u001b[0m \u001b[43m            \u001b[49m\u001b[43mencoding\u001b[49m\u001b[38;5;241;43m=\u001b[39;49m\u001b[43mioargs\u001b[49m\u001b[38;5;241;43m.\u001b[39;49m\u001b[43mencoding\u001b[49m\u001b[43m,\u001b[49m\n\u001b[1;32m    877\u001b[0m \u001b[43m            \u001b[49m\u001b[43merrors\u001b[49m\u001b[38;5;241;43m=\u001b[39;49m\u001b[43merrors\u001b[49m\u001b[43m,\u001b[49m\n\u001b[1;32m    878\u001b[0m \u001b[43m            \u001b[49m\u001b[43mnewline\u001b[49m\u001b[38;5;241;43m=\u001b[39;49m\u001b[38;5;124;43m\"\u001b[39;49m\u001b[38;5;124;43m\"\u001b[39;49m\u001b[43m,\u001b[49m\n\u001b[1;32m    879\u001b[0m \u001b[43m        \u001b[49m\u001b[43m)\u001b[49m\n\u001b[1;32m    880\u001b[0m     \u001b[38;5;28;01melse\u001b[39;00m:\n\u001b[1;32m    881\u001b[0m         \u001b[38;5;66;03m# Binary mode\u001b[39;00m\n\u001b[1;32m    882\u001b[0m         handle \u001b[38;5;241m=\u001b[39m \u001b[38;5;28mopen\u001b[39m(handle, ioargs\u001b[38;5;241m.\u001b[39mmode)\n",
      "\u001b[0;31mFileNotFoundError\u001b[0m: [Errno 2] No such file or directory: 'Data-Preparation-07.csv'"
     ]
    }
   ],
   "source": [
    "df = pd.read_csv('Data-Preparation-07.csv')\n",
    "print(df.shape)"
   ]
  },
  {
   "cell_type": "markdown",
   "metadata": {},
   "source": [
    "### Removing irrelevant columns as per domain knowledge"
   ]
  },
  {
   "cell_type": "code",
   "execution_count": 27,
   "metadata": {},
   "outputs": [],
   "source": [
    "irrelevant_columns = [\n",
    "    # Climate Control & Cabin Features\n",
    "    'is_climate_on', 'driver_temp_setting', 'passenger_temp_setting',\n",
    "    'seat_heater_left', 'seat_heater_right', 'steering_wheel_heater',\n",
    "    'side_mirror_heaters', 'fan_status', 'auto_seat_climate_left', 'auto_seat_climate_right',\n",
    "    \n",
    "    # Safety Systems & Warnings\n",
    "    'sentry_mode', 'service_mode', 'valet_mode',\n",
    "    'tpms_hard_warning_fl', 'tpms_hard_warning_fr', 'tpms_hard_warning_rl', 'tpms_hard_warning_rr',\n",
    "    'tpms_last_seen_pressure_time_fl', 'tpms_last_seen_pressure_time_fr',\n",
    "    'tpms_last_seen_pressure_time_rl', 'tpms_last_seen_pressure_time_rr',\n",
    "    'tpms_pressure_fl', 'tpms_pressure_fr', 'tpms_pressure_rl', 'tpms_pressure_rr',\n",
    "    'tpms_rcp_front_value', 'tpms_rcp_rear_value',\n",
    "    'tpms_soft_warning_fl', 'tpms_soft_warning_fr', 'tpms_soft_warning_rl', 'tpms_soft_warning_rr',\n",
    "    \n",
    "    # Entertainment & Miscellaneous\n",
    "    'webcam_selfie_supported', 'webcam_supported', 'santa_mode', 'notifications_supported',\n",
    "    \n",
    "    # Charging Scheduling (Detailed)\n",
    "    'off_peak_charging_enabled', 'off_peak_hours_end_time', 'preconditioning_times',\n",
    "    \n",
    "    # Appearance & Vehicle Metadata\n",
    "    'exterior_color', 'wheel_type', 'interior_trim_type',\n",
    "    'roof_color', 'vehicle_name', 'car_special_type'\n",
    "]\n",
    "\n",
    "# Drop the columns\n",
    "df = df.drop(columns=irrelevant_columns, errors='ignore')\n"
   ]
  },
  {
   "cell_type": "code",
   "execution_count": 28,
   "metadata": {},
   "outputs": [
    {
     "data": {
      "text/plain": [
       "(2949338, 181)"
      ]
     },
     "execution_count": 28,
     "metadata": {},
     "output_type": "execute_result"
    }
   ],
   "source": [
    "df.shape"
   ]
  },
  {
   "cell_type": "code",
   "execution_count": null,
   "metadata": {},
   "outputs": [],
   "source": []
  }
 ],
 "metadata": {
  "kernelspec": {
   "display_name": ".venv",
   "language": "python",
   "name": "python3"
  },
  "language_info": {
   "codemirror_mode": {
    "name": "ipython",
    "version": 3
   },
   "file_extension": ".py",
   "mimetype": "text/x-python",
   "name": "python",
   "nbconvert_exporter": "python",
   "pygments_lexer": "ipython3",
   "version": "3.9.6"
  }
 },
 "nbformat": 4,
 "nbformat_minor": 2
}
