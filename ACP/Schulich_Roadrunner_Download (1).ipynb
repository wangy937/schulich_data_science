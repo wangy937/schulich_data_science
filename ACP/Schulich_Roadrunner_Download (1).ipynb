{
 "cells": [
  {
   "cell_type": "code",
   "execution_count": null,
   "id": "97d57691-7289-4c7c-8047-a88f886864b4",
   "metadata": {},
   "outputs": [],
   "source": [
    "import boto3\n",
    "import os"
   ]
  },
  {
   "cell_type": "markdown",
   "id": "fc6a11ff-400f-46cb-a999-32c9fe4055d1",
   "metadata": {},
   "source": [
    "## Test Connection Script"
   ]
  },
  {
   "cell_type": "code",
   "execution_count": null,
   "id": "b096494c-9d73-4862-b649-1a3c972e353e",
   "metadata": {},
   "outputs": [],
   "source": [
    "# Configuration Variables\n",
    "BUCKET_NAME = 'schulich-project-roadrunner'\n",
    "\n",
    "# Create a session and client\n",
    "s3 = boto3.client('s3')\n",
    "\n",
    "# Check if you can access the bucket\n",
    "try:\n",
    "    s3.head_bucket(Bucket=BUCKET_NAME)\n",
    "    print(f\"Successfully connected to the bucket: {BUCKET_NAME}\")\n",
    "except Exception as e:\n",
    "    print(f\"Failed to connect to the bucket: {BUCKET_NAME}\")\n",
    "    print(e)"
   ]
  },
  {
   "cell_type": "markdown",
   "id": "f3d84111-61c8-4f7e-806e-ed0c451a2d6c",
   "metadata": {},
   "source": [
    "## Download the Data"
   ]
  },
  {
   "cell_type": "code",
   "execution_count": null,
   "id": "77ba0bea-6aec-41cb-8d3f-86078d04216e",
   "metadata": {},
   "outputs": [],
   "source": [
    "# Example Script to download the data\n",
    "import boto3\n",
    "import os\n",
    "\n",
    "# Configuration Variables\n",
    "BUCKET_NAME = 'schulich-project-roadrunner'\n",
    "LOCAL_DOWNLOAD_PATH = './vehicle_data/'  # Replace with whatever the path you would like to store those vehicle data\n",
    "\n",
    "# Create a session and client\n",
    "s3 = boto3.client('s3')\n",
    "\n",
    "def bulk_download_from_s3(bucket_name, user_type, country, year, months, encrypted_vins, local_download_path):\n",
    "    # Ensure the local directory exists\n",
    "    if not os.path.exists(local_download_path):\n",
    "        os.makedirs(local_download_path)\n",
    "\n",
    "    # Iterate over each month and encrypted_vin\n",
    "    for month in months:\n",
    "        for encrypted_vin in encrypted_vins:\n",
    "            # Construct the prefix for the S3 path\n",
    "            prefix = f\"{user_type}/{country}/{year}/{month}/\"\n",
    "            if encrypted_vin:\n",
    "                prefix += f\"{encrypted_vin}/\"\n",
    "\n",
    "            continuation_token = None\n",
    "            while True:\n",
    "                # List objects in the specified bucket and prefix\n",
    "                if continuation_token:\n",
    "                    response = s3.list_objects_v2(Bucket=bucket_name, Prefix=prefix, ContinuationToken=continuation_token)\n",
    "                else:\n",
    "                    response = s3.list_objects_v2(Bucket=bucket_name, Prefix=prefix)\n",
    "\n",
    "                if 'Contents' in response:\n",
    "                    for obj in response['Contents']:\n",
    "                        key = obj['Key']\n",
    "                        # Only download CSV files\n",
    "                        if key.endswith('.csv'):\n",
    "                            # Construct the full local file path, preserving the structure\n",
    "                            local_file_path = os.path.join(local_download_path, key)\n",
    "\n",
    "                            # Check if the file already exists\n",
    "                            if os.path.exists(local_file_path):\n",
    "                                print(f\"File {local_file_path} already exists. Skipping download.\")\n",
    "                                continue\n",
    "\n",
    "                            # Create subdirectories if they don't exist\n",
    "                            local_dir = os.path.dirname(local_file_path)\n",
    "                            if not os.path.exists(local_dir):\n",
    "                                os.makedirs(local_dir)\n",
    "\n",
    "                            # Download the file\n",
    "                            print(f\"Downloading {key} to {local_file_path}\")\n",
    "                            s3.download_file(bucket_name, key, local_file_path)\n",
    "\n",
    "                # Handle pagination\n",
    "                if response.get('IsTruncated'):  # More results are available\n",
    "                    continuation_token = response.get('NextContinuationToken')\n",
    "                else:\n",
    "                    break\n",
    "\n",
    "# Run the download function\n",
    "# Example: Download all CSVs for year 2024, months ['07', '08'], and encrypted_vins ['abc123', None].\n",
    "# If encrypted_vin is None, all VINs for the specified year and month will be downloaded.\n",
    "user_type = 'IN'  # or 'FM'. 'IN' individual or 'FM' fleet manager.\n",
    "country = 'CA'  # Two-letter country code, e.g., 'US', 'CA'\n",
    "year = '2024'\n",
    "months = ['07', '08']\n",
    "encrypted_vins = ['-0aLNtbYFtsTgXFS7', '-efOV-tY9RQqfGdWO', '-zId26lhoDxoP475C']  # Set it to [None] to download all VINs\n",
    "bulk_download_from_s3(BUCKET_NAME, user_type, country, year, months, encrypted_vins, LOCAL_DOWNLOAD_PATH)\n"
   ]
  }
 ],
 "metadata": {
  "kernelspec": {
   "display_name": "Python 3 (ipykernel)",
   "language": "python",
   "name": "python3"
  },
  "language_info": {
   "codemirror_mode": {
    "name": "ipython",
    "version": 3
   },
   "file_extension": ".py",
   "mimetype": "text/x-python",
   "name": "python",
   "nbconvert_exporter": "python",
   "pygments_lexer": "ipython3",
   "version": "3.8.13"
  }
 },
 "nbformat": 4,
 "nbformat_minor": 5
}
