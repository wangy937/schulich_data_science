{
 "cells": [
  {
   "cell_type": "code",
   "execution_count": 29,
   "metadata": {},
   "outputs": [
    {
     "name": "stdout",
     "output_type": "stream",
     "text": [
      "筛选后的数据已成功保存到: /Users/Sam/Downloads/filtered_data_feb_24.csv\n"
     ]
    }
   ],
   "source": [
    "import pandas as pd\n",
    "import os\n",
    "import re\n",
    "\n",
    "# 设置输入文件路径（修改为你的实际路径）\n",
    "input_file_path = \"/Users/Sam/Downloads/processed_data_feb_24.csv\"\n",
    "\n",
    "# 使用正则表达式提取月份（假设格式固定为 processed_data_<month>_24.csv）\n",
    "match = re.search(r'processed_data_([a-z]+)_24\\.csv', os.path.basename(input_file_path))\n",
    "if match:\n",
    "    month = match.group(1)  # 提取到的月份\n",
    "else:\n",
    "    raise ValueError(\"无法解析文件名中的月份，请检查文件名格式！\")\n",
    "\n",
    "# 读取 CSV 文件\n",
    "df = pd.read_csv(input_file_path)\n",
    "\n",
    "# 需要保留的列\n",
    "columns_to_keep = [\n",
    "    \"battery_heater_on\", \"battery_range\", \"charge_limit_soc\", \"charge_limit_soc_max\", \n",
    "    \"charge_miles_added_ideal\", \"charge_miles_added_rated\", \"charge_port_cold_weather_mode\", \n",
    "    \"charge_port_door_open\", \"charger_pilot_current\", \"charger_power\", \"charger_voltage\", \n",
    "    \"fast_charger_present\", \"preconditioning_enabled\", \"scheduled_departure_time\", \n",
    "    \"scheduled_departure_time_minutes\", \"timestamp\", \"auto_steering_wheel_heat\", \n",
    "    \"battery_heater\", \"bioweapon_mode\", \"cabin_overheat_protection\", \"defrost_mode\", \n",
    "    \"inside_temp\", \"outside_temp\", \"remote_heater_control_enabled\", \"active_route_energy_at_arrival\", \n",
    "    \"active_route_miles_to_arrival\", \"active_route_minutes_to_arrival\", \n",
    "    \"active_route_traffic_minutes_delay\", \"speed\", \"can_accept_navigation_requests\", \n",
    "    \"cop_user_set_temp_supported\", \"driver_assist\", \"api_version\", \"autopark_state_v2\", \n",
    "    \"dashcam_clip_save_available\", \"dashcam_state\", \"df\", \"dr\", \"fd_window\", \n",
    "    \"fp_window\", \"ft\", \"is_user_present\", \"locked\", \"notifications_supported\", \"pf\", \n",
    "    \"pr\", \"rd_window\", \"remote_start\", \"remote_start_enabled\", \"rp_window\", \"rt\", \n",
    "    \"sentry_mode_available\", \"speed_limit_mode\", \"vehicle_self_test_progress\", \n",
    "    \"vehicle_self_test_requested\", \"active_route_latitude\", \"latitude\", \"active_route_longitude\", \"longitude\"\n",
    "]\n",
    "\n",
    "# 仅保留指定的列（如果某些列不存在，不会报错）\n",
    "df_filtered = df[[col for col in columns_to_keep if col in df.columns]]\n",
    "\n",
    "# 自动生成输出文件路径\n",
    "output_file_path = f\"/Users/Sam/Downloads/filtered_data_{month}_24.csv\"\n",
    "\n",
    "# 保存筛选后的 DataFrame 到 CSV 文件\n",
    "df_filtered.to_csv(output_file_path, index=False)\n",
    "\n",
    "# 打印保存成功的信息\n",
    "print(f\"筛选后的数据已成功保存到: {output_file_path}\")\n"
   ]
  },
  {
   "cell_type": "code",
   "execution_count": 52,
   "metadata": {},
   "outputs": [
    {
     "name": "stderr",
     "output_type": "stream",
     "text": [
      "/var/folders/t8/98kc315d6592z5nmcq76rt9h0000gn/T/ipykernel_40861/3536094125.py:16: DtypeWarning: Columns (14,16,28,45,47,50,52,60,76,92,122,131,135) have mixed types. Specify dtype option on import or set low_memory=False.\n",
      "  df = pd.read_csv(input_file_path)\n"
     ]
    },
    {
     "name": "stdout",
     "output_type": "stream",
     "text": [
      "筛选后的数据已成功保存到: /Users/Sam/Downloads/filtered_data_dec_24.csv\n"
     ]
    }
   ],
   "source": [
    "import pandas as pd\n",
    "import os\n",
    "import re\n",
    "\n",
    "# 设置输入文件路径（修改为你的实际路径）\n",
    "input_file_path = \"/Users/Sam/Downloads/processed_data_dec_24.csv\"\n",
    "\n",
    "# 使用正则表达式提取月份（假设格式固定为 processed_data_<month>_24.csv）\n",
    "match = re.search(r'processed_data_([a-z]+)_24\\.csv', os.path.basename(input_file_path))\n",
    "if match:\n",
    "    month = match.group(1)  # 提取到的月份\n",
    "else:\n",
    "    raise ValueError(\"无法解析文件名中的月份，请检查文件名格式！\")\n",
    "\n",
    "# 读取 CSV 文件\n",
    "df = pd.read_csv(input_file_path)\n",
    "\n",
    "# 需要保留的列\n",
    "columns_to_keep = [\n",
    "    \"battery_heater_on\", \"battery_range\", \"charge_limit_soc\", \"charge_limit_soc_max\", \n",
    "    \"charge_miles_added_ideal\", \"charge_miles_added_rated\", \"charge_port_cold_weather_mode\", \n",
    "    \"charge_port_door_open\", \"charger_pilot_current\", \"charger_power\", \"charger_voltage\", \n",
    "    \"fast_charger_present\", \"preconditioning_enabled\", \"scheduled_departure_time\", \n",
    "    \"scheduled_departure_time_minutes\", \"timestamp\", \"auto_steering_wheel_heat\", \n",
    "    \"battery_heater\", \"bioweapon_mode\", \"cabin_overheat_protection\", \"defrost_mode\", \n",
    "    \"inside_temp\", \"outside_temp\", \"remote_heater_control_enabled\", \"active_route_energy_at_arrival\", \n",
    "    \"active_route_miles_to_arrival\", \"active_route_minutes_to_arrival\", \n",
    "    \"active_route_traffic_minutes_delay\", \"speed\", \"can_accept_navigation_requests\", \n",
    "    \"cop_user_set_temp_supported\", \"driver_assist\", \"api_version\", \"autopark_state_v2\", \n",
    "    \"dashcam_clip_save_available\", \"dashcam_state\", \"df\", \"dr\", \"fd_window\", \n",
    "    \"fp_window\", \"ft\", \"is_user_present\", \"locked\", \"notifications_supported\", \"pf\", \n",
    "    \"pr\", \"rd_window\", \"remote_start\", \"remote_start_enabled\", \"rp_window\", \"rt\", \n",
    "    \"sentry_mode_available\", \"speed_limit_mode\", \"vehicle_self_test_progress\", \n",
    "    \"vehicle_self_test_requested\", \"active_route_latitude\", \"latitude\", \n",
    "    \"active_route_longitude\", \"longitude\"\n",
    "]\n",
    "\n",
    "# 仅保留指定的列（如果某些列不存在，不会报错）\n",
    "df_filtered = df[[col for col in columns_to_keep if col in df.columns]]\n",
    "\n",
    "# 删除完全为空的列\n",
    "df_filtered = df_filtered.dropna(axis=1, how='all')\n",
    "\n",
    "# 自动生成输出文件路径\n",
    "output_file_path = f\"/Users/Sam/Downloads/filtered_data_{month}_24.csv\"\n",
    "\n",
    "# 保存筛选后的 DataFrame 到 CSV 文件\n",
    "df_filtered.to_csv(output_file_path, index=False)\n",
    "\n",
    "# 打印保存成功的信息\n",
    "print(f\"筛选后的数据已成功保存到: {output_file_path}\")\n"
   ]
  },
  {
   "cell_type": "code",
   "execution_count": null,
   "metadata": {},
   "outputs": [],
   "source": []
  }
 ],
 "metadata": {
  "kernelspec": {
   "display_name": "Python 3",
   "language": "python",
   "name": "python3"
  },
  "language_info": {
   "codemirror_mode": {
    "name": "ipython",
    "version": 3
   },
   "file_extension": ".py",
   "mimetype": "text/x-python",
   "name": "python",
   "nbconvert_exporter": "python",
   "pygments_lexer": "ipython3",
   "version": "3.9.6"
  }
 },
 "nbformat": 4,
 "nbformat_minor": 2
}
