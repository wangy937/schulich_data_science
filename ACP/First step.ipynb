{
 "cells": [
  {
   "cell_type": "code",
   "execution_count": 1,
   "metadata": {},
   "outputs": [
    {
     "name": "stdout",
     "output_type": "stream",
     "text": [
      "Defaulting to user installation because normal site-packages is not writeable\n",
      "Requirement already satisfied: boto3 in /Users/sam/Library/Python/3.9/lib/python/site-packages (1.35.48)\n",
      "Requirement already satisfied: s3transfer<0.11.0,>=0.10.0 in /Users/sam/Library/Python/3.9/lib/python/site-packages (from boto3) (0.10.3)\n",
      "Requirement already satisfied: jmespath<2.0.0,>=0.7.1 in /Users/sam/Library/Python/3.9/lib/python/site-packages (from boto3) (1.0.1)\n",
      "Requirement already satisfied: botocore<1.36.0,>=1.35.48 in /Users/sam/Library/Python/3.9/lib/python/site-packages (from boto3) (1.35.48)\n",
      "Requirement already satisfied: python-dateutil<3.0.0,>=2.1 in /Users/sam/Library/Python/3.9/lib/python/site-packages (from botocore<1.36.0,>=1.35.48->boto3) (2.9.0.post0)\n",
      "Requirement already satisfied: urllib3<1.27,>=1.25.4 in /Users/sam/Library/Python/3.9/lib/python/site-packages (from botocore<1.36.0,>=1.35.48->boto3) (1.26.20)\n",
      "Requirement already satisfied: six>=1.5 in /Library/Developer/CommandLineTools/Library/Frameworks/Python3.framework/Versions/3.9/lib/python3.9/site-packages (from python-dateutil<3.0.0,>=2.1->botocore<1.36.0,>=1.35.48->boto3) (1.15.0)\n",
      "\u001b[33mWARNING: You are using pip version 21.2.4; however, version 24.3.1 is available.\n",
      "You should consider upgrading via the '/Library/Developer/CommandLineTools/usr/bin/python3 -m pip install --upgrade pip' command.\u001b[0m\n",
      "Note: you may need to restart the kernel to use updated packages.\n"
     ]
    }
   ],
   "source": [
    "pip install boto3"
   ]
  },
  {
   "cell_type": "code",
   "execution_count": 2,
   "metadata": {},
   "outputs": [
    {
     "name": "stdout",
     "output_type": "stream",
     "text": [
      "Successfully connected to the bucket: schulich-project-roadrunner\n"
     ]
    }
   ],
   "source": [
    "import boto3\n",
    "# Configuration Variables\n",
    "BUCKET_NAME ='schulich-project-roadrunner'\n",
    "# Create a session and client\n",
    "s3 = boto3.client('s3')\n",
    "# Check if you can access the bucket\n",
    "try:\n",
    "    s3.head_bucket(Bucket=BUCKET_NAME)\n",
    "    print(f\"Successfully connected to the bucket: {BUCKET_NAME}\")\n",
    "except Exception as e:\n",
    "    print(f\"Failed to connect to the bucket: {BUCKET_NAME}\")\n",
    "    print(e)"
   ]
  },
  {
   "cell_type": "code",
   "execution_count": 4,
   "metadata": {},
   "outputs": [
    {
     "ename": "SyntaxError",
     "evalue": "invalid syntax (3846288016.py, line 28)",
     "output_type": "error",
     "traceback": [
      "\u001b[0;36m  Cell \u001b[0;32mIn[4], line 28\u001b[0;36m\u001b[0m\n\u001b[0;31m    response =\u001b[0m\n\u001b[0m              ^\u001b[0m\n\u001b[0;31mSyntaxError\u001b[0m\u001b[0;31m:\u001b[0m invalid syntax\n"
     ]
    }
   ],
   "source": [
    "# Example Script to download the data\n",
    "import boto3\n",
    "import os\n",
    "# Configuration Variables\n",
    "BUCKET_NAME ='schulich-project-roadrunner'\n",
    "LOCAL_DOWNLOAD_PATH ='./vehicle_data/' \n",
    "# Replace with whatever the path you would like to store those vehicle data\n",
    "\n",
    "# Create a session and client\n",
    "s3 = boto3.client('s3')\n",
    "\n",
    "def bulk_download_from_s3(bucket_name, year, months,\n",
    "encrypted_vins, local_download_path):\n",
    "    # Ensure the local directory exists\n",
    "    if not os.path.exists(local_download_path):\n",
    "        os.makedirs(local_download_path)\n",
    "    # Iterate over each month and encrypted_vin\n",
    "    for month in months:\n",
    "        for encrypted_vin in encrypted_vins:\n",
    "            # Construct the prefix for the S3 path\n",
    "            prefix = f\"{year}/{month}/\"\n",
    "            if encrypted_vin:\n",
    "                prefix += f\"{encrypted_vin}/\"\n",
    "            continuation_token = None\n",
    "            while True:\n",
    "                # List objects in the specified bucket and prefix\n",
    "                if continuation_token:\n",
    "                    response =\n",
    "s3.list_objects_v2(Bucket=bucket_name, Prefix=prefix,\n",
    "ContinuationToken=continuation_token)\n",
    "                else:\n",
    "                    response =\n",
    "s3.list_objects_v2(Bucket=bucket_name, Prefix=prefix)\n",
    "\n",
    "                if 'Contents' in response:\n",
    "                    for obj in response['Contents']:\n",
    "                        key = obj['Key']\n",
    "                        # Only download CSV files\n",
    "                        if key.endswith('.csv'):\n",
    "                            # Construct the full local file path,\n",
    "preserving the structure\n",
    "                            local_file_path =\n",
    "\n",
    "\n",
    "os.path.join(local_download_path, key)\n",
    "                            # Check if the file already exists\n",
    "                            if os.path.exists(local_file_path):\n",
    "                                print(f\"File {local_file_path}\n",
    "already exists. Skipping download.\")\n",
    "                                continue\n",
    "\n",
    "                            # Create subdirectories if they don't\n",
    "exist\n",
    "                            local_dir =\n",
    "os.path.dirname(local_file_path)\n",
    "                            if not os.path.exists(local_dir):\n",
    "\n",
    "\n"
   ]
  },
  {
   "cell_type": "code",
   "execution_count": null,
   "metadata": {},
   "outputs": [],
   "source": []
  }
 ],
 "metadata": {
  "kernelspec": {
   "display_name": "Python 3",
   "language": "python",
   "name": "python3"
  },
  "language_info": {
   "codemirror_mode": {
    "name": "ipython",
    "version": 3
   },
   "file_extension": ".py",
   "mimetype": "text/x-python",
   "name": "python",
   "nbconvert_exporter": "python",
   "pygments_lexer": "ipython3",
   "version": "3.9.6"
  }
 },
 "nbformat": 4,
 "nbformat_minor": 2
}
