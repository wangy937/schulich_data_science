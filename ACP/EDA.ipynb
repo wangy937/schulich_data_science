{
 "cells": [
  {
   "cell_type": "code",
   "execution_count": 1,
   "metadata": {},
   "outputs": [],
   "source": [
    "import pandas as pd\n",
    "from sklearn.model_selection import train_test_split\n",
    "from sklearn.preprocessing import OneHotEncoder, StandardScaler\n",
    "from sklearn.compose import ColumnTransformer\n",
    "from sklearn.pipeline import Pipeline\n",
    "import seaborn as sns\n",
    "import matplotlib.pyplot as plt"
   ]
  },
  {
   "cell_type": "code",
   "execution_count": 2,
   "metadata": {},
   "outputs": [
    {
     "name": "stderr",
     "output_type": "stream",
     "text": [
      "/var/folders/t8/98kc315d6592z5nmcq76rt9h0000gn/T/ipykernel_11661/4276208191.py:1: DtypeWarning: Columns (14,16,28,48,55,67,86,89,121,148,151,155) have mixed types. Specify dtype option on import or set low_memory=False.\n",
      "  df = pd.read_csv('/Users/Sam/Downloads/1b2120dc-435f-477e-abde-53c032695673.csv')\n"
     ]
    },
    {
     "name": "stdout",
     "output_type": "stream",
     "text": [
      "(240713, 215)\n"
     ]
    }
   ],
   "source": [
    "df = pd.read_csv('/Users/Sam/Downloads/1b2120dc-435f-477e-abde-53c032695673.csv')\n",
    "print(df.shape)"
   ]
  },
  {
   "cell_type": "code",
   "execution_count": 3,
   "metadata": {},
   "outputs": [],
   "source": [
    "irrelevant_columns = [\n",
    "    # Climate Control & Cabin Features\n",
    "    'is_climate_on', 'driver_temp_setting', 'passenger_temp_setting',\n",
    "    'seat_heater_left', 'seat_heater_right', 'steering_wheel_heater',\n",
    "    'side_mirror_heaters', 'fan_status', 'auto_seat_climate_left', 'auto_seat_climate_right',\n",
    "    \n",
    "    # Safety Systems & Warnings\n",
    "    'sentry_mode', 'service_mode', 'valet_mode',\n",
    "    'tpms_hard_warning_fl', 'tpms_hard_warning_fr', 'tpms_hard_warning_rl', 'tpms_hard_warning_rr',\n",
    "    'tpms_last_seen_pressure_time_fl', 'tpms_last_seen_pressure_time_fr',\n",
    "    'tpms_last_seen_pressure_time_rl', 'tpms_last_seen_pressure_time_rr',\n",
    "    'tpms_pressure_fl', 'tpms_pressure_fr', 'tpms_pressure_rl', 'tpms_pressure_rr',\n",
    "    'tpms_rcp_front_value', 'tpms_rcp_rear_value',\n",
    "    'tpms_soft_warning_fl', 'tpms_soft_warning_fr', 'tpms_soft_warning_rl', 'tpms_soft_warning_rr',\n",
    "    \n",
    "    # Entertainment & Miscellaneous\n",
    "    'webcam_selfie_supported', 'webcam_supported', 'santa_mode', 'notifications_supported',\n",
    "    \n",
    "    # Charging Scheduling (Detailed)\n",
    "    'off_peak_charging_enabled', 'off_peak_hours_end_time', 'preconditioning_times',\n",
    "    'charge_current_request', 'charge_current_request_max',  # Unnecessary charging diagnostics\n",
    "\n",
    "    # Appearance & Vehicle Metadata\n",
    "    'exterior_color', 'wheel_type', 'interior_trim_type',\n",
    "    'roof_color', 'vehicle_name', 'car_special_type',\n",
    "\n",
    "    # Diagnostic & Metadata\n",
    "    'vehicle_self_test_progress',  # Unrelated to current features\n",
    "    'vehicle_self_test_requested',  # Duplicate from diagnostics\n",
    "    'dashcam_statesentry_mode',  # Specific to safety but not prioritized\n",
    "\n",
    "    # Redundant and Granular Features\n",
    "    'battery_energy_remaining',  # Not specified in battery recommendations\n",
    "    'active_route_speed_limit_mph',  # Too detailed for route guidance\n",
    "\n",
    "    # Other redundant or rarely used columns\n",
    "    'valet_pin_needed',  # Unnecessary metadata\n",
    "    'speed_limit_mode',  # Not related to current route guidance\n",
    "    'steering_angle',  # Not specified for any recommendations\n",
    "    'time_to_full_charge',  # Rarely referenced and redundant\n",
    "    'service_interval_remaining',  # Unrelated to recommendations\n",
    "    'powertrain_state'  # Too granular for high-level recommendations\n",
    "]\n"
   ]
  },
  {
   "cell_type": "code",
   "execution_count": 4,
   "metadata": {},
   "outputs": [],
   "source": [
    "# Drop the irrelevant columns\n",
    "df = df.drop(columns=irrelevant_columns, errors='ignore')"
   ]
  },
  {
   "cell_type": "code",
   "execution_count": 1,
   "metadata": {},
   "outputs": [
    {
     "ename": "NameError",
     "evalue": "name 'pd' is not defined",
     "output_type": "error",
     "traceback": [
      "\u001b[0;31m---------------------------------------------------------------------------\u001b[0m",
      "\u001b[0;31mNameError\u001b[0m                                 Traceback (most recent call last)",
      "Cell \u001b[0;32mIn[1], line 1\u001b[0m\n\u001b[0;32m----> 1\u001b[0m df \u001b[38;5;241m=\u001b[39m \u001b[43mpd\u001b[49m\u001b[38;5;241m.\u001b[39mread_csv(\u001b[38;5;124m'\u001b[39m\u001b[38;5;124m/Users/Sam/Downloads/filtered_data_dec_24.csv\u001b[39m\u001b[38;5;124m'\u001b[39m)\n",
      "\u001b[0;31mNameError\u001b[0m: name 'pd' is not defined"
     ]
    }
   ],
   "source": [
    "df = pd.read_csv('/Users/Sam/Downloads/filtered_data_dec_24.csv')"
   ]
  },
  {
   "cell_type": "code",
   "execution_count": 2,
   "metadata": {},
   "outputs": [
    {
     "name": "stderr",
     "output_type": "stream",
     "text": [
      "/var/folders/t8/98kc315d6592z5nmcq76rt9h0000gn/T/ipykernel_4935/4191036529.py:3: DtypeWarning: Columns (6,7,11,17) have mixed types. Specify dtype option on import or set low_memory=False.\n",
      "  df = pd.read_csv('/Users/Sam/Downloads/filtered_data_dec_24.csv')\n"
     ]
    }
   ],
   "source": [
    "import pandas as pd\n",
    "\n",
    "df = pd.read_csv('/Users/Sam/Downloads/filtered_data_dec_24.csv')\n",
    "\n"
   ]
  },
  {
   "cell_type": "code",
   "execution_count": 3,
   "metadata": {},
   "outputs": [],
   "source": [
    "df['time'] = pd.to_datetime(df['timestamp'], unit = 'ms')\n",
    "df['time'] = df['time'].dt.strftime('%Y-%m-%d %H:%M:%S')"
   ]
  },
  {
   "cell_type": "code",
   "execution_count": 7,
   "metadata": {},
   "outputs": [
    {
     "data": {
      "text/plain": [
       "0     2024-12-01 00:00:00\n",
       "1     2024-12-01 00:00:21\n",
       "2     2024-12-01 00:00:33\n",
       "3     2024-12-01 00:00:45\n",
       "4     2024-12-01 00:00:58\n",
       "5     2024-12-01 00:01:17\n",
       "6     2024-12-01 00:01:35\n",
       "7     2024-12-01 00:01:52\n",
       "8     2024-12-01 00:02:08\n",
       "9     2024-12-01 00:02:20\n",
       "10    2024-12-01 00:02:33\n",
       "11    2024-12-01 00:03:00\n",
       "12    2024-12-01 00:03:07\n",
       "13    2024-12-01 00:03:19\n",
       "14    2024-12-01 00:03:36\n",
       "15    2024-12-01 00:03:48\n",
       "16    2024-12-01 00:04:10\n",
       "17    2024-12-01 00:04:22\n",
       "18    2024-12-01 00:04:35\n",
       "19    2024-12-01 00:04:55\n",
       "20    2024-12-01 00:05:09\n",
       "21    2024-12-01 00:05:30\n",
       "22    2024-12-01 00:05:41\n",
       "23    2024-12-01 00:05:59\n",
       "24    2024-12-01 00:06:09\n",
       "Name: time, dtype: object"
      ]
     },
     "execution_count": 7,
     "metadata": {},
     "output_type": "execute_result"
    }
   ],
   "source": [
    "df['time'].head(25)"
   ]
  },
  {
   "cell_type": "code",
   "execution_count": null,
   "metadata": {},
   "outputs": [],
   "source": []
  }
 ],
 "metadata": {
  "kernelspec": {
   "display_name": "Python 3",
   "language": "python",
   "name": "python3"
  },
  "language_info": {
   "codemirror_mode": {
    "name": "ipython",
    "version": 3
   },
   "file_extension": ".py",
   "mimetype": "text/x-python",
   "name": "python",
   "nbconvert_exporter": "python",
   "pygments_lexer": "ipython3",
   "version": "3.9.6"
  }
 },
 "nbformat": 4,
 "nbformat_minor": 2
}
