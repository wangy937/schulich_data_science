{
 "cells": [
  {
   "cell_type": "code",
   "execution_count": null,
   "metadata": {},
   "outputs": [
    {
     "ename": "",
     "evalue": "",
     "output_type": "error",
     "traceback": [
      "\u001b[1;31mRunning cells with 'Python 3.12.6' requires the ipykernel package.\n",
      "\u001b[1;31mRun the following command to install 'ipykernel' into the Python environment. \n",
      "\u001b[1;31mCommand: '/opt/homebrew/bin/python3 -m pip install ipykernel -U --user --force-reinstall'"
     ]
    }
   ],
   "source": [
    "import pandas as pd\n",
    "import numpy as np\n",
    "from linearmodels.iv import IVGMM\n",
    "\n",
    "# Load the data\n",
    "data = pd.read_csv('midterm_partone.csv')\n",
    "\n",
    "# Define the dependent variable (Y), endogenous variable (X), and instrument matrix (Z)\n",
    "Y = data['Operating Profit']  # Dependent variable\n",
    "X = data[['Stock Change']]  # Endogenous variable\n",
    "Z = data[['Constant', 'Inventory Turnover', 'Interaction Effect', 'Current Ratio', 'Quick Ratio', 'Debt Asset Ratio']]  # Instruments\n",
    "\n",
    "# Define the GMM model and incorporate the bias term δ in the moment conditions\n",
    "model = IVGMM(Y, X, Z)\n",
    "gmm_results = model.fit(cov_type='robust')\n",
    "\n",
    "# Display the GMM model results\n",
    "print(gmm_results.summary)\n"
   ]
  },
  {
   "cell_type": "code",
   "execution_count": null,
   "metadata": {},
   "outputs": [],
   "source": []
  }
 ],
 "metadata": {
  "kernelspec": {
   "display_name": "Python 3",
   "language": "python",
   "name": "python3"
  },
  "language_info": {
   "codemirror_mode": {
    "name": "ipython",
    "version": 3
   },
   "file_extension": ".py",
   "mimetype": "text/x-python",
   "name": "python",
   "nbconvert_exporter": "python",
   "pygments_lexer": "ipython3",
   "version": "3.12.6"
  }
 },
 "nbformat": 4,
 "nbformat_minor": 2
}
