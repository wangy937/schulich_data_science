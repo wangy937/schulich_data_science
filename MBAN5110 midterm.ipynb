{
 "cells": [
  {
   "cell_type": "code",
   "execution_count": 18,
   "metadata": {},
   "outputs": [],
   "source": [
    "import pandas as pd\n",
    "import numpy as np\n",
    "from scipy.optimize import minimize\n",
    "from scipy.stats import t\n",
    "\n",
    "# Load data for Part 1\n",
    "df = pd.read_csv('/Users/Sam/Downloads/midterm_partone.csv')\n",
    "\n",
    "# Define dependent variable (Y) and independent variables (X)\n",
    "Y = df['Stock Change'].values\n",
    "X = df[['Inventory Turnover', 'Operating Profit', 'Interaction Effect', \n",
    "        'Current Ratio', 'Quick Ratio', 'Debt Asset Ratio']].values\n"
   ]
  },
  {
   "cell_type": "code",
   "execution_count": 19,
   "metadata": {},
   "outputs": [],
   "source": [
    "# Define instrumental variables (Z) and the delta bias term (using [1, 1, 1] vector as specified)\n",
    "Z = np.column_stack([np.ones(len(Y)), np.ones(len(Y)), np.ones(len(Y))])\n",
    "\n",
    "# Define the GMM objective function with the delta term included\n",
    "def gmm_with_delta(params, X, Y, Z):\n",
    "    # Unpack the parameters: last element is delta, the rest are beta coefficients\n",
    "    beta = params[:-1]\n",
    "    delta = params[-1]\n",
    "    \n",
    "    # Calculate the predicted values using beta coefficients\n",
    "    predicted = X @ beta\n",
    "    # Moment condition with delta term incorporated\n",
    "    moment_condition = Z.T @ (Y - predicted - delta * Z[:, 0])  # Applying delta to the [1,1,1] bias vector\n",
    "    # Objective function: sum of squared moment conditions\n",
    "    return np.sum(moment_condition**2)\n"
   ]
  },
  {
   "cell_type": "code",
   "execution_count": 20,
   "metadata": {},
   "outputs": [
    {
     "name": "stdout",
     "output_type": "stream",
     "text": [
      "Estimated beta coefficients: [-4.87085945e-04 -5.05641126e-06 -1.30194482e-04 -3.89990646e-05\n",
      " -2.11497210e-05 -2.97101079e-06]\n",
      "Estimated delta (bias term): -1.9773300651053175e-05\n"
     ]
    }
   ],
   "source": [
    "# Initial parameter guesses (6 betas + 1 delta)\n",
    "initial_params = np.zeros(X.shape[1] + 1)\n",
    "\n",
    "# Optimize GMM objective function to find parameter estimates\n",
    "result = minimize(gmm_with_delta, initial_params, args=(X, Y, Z))\n",
    "estimated_params = result.x\n",
    "\n",
    "# Extract beta estimates and delta estimate\n",
    "beta_estimates = estimated_params[:-1]  # Beta coefficients\n",
    "delta_estimate = estimated_params[-1]   # Delta (bias term)\n",
    "\n",
    "# Display beta coefficients and delta\n",
    "print(\"Estimated beta coefficients:\", beta_estimates)\n",
    "print(\"Estimated delta (bias term):\", delta_estimate)\n"
   ]
  },
  {
   "cell_type": "code",
   "execution_count": 21,
   "metadata": {},
   "outputs": [
    {
     "name": "stdout",
     "output_type": "stream",
     "text": [
      "\n",
      "Statistical significance test for delta (bias term):\n",
      "Standard Error for delta: 0.0119527770397252\n",
      "t-Statistic for delta: -0.0016542850741159455\n",
      "\n",
      "Interpretation for delta:\n",
      "Delta is not statistically significant, suggesting the expert's claim of bias may not be justified.\n"
     ]
    }
   ],
   "source": [
    "# Calculate residuals using estimated beta and delta\n",
    "residuals = Y - (X @ beta_estimates + delta_estimate * Z[:, 0])\n",
    "\n",
    "# Calculate standard error for delta\n",
    "delta_standard_error = np.std(residuals) / np.sqrt(len(Y))\n",
    "\n",
    "# Display standard error and t-statistic for delta\n",
    "print(\"\\nStatistical significance test for delta (bias term):\")\n",
    "print(\"Standard Error for delta:\", delta_standard_error)\n",
    "\n",
    "# Calculate t-statistic for delta\n",
    "t_statistic_delta = delta_estimate / delta_standard_error\n",
    "print(\"t-Statistic for delta:\", t_statistic_delta)\n",
    "\n",
    "# Interpretation for delta\n",
    "print(\"\\nInterpretation for delta:\")\n",
    "if abs(t_statistic_delta) > 1.96:\n",
    "    print(\"Delta is statistically significant at the 5% confidence level, indicating bias may be justified.\")\n",
    "else:\n",
    "    print(\"Delta is not statistically significant, suggesting the expert's claim of bias may not be justified.\")\n"
   ]
  },
  {
   "cell_type": "code",
   "execution_count": 22,
   "metadata": {},
   "outputs": [],
   "source": [
    "# Define number of observations (n) and parameters (k)\n",
    "n, k = X.shape\n",
    "\n",
    "# Calculate standard errors for all coefficients\n",
    "standard_errors = np.std(residuals) / np.sqrt(n) * np.ones_like(estimated_params)\n",
    "\n",
    "# Calculate t-statistics and p-values for each parameter\n",
    "t_stats = estimated_params / standard_errors\n",
    "p_values = [2 * (1 - t.cdf(np.abs(t_stat), df=n - k - 1)) for t_stat in t_stats]\n"
   ]
  },
  {
   "cell_type": "code",
   "execution_count": 23,
   "metadata": {},
   "outputs": [
    {
     "name": "stdout",
     "output_type": "stream",
     "text": [
      "\n",
      "GMM Summary Table:\n",
      "       Coefficient  Std. Error  t-Statistic   p-Value\n",
      "Beta1    -0.000487    0.011953    -0.040751  0.967499\n",
      "Beta2    -0.000005    0.011953    -0.000423  0.999663\n",
      "Beta3    -0.000130    0.011953    -0.010892  0.991311\n",
      "Beta4    -0.000039    0.011953    -0.003263  0.997397\n",
      "Beta5    -0.000021    0.011953    -0.001769  0.998588\n",
      "Beta6    -0.000003    0.011953    -0.000249  0.999802\n",
      "Delta    -0.000020    0.011953    -0.001654  0.998680\n",
      "\n",
      "Interpretation for coefficients:\n",
      "If a coefficient's p-value is less than 0.05, it is statistically significant at the 5% level.\n"
     ]
    }
   ],
   "source": [
    "# Create summary table\n",
    "summary_table = pd.DataFrame({\n",
    "    'Coefficient': estimated_params,\n",
    "    'Std. Error': standard_errors,\n",
    "    't-Statistic': t_stats,\n",
    "    'p-Value': p_values\n",
    "}, index=['Beta' + str(i+1) for i in range(len(beta_estimates))] + ['Delta'])\n",
    "\n",
    "# Display the summary table\n",
    "print(\"\\nGMM Summary Table:\")\n",
    "print(summary_table)\n",
    "\n",
    "# Interpretation guidance\n",
    "print(\"\\nInterpretation for coefficients:\")\n",
    "print(\"If a coefficient's p-value is less than 0.05, it is statistically significant at the 5% level.\")\n"
   ]
  },
  {
   "cell_type": "code",
   "execution_count": null,
   "metadata": {},
   "outputs": [],
   "source": []
  }
 ],
 "metadata": {
  "kernelspec": {
   "display_name": "Python 3",
   "language": "python",
   "name": "python3"
  },
  "language_info": {
   "codemirror_mode": {
    "name": "ipython",
    "version": 3
   },
   "file_extension": ".py",
   "mimetype": "text/x-python",
   "name": "python",
   "nbconvert_exporter": "python",
   "pygments_lexer": "ipython3",
   "version": "3.9.6"
  }
 },
 "nbformat": 4,
 "nbformat_minor": 2
}
