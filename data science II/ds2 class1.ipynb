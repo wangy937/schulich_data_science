{
 "cells": [
  {
   "cell_type": "code",
   "execution_count": 1,
   "metadata": {},
   "outputs": [],
   "source": [
    "import pandas as pd\n",
    "import numpy as np\n",
    "from sklearn.tree import DecisionTreeClassifier\n",
    "from sklearn.utils import resample\n",
    "from sklearn.metrics import accuracy_score"
   ]
  },
  {
   "cell_type": "code",
   "execution_count": 4,
   "metadata": {},
   "outputs": [],
   "source": [
    "# Load the dataset from Downloads\n",
    "train = pd.read_csv('/Users/Owner/Downloads/train.csv')  # Replace 'your-username' with your Mac username\n",
    "test = pd.read_csv('/Users/Owner/Downloads/test.csv')  # Replace 'your-username' with your Mac username\n",
    "gender = pd.read_csv('/Users/Owner/Downloads/gender_submission.csv')  # Replace 'your-username' with your Mac username"
   ]
  },
  {
   "cell_type": "code",
   "execution_count": null,
   "metadata": {},
   "outputs": [],
   "source": []
  },
  {
   "cell_type": "code",
   "execution_count": 3,
   "metadata": {},
   "outputs": [
    {
     "data": {
      "text/html": [
       "<div>\n",
       "<style scoped>\n",
       "    .dataframe tbody tr th:only-of-type {\n",
       "        vertical-align: middle;\n",
       "    }\n",
       "\n",
       "    .dataframe tbody tr th {\n",
       "        vertical-align: top;\n",
       "    }\n",
       "\n",
       "    .dataframe thead th {\n",
       "        text-align: right;\n",
       "    }\n",
       "</style>\n",
       "<table border=\"1\" class=\"dataframe\">\n",
       "  <thead>\n",
       "    <tr style=\"text-align: right;\">\n",
       "      <th></th>\n",
       "      <th>PassengerId</th>\n",
       "      <th>Survived</th>\n",
       "      <th>Pclass</th>\n",
       "      <th>Name</th>\n",
       "      <th>Sex</th>\n",
       "      <th>Age</th>\n",
       "      <th>SibSp</th>\n",
       "      <th>Parch</th>\n",
       "      <th>Ticket</th>\n",
       "      <th>Fare</th>\n",
       "      <th>Cabin</th>\n",
       "      <th>Embarked</th>\n",
       "    </tr>\n",
       "  </thead>\n",
       "  <tbody>\n",
       "    <tr>\n",
       "      <th>0</th>\n",
       "      <td>1</td>\n",
       "      <td>0</td>\n",
       "      <td>3</td>\n",
       "      <td>Braund, Mr. Owen Harris</td>\n",
       "      <td>male</td>\n",
       "      <td>22.0</td>\n",
       "      <td>1</td>\n",
       "      <td>0</td>\n",
       "      <td>A/5 21171</td>\n",
       "      <td>7.2500</td>\n",
       "      <td>NaN</td>\n",
       "      <td>S</td>\n",
       "    </tr>\n",
       "    <tr>\n",
       "      <th>1</th>\n",
       "      <td>2</td>\n",
       "      <td>1</td>\n",
       "      <td>1</td>\n",
       "      <td>Cumings, Mrs. John Bradley (Florence Briggs Th...</td>\n",
       "      <td>female</td>\n",
       "      <td>38.0</td>\n",
       "      <td>1</td>\n",
       "      <td>0</td>\n",
       "      <td>PC 17599</td>\n",
       "      <td>71.2833</td>\n",
       "      <td>C85</td>\n",
       "      <td>C</td>\n",
       "    </tr>\n",
       "    <tr>\n",
       "      <th>2</th>\n",
       "      <td>3</td>\n",
       "      <td>1</td>\n",
       "      <td>3</td>\n",
       "      <td>Heikkinen, Miss. Laina</td>\n",
       "      <td>female</td>\n",
       "      <td>26.0</td>\n",
       "      <td>0</td>\n",
       "      <td>0</td>\n",
       "      <td>STON/O2. 3101282</td>\n",
       "      <td>7.9250</td>\n",
       "      <td>NaN</td>\n",
       "      <td>S</td>\n",
       "    </tr>\n",
       "    <tr>\n",
       "      <th>3</th>\n",
       "      <td>4</td>\n",
       "      <td>1</td>\n",
       "      <td>1</td>\n",
       "      <td>Futrelle, Mrs. Jacques Heath (Lily May Peel)</td>\n",
       "      <td>female</td>\n",
       "      <td>35.0</td>\n",
       "      <td>1</td>\n",
       "      <td>0</td>\n",
       "      <td>113803</td>\n",
       "      <td>53.1000</td>\n",
       "      <td>C123</td>\n",
       "      <td>S</td>\n",
       "    </tr>\n",
       "    <tr>\n",
       "      <th>4</th>\n",
       "      <td>5</td>\n",
       "      <td>0</td>\n",
       "      <td>3</td>\n",
       "      <td>Allen, Mr. William Henry</td>\n",
       "      <td>male</td>\n",
       "      <td>35.0</td>\n",
       "      <td>0</td>\n",
       "      <td>0</td>\n",
       "      <td>373450</td>\n",
       "      <td>8.0500</td>\n",
       "      <td>NaN</td>\n",
       "      <td>S</td>\n",
       "    </tr>\n",
       "  </tbody>\n",
       "</table>\n",
       "</div>"
      ],
      "text/plain": [
       "   PassengerId  Survived  Pclass  \\\n",
       "0            1         0       3   \n",
       "1            2         1       1   \n",
       "2            3         1       3   \n",
       "3            4         1       1   \n",
       "4            5         0       3   \n",
       "\n",
       "                                                Name     Sex   Age  SibSp  \\\n",
       "0                            Braund, Mr. Owen Harris    male  22.0      1   \n",
       "1  Cumings, Mrs. John Bradley (Florence Briggs Th...  female  38.0      1   \n",
       "2                             Heikkinen, Miss. Laina  female  26.0      0   \n",
       "3       Futrelle, Mrs. Jacques Heath (Lily May Peel)  female  35.0      1   \n",
       "4                           Allen, Mr. William Henry    male  35.0      0   \n",
       "\n",
       "   Parch            Ticket     Fare Cabin Embarked  \n",
       "0      0         A/5 21171   7.2500   NaN        S  \n",
       "1      0          PC 17599  71.2833   C85        C  \n",
       "2      0  STON/O2. 3101282   7.9250   NaN        S  \n",
       "3      0            113803  53.1000  C123        S  \n",
       "4      0            373450   8.0500   NaN        S  "
      ]
     },
     "execution_count": 3,
     "metadata": {},
     "output_type": "execute_result"
    }
   ],
   "source": [
    "train.head()"
   ]
  },
  {
   "cell_type": "code",
   "execution_count": 5,
   "metadata": {},
   "outputs": [
    {
     "data": {
      "text/html": [
       "<div>\n",
       "<style scoped>\n",
       "    .dataframe tbody tr th:only-of-type {\n",
       "        vertical-align: middle;\n",
       "    }\n",
       "\n",
       "    .dataframe tbody tr th {\n",
       "        vertical-align: top;\n",
       "    }\n",
       "\n",
       "    .dataframe thead th {\n",
       "        text-align: right;\n",
       "    }\n",
       "</style>\n",
       "<table border=\"1\" class=\"dataframe\">\n",
       "  <thead>\n",
       "    <tr style=\"text-align: right;\">\n",
       "      <th></th>\n",
       "      <th>PassengerId</th>\n",
       "      <th>Pclass</th>\n",
       "      <th>Name</th>\n",
       "      <th>Sex</th>\n",
       "      <th>Age</th>\n",
       "      <th>SibSp</th>\n",
       "      <th>Parch</th>\n",
       "      <th>Ticket</th>\n",
       "      <th>Fare</th>\n",
       "      <th>Cabin</th>\n",
       "      <th>Embarked</th>\n",
       "    </tr>\n",
       "  </thead>\n",
       "  <tbody>\n",
       "    <tr>\n",
       "      <th>0</th>\n",
       "      <td>892</td>\n",
       "      <td>3</td>\n",
       "      <td>Kelly, Mr. James</td>\n",
       "      <td>male</td>\n",
       "      <td>34.5</td>\n",
       "      <td>0</td>\n",
       "      <td>0</td>\n",
       "      <td>330911</td>\n",
       "      <td>7.8292</td>\n",
       "      <td>NaN</td>\n",
       "      <td>Q</td>\n",
       "    </tr>\n",
       "    <tr>\n",
       "      <th>1</th>\n",
       "      <td>893</td>\n",
       "      <td>3</td>\n",
       "      <td>Wilkes, Mrs. James (Ellen Needs)</td>\n",
       "      <td>female</td>\n",
       "      <td>47.0</td>\n",
       "      <td>1</td>\n",
       "      <td>0</td>\n",
       "      <td>363272</td>\n",
       "      <td>7.0000</td>\n",
       "      <td>NaN</td>\n",
       "      <td>S</td>\n",
       "    </tr>\n",
       "    <tr>\n",
       "      <th>2</th>\n",
       "      <td>894</td>\n",
       "      <td>2</td>\n",
       "      <td>Myles, Mr. Thomas Francis</td>\n",
       "      <td>male</td>\n",
       "      <td>62.0</td>\n",
       "      <td>0</td>\n",
       "      <td>0</td>\n",
       "      <td>240276</td>\n",
       "      <td>9.6875</td>\n",
       "      <td>NaN</td>\n",
       "      <td>Q</td>\n",
       "    </tr>\n",
       "    <tr>\n",
       "      <th>3</th>\n",
       "      <td>895</td>\n",
       "      <td>3</td>\n",
       "      <td>Wirz, Mr. Albert</td>\n",
       "      <td>male</td>\n",
       "      <td>27.0</td>\n",
       "      <td>0</td>\n",
       "      <td>0</td>\n",
       "      <td>315154</td>\n",
       "      <td>8.6625</td>\n",
       "      <td>NaN</td>\n",
       "      <td>S</td>\n",
       "    </tr>\n",
       "    <tr>\n",
       "      <th>4</th>\n",
       "      <td>896</td>\n",
       "      <td>3</td>\n",
       "      <td>Hirvonen, Mrs. Alexander (Helga E Lindqvist)</td>\n",
       "      <td>female</td>\n",
       "      <td>22.0</td>\n",
       "      <td>1</td>\n",
       "      <td>1</td>\n",
       "      <td>3101298</td>\n",
       "      <td>12.2875</td>\n",
       "      <td>NaN</td>\n",
       "      <td>S</td>\n",
       "    </tr>\n",
       "  </tbody>\n",
       "</table>\n",
       "</div>"
      ],
      "text/plain": [
       "   PassengerId  Pclass                                          Name     Sex  \\\n",
       "0          892       3                              Kelly, Mr. James    male   \n",
       "1          893       3              Wilkes, Mrs. James (Ellen Needs)  female   \n",
       "2          894       2                     Myles, Mr. Thomas Francis    male   \n",
       "3          895       3                              Wirz, Mr. Albert    male   \n",
       "4          896       3  Hirvonen, Mrs. Alexander (Helga E Lindqvist)  female   \n",
       "\n",
       "    Age  SibSp  Parch   Ticket     Fare Cabin Embarked  \n",
       "0  34.5      0      0   330911   7.8292   NaN        Q  \n",
       "1  47.0      1      0   363272   7.0000   NaN        S  \n",
       "2  62.0      0      0   240276   9.6875   NaN        Q  \n",
       "3  27.0      0      0   315154   8.6625   NaN        S  \n",
       "4  22.0      1      1  3101298  12.2875   NaN        S  "
      ]
     },
     "execution_count": 5,
     "metadata": {},
     "output_type": "execute_result"
    }
   ],
   "source": [
    "test.head()"
   ]
  },
  {
   "cell_type": "code",
   "execution_count": 6,
   "metadata": {},
   "outputs": [
    {
     "data": {
      "text/html": [
       "<div>\n",
       "<style scoped>\n",
       "    .dataframe tbody tr th:only-of-type {\n",
       "        vertical-align: middle;\n",
       "    }\n",
       "\n",
       "    .dataframe tbody tr th {\n",
       "        vertical-align: top;\n",
       "    }\n",
       "\n",
       "    .dataframe thead th {\n",
       "        text-align: right;\n",
       "    }\n",
       "</style>\n",
       "<table border=\"1\" class=\"dataframe\">\n",
       "  <thead>\n",
       "    <tr style=\"text-align: right;\">\n",
       "      <th></th>\n",
       "      <th>PassengerId</th>\n",
       "      <th>Survived</th>\n",
       "    </tr>\n",
       "  </thead>\n",
       "  <tbody>\n",
       "    <tr>\n",
       "      <th>0</th>\n",
       "      <td>892</td>\n",
       "      <td>0</td>\n",
       "    </tr>\n",
       "    <tr>\n",
       "      <th>1</th>\n",
       "      <td>893</td>\n",
       "      <td>1</td>\n",
       "    </tr>\n",
       "    <tr>\n",
       "      <th>2</th>\n",
       "      <td>894</td>\n",
       "      <td>0</td>\n",
       "    </tr>\n",
       "    <tr>\n",
       "      <th>3</th>\n",
       "      <td>895</td>\n",
       "      <td>0</td>\n",
       "    </tr>\n",
       "    <tr>\n",
       "      <th>4</th>\n",
       "      <td>896</td>\n",
       "      <td>1</td>\n",
       "    </tr>\n",
       "  </tbody>\n",
       "</table>\n",
       "</div>"
      ],
      "text/plain": [
       "   PassengerId  Survived\n",
       "0          892         0\n",
       "1          893         1\n",
       "2          894         0\n",
       "3          895         0\n",
       "4          896         1"
      ]
     },
     "execution_count": 6,
     "metadata": {},
     "output_type": "execute_result"
    }
   ],
   "source": [
    "gender.head()"
   ]
  },
  {
   "cell_type": "code",
   "execution_count": 7,
   "metadata": {},
   "outputs": [
    {
     "name": "stderr",
     "output_type": "stream",
     "text": [
      "/var/folders/j6/k6gy0m_x02b05c849w1998_c0000gn/T/ipykernel_18938/1185544818.py:2: FutureWarning: A value is trying to be set on a copy of a DataFrame or Series through chained assignment using an inplace method.\n",
      "The behavior will change in pandas 3.0. This inplace method will never work because the intermediate object on which we are setting values always behaves as a copy.\n",
      "\n",
      "For example, when doing 'df[col].method(value, inplace=True)', try using 'df.method({col: value}, inplace=True)' or df[col] = df[col].method(value) instead, to perform the operation inplace on the original object.\n",
      "\n",
      "\n",
      "  train['Age'].fillna(train['Age'].median(), inplace=True)\n",
      "/var/folders/j6/k6gy0m_x02b05c849w1998_c0000gn/T/ipykernel_18938/1185544818.py:3: FutureWarning: A value is trying to be set on a copy of a DataFrame or Series through chained assignment using an inplace method.\n",
      "The behavior will change in pandas 3.0. This inplace method will never work because the intermediate object on which we are setting values always behaves as a copy.\n",
      "\n",
      "For example, when doing 'df[col].method(value, inplace=True)', try using 'df.method({col: value}, inplace=True)' or df[col] = df[col].method(value) instead, to perform the operation inplace on the original object.\n",
      "\n",
      "\n",
      "  train['Embarked'].fillna(train['Embarked'].mode()[0], inplace=True)\n",
      "/var/folders/j6/k6gy0m_x02b05c849w1998_c0000gn/T/ipykernel_18938/1185544818.py:4: FutureWarning: A value is trying to be set on a copy of a DataFrame or Series through chained assignment using an inplace method.\n",
      "The behavior will change in pandas 3.0. This inplace method will never work because the intermediate object on which we are setting values always behaves as a copy.\n",
      "\n",
      "For example, when doing 'df[col].method(value, inplace=True)', try using 'df.method({col: value}, inplace=True)' or df[col] = df[col].method(value) instead, to perform the operation inplace on the original object.\n",
      "\n",
      "\n",
      "  train['Fare'].fillna(train['Fare'].median(), inplace=True)\n"
     ]
    },
    {
     "name": "stdout",
     "output_type": "stream",
     "text": [
      "Custom Ensemble Model Accuracy: 0.8226711560044894\n"
     ]
    }
   ],
   "source": [
    "\n",
    "# Preprocessing: filling missing values and converting categorical variables\n",
    "train['Age'].fillna(train['Age'].median(), inplace=True)\n",
    "train['Embarked'].fillna(train['Embarked'].mode()[0], inplace=True)\n",
    "train['Fare'].fillna(train['Fare'].median(), inplace=True)\n",
    "train = pd.get_dummies(train, columns=['Sex', 'Embarked'], drop_first=True)\n",
    "\n",
    "# Define features and target variable\n",
    "X = train[['Pclass', 'Age', 'Fare', 'Sex_male', 'Embarked_Q', 'Embarked_S']]\n",
    "y = train['Survived']\n",
    "\n",
    "# Parameters\n",
    "n_samples = 100  # Number of bootstrap samples\n",
    "n_trees = 10  # Number of trees in the ensemble\n",
    "\n",
    "# Placeholder for aggregated predictions\n",
    "predictions = np.zeros(len(y))\n",
    "\n",
    "# Bootstrap sampling and model training\n",
    "for i in range(n_trees):\n",
    "    # Create a bootstrap sample\n",
    "    X_sample, y_sample = resample(X, y, replace=True, n_samples=n_samples, random_state=i)\n",
    "    \n",
    "    # Train a decision tree model\n",
    "    model = DecisionTreeClassifier(random_state=i)\n",
    "    model.fit(X_sample, y_sample)\n",
    "    \n",
    "    # Predict on the entire dataset\n",
    "    preds = model.predict(X)\n",
    "    \n",
    "    # Aggregate predictions (voting)\n",
    "    predictions += preds\n",
    "\n",
    "# Final prediction: average predictions and threshold at 0.5 for binary classification\n",
    "final_predictions = (predictions / n_trees) > 0.5\n",
    "\n",
    "# Evaluate model\n",
    "accuracy = accuracy_score(y, final_predictions)\n",
    "print(f'Custom Ensemble Model Accuracy: {accuracy}')\n"
   ]
  },
  {
   "cell_type": "code",
   "execution_count": 12,
   "metadata": {},
   "outputs": [
    {
     "data": {
      "text/plain": [
       "array([ 0., 10.,  4., 10.,  1.,  1.,  1.,  7.,  5., 10., 10., 10.,  3.,\n",
       "        0.,  8.,  9.,  6.,  2.,  9.,  7.,  1.,  2.,  7.,  3.,  7.,  4.,\n",
       "        1.,  5.,  9.,  1.,  6., 10.,  7.,  1.,  5.,  3.,  2.,  2.,  8.,\n",
       "        7.,  2.,  8.,  0.,  9.,  9.,  1.,  3.,  7.,  3.,  8.,  4.,  3.,\n",
       "       10.,  8.,  3.,  3.,  9.,  1.,  9.,  2.,  2., 10.,  4.,  5.,  6.,\n",
       "        4.,  9.,  2.,  7.,  1.,  2.,  3.,  2.,  3.,  4.,  0.,  1.,  1.,\n",
       "        8.,  5.,  2.,  3.,  7.,  1.,  9.,  9.,  1.,  1.,  9.,  1.,  1.,\n",
       "        2.,  4.,  2.,  0.,  1.,  1.,  4.,  7.,  1.,  5.,  1.,  5.,  2.,\n",
       "        2.,  1.,  7.,  2.,  0.,  5.,  2.,  8.,  1.,  3.,  7.,  3.,  2.,\n",
       "        1.,  5.,  1.,  2.,  1.,  3.,  9.,  3.,  2.,  1.,  1.,  7.,  1.,\n",
       "        1.,  1.,  3.,  8.,  3.,  4.,  9.,  3.,  1.,  6.,  8.,  6.,  8.,\n",
       "        2.,  0.,  1.,  3.,  3.,  1.,  2.,  1.,  9.,  0.,  2.,  0.,  3.,\n",
       "        8.,  1.,  2.,  2.,  1., 10.,  0.,  1.,  7.,  5.,  9.,  3.,  5.,\n",
       "        3.,  1.,  6.,  7.,  3.,  1.,  1.,  2.,  9.,  3.,  0.,  3.,  3.,\n",
       "        4.,  9.,  8.,  1.,  8.,  5.,  4.,  0.,  9.,  3.,  8.,  8., 10.,\n",
       "       10.,  1.,  0.,  7.,  8.,  3.,  2.,  0.,  1.,  2.,  6.,  3.,  2.,\n",
       "        8.,  3.,  0.,  8.,  0.,  3.,  1., 10.,  5.,  3., 10.,  3.,  2.,\n",
       "        4.,  0.,  1.,  6.,  1.,  1.,  1.,  3.,  6., 10.,  1.,  0.,  4.,\n",
       "        1.,  4.,  1., 10.,  1.,  2.,  6.,  8.,  2.,  0.,  2.,  4.,  5.,\n",
       "        8.,  3.,  1.,  0.,  4.,  3.,  2.,  7.,  8., 10., 10., 10.,  8.,\n",
       "        1.,  6.,  4.,  2.,  7.,  1.,  1.,  0.,  9., 10.,  2.,  1., 10.,\n",
       "        4.,  7., 10.,  4.,  0.,  6.,  8.,  2.,  1.,  0.,  2.,  5.,  3.,\n",
       "        3.,  1.,  2.,  8.,  9., 10.,  4.,  4.,  1.,  6.,  2.,  7.,  2.,\n",
       "        9.,  7.,  2.,  0.,  9.,  1., 10., 10., 10.,  3., 10., 10., 10.,\n",
       "        8.,  1.,  1.,  5.,  8.,  0.,  9., 10.,  0.,  1.,  9.,  8.,  2.,\n",
       "       10.,  0.,  9.,  8., 10.,  5.,  4.,  6.,  2.,  9.,  1.,  3., 10.,\n",
       "        0.,  2.,  8.,  9.,  2.,  3.,  2.,  8.,  8.,  9.,  7.,  0.,  2.,\n",
       "        2.,  2.,  2.,  1.,  3.,  9.,  8.,  9.,  9.,  2.,  4.,  4.,  0.,\n",
       "        3.,  0., 10.,  7.,  7., 10.,  3.,  0.,  2.,  6.,  7., 10.,  7.,\n",
       "        4.,  3.,  1., 10.,  9.,  3., 10.,  1.,  3.,  7.,  9.,  0., 10.,\n",
       "        6.,  3.,  3., 10.,  8.,  3.,  5.,  1.,  1.,  8.,  2.,  0.,  2.,\n",
       "        2.,  5.,  1.,  0.,  8.,  1.,  6.,  1.,  1.,  9.,  0.,  1.,  3.,\n",
       "        9.,  9.,  3.,  6.,  0.,  2.,  1.,  3.,  2.,  0.,  8.,  8.,  1.,\n",
       "        1.,  6.,  9.,  9.,  0.,  2.,  9.,  3., 10.,  3.,  3., 10.,  2.,\n",
       "        0.,  8.,  1.,  8., 10.,  6.,  9.,  1.,  2.,  2.,  6.,  4.,  1.,\n",
       "        1.,  3.,  9.,  5.,  1.,  6.,  1.,  2.,  2.,  1.,  0.,  0.,  4.,\n",
       "        0.,  8.,  0.,  1.,  9.,  8.,  1.,  2.,  1.,  0.,  0.,  7.,  3.,\n",
       "        0.,  0.,  3.,  5.,  6., 10.,  3.,  1.,  5.,  2.,  0.,  1.,  1.,\n",
       "        2.,  3., 10.,  2.,  8.,  3.,  1.,  8.,  7.,  2.,  9.,  8.,  8.,\n",
       "        6.,  2.,  2.,  3.,  1.,  6., 10.,  0.,  2.,  9.,  2.,  9.,  1.,\n",
       "       10.,  1.,  1., 10.,  2.,  3.,  5.,  4.,  2.,  1.,  7.,  2.,  2.,\n",
       "        7.,  4., 10.,  5., 10.,  2., 10., 10.,  2.,  2.,  2.,  4.,  2.,\n",
       "        8.,  3.,  3.,  5.,  9.,  3.,  2.,  2.,  6.,  3., 10.,  4., 10.,\n",
       "        9.,  1.,  0.,  2.,  1.,  3.,  2.,  1.,  7.,  2.,  1.,  1., 10.,\n",
       "        6.,  7.,  2.,  3.,  9., 10.,  6.,  3.,  8., 10.,  1.,  3.,  2.,\n",
       "        9.,  2.,  4.,  1.,  1.,  0.,  9.,  0.,  7.,  2.,  2.,  8.,  0.,\n",
       "        1.,  4.,  9.,  1.,  1.,  0.,  6.,  3.,  1.,  4., 10.,  9.,  3.,\n",
       "        0.,  8.,  1.,  1.,  9.,  2.,  8.,  9.,  2.,  4.,  4.,  5.,  1.,\n",
       "        2.,  1.,  0.,  9.,  0.,  0.,  2.,  0.,  2.,  2.,  2.,  8.,  3.,\n",
       "        2.,  3.,  2.,  2., 10.,  1.,  3.,  8.,  4.,  1.,  1.,  0.,  7.,\n",
       "        1.,  7.,  2.,  9.,  8.,  2.,  1.,  8.,  3.,  3.,  4.,  2.,  5.,\n",
       "        0.,  3.,  3.,  3.,  2.,  0.,  9., 10.,  2.,  1.,  3.,  0.,  1.,\n",
       "        1.,  4.,  4.,  5.,  7.,  5.,  3.,  1.,  0.,  1.,  1.,  1.,  3.,\n",
       "        9.,  4.,  9.,  3.,  1.,  3.,  1.,  0.,  8.,  5.,  0., 10.,  6.,\n",
       "        7.,  0.,  0.,  2.,  7.,  7.,  9.,  4., 10.,  6.,  2.,  3.,  1.,\n",
       "        0., 10.,  8.,  3.,  1.,  9.,  0.,  2.,  1.,  3.,  3.,  8.,  8.,\n",
       "        2.,  6., 10.,  5.,  0.,  3.,  3.,  2.,  3.,  5.,  1.,  1.,  3.,\n",
       "        6., 10.,  2.,  3.,  2.,  2.,  9.,  3.,  3.,  8.,  6.,  3.,  1.,\n",
       "       10.,  9.,  3.,  0.,  1., 10.,  2.,  0.,  3., 10.,  1.,  9.,  3.,\n",
       "        7.,  2.,  2.,  1.,  0.,  6.,  1.,  8.,  1.,  1.,  9.,  0., 10.,\n",
       "        8.,  9.,  3.,  2.,  0.,  0.,  8.,  6.,  8.,  5.,  1.,  4.,  3.,\n",
       "        2.,  0.,  2.,  9.,  4.,  2.,  6.,  2.,  9.,  8.,  8.,  2.,  1.,\n",
       "        2.,  7.,  2., 10.,  0.,  2.,  2.,  2.,  1.,  2.,  6.,  4.,  0.,\n",
       "        4.,  9.,  2.,  2.,  5.,  6.,  2.,  3.,  9.,  1., 10.,  8.,  9.,\n",
       "        2.,  1.,  1., 10.,  2.,  1.,  4.,  4.,  3.,  1.,  9.,  1.,  1.,\n",
       "        0.,  2.,  1.,  0., 10.,  5.,  0.,  9.,  9.,  9.,  3.,  9.,  5.,\n",
       "        8.,  2.,  2.,  1.,  9.,  3.,  3.,  8.,  8.,  1.,  3.,  5.,  0.,\n",
       "       10.,  2.,  0.,  8.,  8.,  2.,  1.,  1., 10.,  8.,  1.,  3.,  2.,\n",
       "        0.,  3.,  4.,  8.,  6.,  4.,  3.])"
      ]
     },
     "execution_count": 12,
     "metadata": {},
     "output_type": "execute_result"
    }
   ],
   "source": [
    "predictions"
   ]
  },
  {
   "cell_type": "code",
   "execution_count": 8,
   "metadata": {},
   "outputs": [
    {
     "name": "stdout",
     "output_type": "stream",
     "text": [
      "Random Forest Accuracy: 0.9775533108866442\n",
      "Gradient Boosting Accuracy: 0.8900112233445566\n"
     ]
    }
   ],
   "source": [
    "from sklearn.ensemble import RandomForestClassifier, GradientBoostingClassifier\n",
    "\n",
    "# Random Forest Model\n",
    "rf_model = RandomForestClassifier(n_estimators=100, random_state=42)\n",
    "rf_model.fit(X, y)\n",
    "rf_preds = rf_model.predict(X)\n",
    "rf_accuracy = accuracy_score(y, rf_preds)\n",
    "print(f'Random Forest Accuracy: {rf_accuracy}')\n",
    "\n",
    "# Gradient Boosting Model\n",
    "gb_model = GradientBoostingClassifier(n_estimators=100, random_state=42)\n",
    "gb_model.fit(X, y)\n",
    "gb_preds = gb_model.predict(X)\n",
    "gb_accuracy = accuracy_score(y, gb_preds)\n",
    "print(f'Gradient Boosting Accuracy: {gb_accuracy}')\n"
   ]
  },
  {
   "cell_type": "code",
   "execution_count": 9,
   "metadata": {},
   "outputs": [
    {
     "name": "stdout",
     "output_type": "stream",
     "text": [
      "Single Decision Tree Accuracy: 0.9775533108866442\n"
     ]
    }
   ],
   "source": [
    "# Single Decision Tree Model\n",
    "single_tree = DecisionTreeClassifier(random_state=42)\n",
    "single_tree.fit(X, y)\n",
    "single_preds = single_tree.predict(X)\n",
    "single_accuracy = accuracy_score(y, single_preds)\n",
    "print(f'Single Decision Tree Accuracy: {single_accuracy}')\n"
   ]
  },
  {
   "cell_type": "code",
   "execution_count": 10,
   "metadata": {},
   "outputs": [
    {
     "name": "stdout",
     "output_type": "stream",
     "text": [
      "76.9 ms ± 5.43 ms per loop (mean ± std. dev. of 7 runs, 10 loops each)\n",
      "383 ms ± 132 ms per loop (mean ± std. dev. of 7 runs, 1 loop each)\n",
      "354 ms ± 93.7 ms per loop (mean ± std. dev. of 7 runs, 1 loop each)\n",
      "5.73 ms ± 527 µs per loop (mean ± std. dev. of 7 runs, 100 loops each)\n"
     ]
    }
   ],
   "source": [
    "# Time the custom ensemble model\n",
    "def custom_ensemble():\n",
    "    predictions = np.zeros(len(y))\n",
    "    for i in range(n_trees):\n",
    "        X_sample, y_sample = resample(X, y, replace=True, n_samples=n_samples, random_state=i)\n",
    "        model = DecisionTreeClassifier(random_state=i)\n",
    "        model.fit(X_sample, y_sample)\n",
    "        preds = model.predict(X)\n",
    "        predictions += preds\n",
    "    final_predictions = (predictions / n_trees) > 0.5\n",
    "    return accuracy_score(y, final_predictions)\n",
    "\n",
    "%timeit custom_ensemble()\n",
    "\n",
    "# Time the Random Forest model\n",
    "%timeit rf_model.fit(X, y)\n",
    "\n",
    "# Time the Gradient Boosting model\n",
    "%timeit gb_model.fit(X, y)\n",
    "\n",
    "# Time the single Decision Tree model\n",
    "%timeit single_tree.fit(X, y)\n"
   ]
  },
  {
   "cell_type": "code",
   "execution_count": null,
   "metadata": {},
   "outputs": [],
   "source": []
  },
  {
   "cell_type": "code",
   "execution_count": 13,
   "metadata": {},
   "outputs": [],
   "source": [
    "import pandas as pd\n",
    "import numpy as np\n",
    "from sklearn.model_selection import train_test_split\n",
    "from sklearn.tree import DecisionTreeClassifier\n",
    "from sklearn.metrics import accuracy_score\n",
    "import seaborn as sns\n",
    "from scipy.stats import mode\n",
    "import time\n"
   ]
  },
  {
   "cell_type": "code",
   "execution_count": 14,
   "metadata": {},
   "outputs": [],
   "source": [
    "data = sns.load_dataset('titanic')\n"
   ]
  },
  {
   "cell_type": "code",
   "execution_count": 15,
   "metadata": {},
   "outputs": [],
   "source": [
    "df = data.drop(['deck','class','who','adult_male','embark_town','alive','alone'],axis=1)\n"
   ]
  },
  {
   "cell_type": "code",
   "execution_count": 16,
   "metadata": {},
   "outputs": [],
   "source": [
    "df['age'] = df['age'].fillna(df.groupby('sex')['age'].transform('mean'))\n"
   ]
  },
  {
   "cell_type": "code",
   "execution_count": 17,
   "metadata": {},
   "outputs": [],
   "source": [
    "df['fam'] = df['parch'] + df['sibsp']"
   ]
  },
  {
   "cell_type": "code",
   "execution_count": 18,
   "metadata": {},
   "outputs": [],
   "source": [
    "df = pd.get_dummies(df, columns=['sex','embarked','pclass'], dtype=int)"
   ]
  },
  {
   "cell_type": "code",
   "execution_count": 19,
   "metadata": {},
   "outputs": [],
   "source": [
    "y = df['survived']\n",
    "X = df.drop('survived', axis=1)"
   ]
  },
  {
   "cell_type": "code",
   "execution_count": 20,
   "metadata": {},
   "outputs": [],
   "source": [
    "all_columns = df.columns.to_list()\n",
    "random_columns = [np.random.choice(all_columns, 3, replace=True).tolist() for i in range (10)]"
   ]
  },
  {
   "cell_type": "code",
   "execution_count": 21,
   "metadata": {},
   "outputs": [
    {
     "data": {
      "text/plain": [
       "[['pclass_1', 'fare', 'embarked_Q'],\n",
       " ['pclass_1', 'pclass_2', 'embarked_C'],\n",
       " ['parch', 'pclass_1', 'sex_female'],\n",
       " ['fam', 'parch', 'age'],\n",
       " ['sex_female', 'pclass_2', 'fam'],\n",
       " ['embarked_S', 'pclass_3', 'parch'],\n",
       " ['sex_male', 'pclass_2', 'pclass_3'],\n",
       " ['pclass_2', 'fam', 'pclass_1'],\n",
       " ['survived', 'embarked_Q', 'parch'],\n",
       " ['embarked_C', 'pclass_3', 'age']]"
      ]
     },
     "execution_count": 21,
     "metadata": {},
     "output_type": "execute_result"
    }
   ],
   "source": [
    "random_columns"
   ]
  },
  {
   "cell_type": "code",
   "execution_count": 22,
   "metadata": {},
   "outputs": [],
   "source": [
    "X_train, X_test, y_train, y_test = train_test_split(X, y, test_size=0.2, random_state=42)"
   ]
  },
  {
   "cell_type": "code",
   "execution_count": 23,
   "metadata": {},
   "outputs": [],
   "source": [
    "def build_decision_trees(X_train, y_train, num_models=10, num_columns=3):\n",
    "    all_columns = X_train.columns.to_list()\n",
    "    models = []\n",
    "    for i in range(num_models):\n",
    "        selected_columns = np.random.choice(all_columns, num_columns, replace=True).tolist()\n",
    "        X_train_subset = X_train[selected_columns]\n",
    "        tree = DecisionTreeClassifier(random_state=42)\n",
    "        tree.fit(X_train_subset, y_train)\n",
    "        models.append((tree, selected_columns))\n",
    "    return models"
   ]
  },
  {
   "cell_type": "code",
   "execution_count": 24,
   "metadata": {},
   "outputs": [],
   "source": [
    "models = build_decision_trees(X_train, y_train, num_models=10, num_columns=3)"
   ]
  },
  {
   "cell_type": "code",
   "execution_count": 25,
   "metadata": {},
   "outputs": [
    {
     "data": {
      "text/plain": [
       "[(DecisionTreeClassifier(random_state=42),\n",
       "  ['sex_male', 'embarked_S', 'sibsp']),\n",
       " (DecisionTreeClassifier(random_state=42), ['pclass_3', 'sibsp', 'sex_male']),\n",
       " (DecisionTreeClassifier(random_state=42), ['fare', 'pclass_3', 'parch']),\n",
       " (DecisionTreeClassifier(random_state=42), ['parch', 'sex_female', 'fam']),\n",
       " (DecisionTreeClassifier(random_state=42),\n",
       "  ['fam', 'embarked_C', 'sex_female']),\n",
       " (DecisionTreeClassifier(random_state=42),\n",
       "  ['parch', 'sex_female', 'embarked_S']),\n",
       " (DecisionTreeClassifier(random_state=42), ['fam', 'embarked_Q', 'pclass_3']),\n",
       " (DecisionTreeClassifier(random_state=42), ['parch', 'sex_male', 'pclass_3']),\n",
       " (DecisionTreeClassifier(random_state=42),\n",
       "  ['pclass_1', 'embarked_S', 'pclass_1']),\n",
       " (DecisionTreeClassifier(random_state=42), ['sex_female', 'fam', 'parch'])]"
      ]
     },
     "execution_count": 25,
     "metadata": {},
     "output_type": "execute_result"
    }
   ],
   "source": [
    "models"
   ]
  },
  {
   "cell_type": "code",
   "execution_count": 26,
   "metadata": {},
   "outputs": [],
   "source": [
    "def measure_accuracy(models, X_train, y_train):\n",
    "    predictions = []\n",
    "    for tree, selected_columns in models:\n",
    "        X_train_subset = X_train[selected_columns]\n",
    "        pred = tree.predict(X_train_subset)\n",
    "        predictions.append(pred)\n",
    "    predictions = np.array(predictions).T\n",
    "    final_predictions, i = mode(predictions, axis=1)\n",
    "    final_predictions = final_predictions.flatten()\n",
    "    accuracy = accuracy_score(y_train, final_predictions)\n",
    "    #print(predictions)\n",
    "    #print(final_predictions)\n",
    "    return accuracy"
   ]
  },
  {
   "cell_type": "code",
   "execution_count": null,
   "metadata": {},
   "outputs": [],
   "source": []
  }
 ],
 "metadata": {
  "kernelspec": {
   "display_name": "Python 3",
   "language": "python",
   "name": "python3"
  },
  "language_info": {
   "codemirror_mode": {
    "name": "ipython",
    "version": 3
   },
   "file_extension": ".py",
   "mimetype": "text/x-python",
   "name": "python",
   "nbconvert_exporter": "python",
   "pygments_lexer": "ipython3",
   "version": "3.9.6"
  }
 },
 "nbformat": 4,
 "nbformat_minor": 2
}
