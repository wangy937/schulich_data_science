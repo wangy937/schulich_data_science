{
 "cells": [
  {
   "cell_type": "code",
   "execution_count": 5,
   "metadata": {},
   "outputs": [
    {
     "name": "stdout",
     "output_type": "stream",
     "text": [
      "octave not found, please see README\n"
     ]
    }
   ],
   "source": [
    "import numpy as np\n",
    "import pandas as pd\n",
    "import sklearn as sl\n",
    "import scipy as sp\n",
    "import seaborn as sb\n",
    "import matplotlib as mpl\n",
    "from matplotlib import pyplot as plt\n",
    "import oct2py as oclib"
   ]
  },
  {
   "cell_type": "code",
   "execution_count": 2,
   "metadata": {},
   "outputs": [
    {
     "name": "stdout",
     "output_type": "stream",
     "text": [
      "Defaulting to user installation because normal site-packages is not writeable\n",
      "Collecting mlxtend\n",
      "  Downloading mlxtend-0.23.1-py3-none-any.whl.metadata (7.3 kB)\n",
      "Requirement already satisfied: scipy>=1.2.1 in /Users/owner/Library/Python/3.9/lib/python/site-packages (from mlxtend) (1.13.1)\n",
      "Requirement already satisfied: numpy>=1.16.2 in /Users/owner/Library/Python/3.9/lib/python/site-packages (from mlxtend) (2.0.0)\n",
      "Requirement already satisfied: pandas>=0.24.2 in /Users/owner/Library/Python/3.9/lib/python/site-packages (from mlxtend) (2.2.2)\n",
      "Requirement already satisfied: scikit-learn>=1.0.2 in /Users/owner/Library/Python/3.9/lib/python/site-packages (from mlxtend) (1.5.1)\n",
      "Requirement already satisfied: matplotlib>=3.0.0 in /Users/owner/Library/Python/3.9/lib/python/site-packages (from mlxtend) (3.9.1)\n",
      "Requirement already satisfied: joblib>=0.13.2 in /Users/owner/Library/Python/3.9/lib/python/site-packages (from mlxtend) (1.4.2)\n",
      "Requirement already satisfied: contourpy>=1.0.1 in /Users/owner/Library/Python/3.9/lib/python/site-packages (from matplotlib>=3.0.0->mlxtend) (1.2.1)\n",
      "Requirement already satisfied: cycler>=0.10 in /Users/owner/Library/Python/3.9/lib/python/site-packages (from matplotlib>=3.0.0->mlxtend) (0.12.1)\n",
      "Requirement already satisfied: fonttools>=4.22.0 in /Users/owner/Library/Python/3.9/lib/python/site-packages (from matplotlib>=3.0.0->mlxtend) (4.53.1)\n",
      "Requirement already satisfied: kiwisolver>=1.3.1 in /Users/owner/Library/Python/3.9/lib/python/site-packages (from matplotlib>=3.0.0->mlxtend) (1.4.5)\n",
      "Requirement already satisfied: packaging>=20.0 in /Users/owner/Library/Python/3.9/lib/python/site-packages (from matplotlib>=3.0.0->mlxtend) (24.1)\n",
      "Requirement already satisfied: pillow>=8 in /Users/owner/Library/Python/3.9/lib/python/site-packages (from matplotlib>=3.0.0->mlxtend) (10.4.0)\n",
      "Requirement already satisfied: pyparsing>=2.3.1 in /Users/owner/Library/Python/3.9/lib/python/site-packages (from matplotlib>=3.0.0->mlxtend) (3.1.2)\n",
      "Requirement already satisfied: python-dateutil>=2.7 in /Users/owner/Library/Python/3.9/lib/python/site-packages (from matplotlib>=3.0.0->mlxtend) (2.9.0.post0)\n",
      "Requirement already satisfied: importlib-resources>=3.2.0 in /Users/owner/Library/Python/3.9/lib/python/site-packages (from matplotlib>=3.0.0->mlxtend) (6.4.0)\n",
      "Requirement already satisfied: pytz>=2020.1 in /Users/owner/Library/Python/3.9/lib/python/site-packages (from pandas>=0.24.2->mlxtend) (2024.1)\n",
      "Requirement already satisfied: tzdata>=2022.7 in /Users/owner/Library/Python/3.9/lib/python/site-packages (from pandas>=0.24.2->mlxtend) (2024.1)\n",
      "Requirement already satisfied: threadpoolctl>=3.1.0 in /Users/owner/Library/Python/3.9/lib/python/site-packages (from scikit-learn>=1.0.2->mlxtend) (3.5.0)\n",
      "Requirement already satisfied: zipp>=3.1.0 in /Users/owner/Library/Python/3.9/lib/python/site-packages (from importlib-resources>=3.2.0->matplotlib>=3.0.0->mlxtend) (3.19.2)\n",
      "Requirement already satisfied: six>=1.5 in /Library/Developer/CommandLineTools/Library/Frameworks/Python3.framework/Versions/3.9/lib/python3.9/site-packages (from python-dateutil>=2.7->matplotlib>=3.0.0->mlxtend) (1.15.0)\n",
      "Downloading mlxtend-0.23.1-py3-none-any.whl (1.4 MB)\n",
      "\u001b[2K   \u001b[90m━━━━━━━━━━━━━━━━━━━━━━━━━━━━━━━━━━━━━━━━\u001b[0m \u001b[32m1.4/1.4 MB\u001b[0m \u001b[31m1.9 MB/s\u001b[0m eta \u001b[36m0:00:00\u001b[0m00:01\u001b[0m00:01\u001b[0m\n",
      "\u001b[?25hInstalling collected packages: mlxtend\n",
      "Successfully installed mlxtend-0.23.1\n",
      "\n",
      "\u001b[1m[\u001b[0m\u001b[34;49mnotice\u001b[0m\u001b[1;39;49m]\u001b[0m\u001b[39;49m A new release of pip is available: \u001b[0m\u001b[31;49m24.1.2\u001b[0m\u001b[39;49m -> \u001b[0m\u001b[32;49m24.2\u001b[0m\n",
      "\u001b[1m[\u001b[0m\u001b[34;49mnotice\u001b[0m\u001b[1;39;49m]\u001b[0m\u001b[39;49m To update, run: \u001b[0m\u001b[32;49m/Library/Developer/CommandLineTools/usr/bin/python3 -m pip install --upgrade pip\u001b[0m\n",
      "Note: you may need to restart the kernel to use updated packages.\n"
     ]
    }
   ],
   "source": [
    "pip install mlxtend"
   ]
  },
  {
   "cell_type": "code",
   "execution_count": 4,
   "metadata": {},
   "outputs": [
    {
     "name": "stdout",
     "output_type": "stream",
     "text": [
      "Defaulting to user installation because normal site-packages is not writeable\n",
      "Collecting oct2py\n",
      "  Downloading oct2py-5.7.2-py3-none-any.whl.metadata (5.0 kB)\n",
      "Requirement already satisfied: numpy>=1.12 in /Users/owner/Library/Python/3.9/lib/python/site-packages (from oct2py) (2.0.0)\n",
      "Collecting octave-kernel>=0.34.0 (from oct2py)\n",
      "  Downloading octave_kernel-0.36.0-py3-none-any.whl.metadata (8.3 kB)\n",
      "Requirement already satisfied: scipy>=0.17 in /Users/owner/Library/Python/3.9/lib/python/site-packages (from oct2py) (1.13.1)\n",
      "Requirement already satisfied: ipykernel in /Users/owner/Library/Python/3.9/lib/python/site-packages (from octave-kernel>=0.34.0->oct2py) (6.29.5)\n",
      "Requirement already satisfied: jupyter-client>=4.3.0 in /Users/owner/Library/Python/3.9/lib/python/site-packages (from octave-kernel>=0.34.0->oct2py) (8.6.2)\n",
      "Collecting metakernel>=0.24.0 (from octave-kernel>=0.34.0->oct2py)\n",
      "  Downloading metakernel-0.30.2-py3-none-any.whl.metadata (7.5 kB)\n",
      "Requirement already satisfied: importlib-metadata>=4.8.3 in /Users/owner/Library/Python/3.9/lib/python/site-packages (from jupyter-client>=4.3.0->octave-kernel>=0.34.0->oct2py) (8.0.0)\n",
      "Requirement already satisfied: jupyter-core!=5.0.*,>=4.12 in /Users/owner/Library/Python/3.9/lib/python/site-packages (from jupyter-client>=4.3.0->octave-kernel>=0.34.0->oct2py) (5.7.2)\n",
      "Requirement already satisfied: python-dateutil>=2.8.2 in /Users/owner/Library/Python/3.9/lib/python/site-packages (from jupyter-client>=4.3.0->octave-kernel>=0.34.0->oct2py) (2.9.0.post0)\n",
      "Requirement already satisfied: pyzmq>=23.0 in /Users/owner/Library/Python/3.9/lib/python/site-packages (from jupyter-client>=4.3.0->octave-kernel>=0.34.0->oct2py) (26.0.3)\n",
      "Requirement already satisfied: tornado>=6.2 in /Users/owner/Library/Python/3.9/lib/python/site-packages (from jupyter-client>=4.3.0->octave-kernel>=0.34.0->oct2py) (6.4.1)\n",
      "Requirement already satisfied: traitlets>=5.3 in /Users/owner/Library/Python/3.9/lib/python/site-packages (from jupyter-client>=4.3.0->octave-kernel>=0.34.0->oct2py) (5.14.3)\n",
      "Requirement already satisfied: jedi>=0.18 in /Users/owner/Library/Python/3.9/lib/python/site-packages (from metakernel>=0.24.0->octave-kernel>=0.34.0->oct2py) (0.19.1)\n",
      "Requirement already satisfied: pexpect>=4.8 in /Users/owner/Library/Python/3.9/lib/python/site-packages (from metakernel>=0.24.0->octave-kernel>=0.34.0->oct2py) (4.9.0)\n",
      "Requirement already satisfied: appnope in /Users/owner/Library/Python/3.9/lib/python/site-packages (from ipykernel->octave-kernel>=0.34.0->oct2py) (0.1.4)\n",
      "Requirement already satisfied: comm>=0.1.1 in /Users/owner/Library/Python/3.9/lib/python/site-packages (from ipykernel->octave-kernel>=0.34.0->oct2py) (0.2.2)\n",
      "Requirement already satisfied: debugpy>=1.6.5 in /Users/owner/Library/Python/3.9/lib/python/site-packages (from ipykernel->octave-kernel>=0.34.0->oct2py) (1.8.2)\n",
      "Requirement already satisfied: ipython>=7.23.1 in /Users/owner/Library/Python/3.9/lib/python/site-packages (from ipykernel->octave-kernel>=0.34.0->oct2py) (8.18.1)\n",
      "Requirement already satisfied: matplotlib-inline>=0.1 in /Users/owner/Library/Python/3.9/lib/python/site-packages (from ipykernel->octave-kernel>=0.34.0->oct2py) (0.1.7)\n",
      "Requirement already satisfied: nest-asyncio in /Users/owner/Library/Python/3.9/lib/python/site-packages (from ipykernel->octave-kernel>=0.34.0->oct2py) (1.6.0)\n",
      "Requirement already satisfied: packaging in /Users/owner/Library/Python/3.9/lib/python/site-packages (from ipykernel->octave-kernel>=0.34.0->oct2py) (24.1)\n",
      "Requirement already satisfied: psutil in /Users/owner/Library/Python/3.9/lib/python/site-packages (from ipykernel->octave-kernel>=0.34.0->oct2py) (6.0.0)\n",
      "Requirement already satisfied: zipp>=0.5 in /Users/owner/Library/Python/3.9/lib/python/site-packages (from importlib-metadata>=4.8.3->jupyter-client>=4.3.0->octave-kernel>=0.34.0->oct2py) (3.19.2)\n",
      "Requirement already satisfied: decorator in /Users/owner/Library/Python/3.9/lib/python/site-packages (from ipython>=7.23.1->ipykernel->octave-kernel>=0.34.0->oct2py) (5.1.1)\n",
      "Requirement already satisfied: prompt-toolkit<3.1.0,>=3.0.41 in /Users/owner/Library/Python/3.9/lib/python/site-packages (from ipython>=7.23.1->ipykernel->octave-kernel>=0.34.0->oct2py) (3.0.47)\n",
      "Requirement already satisfied: pygments>=2.4.0 in /Users/owner/Library/Python/3.9/lib/python/site-packages (from ipython>=7.23.1->ipykernel->octave-kernel>=0.34.0->oct2py) (2.18.0)\n",
      "Requirement already satisfied: stack-data in /Users/owner/Library/Python/3.9/lib/python/site-packages (from ipython>=7.23.1->ipykernel->octave-kernel>=0.34.0->oct2py) (0.6.3)\n",
      "Requirement already satisfied: typing-extensions in /Users/owner/Library/Python/3.9/lib/python/site-packages (from ipython>=7.23.1->ipykernel->octave-kernel>=0.34.0->oct2py) (4.12.2)\n",
      "Requirement already satisfied: exceptiongroup in /Users/owner/Library/Python/3.9/lib/python/site-packages (from ipython>=7.23.1->ipykernel->octave-kernel>=0.34.0->oct2py) (1.2.1)\n",
      "Requirement already satisfied: parso<0.9.0,>=0.8.3 in /Users/owner/Library/Python/3.9/lib/python/site-packages (from jedi>=0.18->metakernel>=0.24.0->octave-kernel>=0.34.0->oct2py) (0.8.4)\n",
      "Requirement already satisfied: platformdirs>=2.5 in /Users/owner/Library/Python/3.9/lib/python/site-packages (from jupyter-core!=5.0.*,>=4.12->jupyter-client>=4.3.0->octave-kernel>=0.34.0->oct2py) (4.2.2)\n",
      "Requirement already satisfied: ptyprocess>=0.5 in /Users/owner/Library/Python/3.9/lib/python/site-packages (from pexpect>=4.8->metakernel>=0.24.0->octave-kernel>=0.34.0->oct2py) (0.7.0)\n",
      "Requirement already satisfied: six>=1.5 in /Library/Developer/CommandLineTools/Library/Frameworks/Python3.framework/Versions/3.9/lib/python3.9/site-packages (from python-dateutil>=2.8.2->jupyter-client>=4.3.0->octave-kernel>=0.34.0->oct2py) (1.15.0)\n",
      "Requirement already satisfied: wcwidth in /Users/owner/Library/Python/3.9/lib/python/site-packages (from prompt-toolkit<3.1.0,>=3.0.41->ipython>=7.23.1->ipykernel->octave-kernel>=0.34.0->oct2py) (0.2.13)\n",
      "Requirement already satisfied: executing>=1.2.0 in /Users/owner/Library/Python/3.9/lib/python/site-packages (from stack-data->ipython>=7.23.1->ipykernel->octave-kernel>=0.34.0->oct2py) (2.0.1)\n",
      "Requirement already satisfied: asttokens>=2.1.0 in /Users/owner/Library/Python/3.9/lib/python/site-packages (from stack-data->ipython>=7.23.1->ipykernel->octave-kernel>=0.34.0->oct2py) (2.4.1)\n",
      "Requirement already satisfied: pure-eval in /Users/owner/Library/Python/3.9/lib/python/site-packages (from stack-data->ipython>=7.23.1->ipykernel->octave-kernel>=0.34.0->oct2py) (0.2.2)\n",
      "Downloading oct2py-5.7.2-py3-none-any.whl (29 kB)\n",
      "Downloading octave_kernel-0.36.0-py3-none-any.whl (35 kB)\n",
      "Downloading metakernel-0.30.2-py3-none-any.whl (217 kB)\n",
      "\u001b[2K   \u001b[90m━━━━━━━━━━━━━━━━━━━━━━━━━━━━━━━━━━━━━━━━\u001b[0m \u001b[32m217.8/217.8 kB\u001b[0m \u001b[31m2.5 MB/s\u001b[0m eta \u001b[36m0:00:00\u001b[0m:00:01\u001b[0m\n",
      "\u001b[?25hInstalling collected packages: metakernel, octave-kernel, oct2py\n",
      "Successfully installed metakernel-0.30.2 oct2py-5.7.2 octave-kernel-0.36.0\n",
      "\n",
      "\u001b[1m[\u001b[0m\u001b[34;49mnotice\u001b[0m\u001b[1;39;49m]\u001b[0m\u001b[39;49m A new release of pip is available: \u001b[0m\u001b[31;49m24.1.2\u001b[0m\u001b[39;49m -> \u001b[0m\u001b[32;49m24.2\u001b[0m\n",
      "\u001b[1m[\u001b[0m\u001b[34;49mnotice\u001b[0m\u001b[1;39;49m]\u001b[0m\u001b[39;49m To update, run: \u001b[0m\u001b[32;49m/Library/Developer/CommandLineTools/usr/bin/python3 -m pip install --upgrade pip\u001b[0m\n",
      "Note: you may need to restart the kernel to use updated packages.\n"
     ]
    }
   ],
   "source": [
    "pip install oct2py"
   ]
  },
  {
   "cell_type": "code",
   "execution_count": 6,
   "metadata": {},
   "outputs": [],
   "source": [
    "year_list = [1994, 1995, 1996, 1997, 1998, 1999, 2000, 2001, 2002, 2003, 2004, 2005, 2006,\n",
    "       2007, 2008, 2009, 2010, 2011, 2012, 2013]"
   ]
  },
  {
   "cell_type": "code",
   "execution_count": 7,
   "metadata": {},
   "outputs": [
    {
     "data": {
      "text/plain": [
       "list"
      ]
     },
     "execution_count": 7,
     "metadata": {},
     "output_type": "execute_result"
    }
   ],
   "source": [
    "type(year_list)"
   ]
  },
  {
   "cell_type": "code",
   "execution_count": 8,
   "metadata": {},
   "outputs": [
    {
     "data": {
      "text/plain": [
       "1994"
      ]
     },
     "execution_count": 8,
     "metadata": {},
     "output_type": "execute_result"
    }
   ],
   "source": [
    "min(year_list)"
   ]
  },
  {
   "cell_type": "code",
   "execution_count": 9,
   "metadata": {},
   "outputs": [
    {
     "data": {
      "text/plain": [
       "2013"
      ]
     },
     "execution_count": 9,
     "metadata": {},
     "output_type": "execute_result"
    }
   ],
   "source": [
    "max(year_list)"
   ]
  },
  {
   "cell_type": "code",
   "execution_count": 10,
   "metadata": {},
   "outputs": [
    {
     "data": {
      "text/plain": [
       "40070"
      ]
     },
     "execution_count": 10,
     "metadata": {},
     "output_type": "execute_result"
    }
   ],
   "source": [
    "sum(year_list)"
   ]
  },
  {
   "cell_type": "code",
   "execution_count": 11,
   "metadata": {},
   "outputs": [
    {
     "data": {
      "text/plain": [
       "20"
      ]
     },
     "execution_count": 11,
     "metadata": {},
     "output_type": "execute_result"
    }
   ],
   "source": [
    "len(year_list)"
   ]
  },
  {
   "cell_type": "code",
   "execution_count": 12,
   "metadata": {},
   "outputs": [],
   "source": [
    "josb_assets_list = [101.783,90.671,81.41,77.144,82.515,84.751,88.954,108.457,133.993,186.511,231.83,\n",
    "                 304.832,368.392,440.098,491.366,556.364,662.037,813.612,894.847,935.738]\n",
    "mw_assets_list = [160.494,204.105,295.478,379.415,403.732,611.195,707.734,717.869,769.313,869.198,993.322,\n",
    "               1123.274,1096.952,1256.467,1187.73,1232.106,1320.318,1405.952,1496.347,1555.23]"
   ]
  },
  {
   "cell_type": "code",
   "execution_count": 13,
   "metadata": {},
   "outputs": [
    {
     "data": {
      "text/plain": [
       "Text(0, 0.5, 'Total Assets')"
      ]
     },
     "execution_count": 13,
     "metadata": {},
     "output_type": "execute_result"
    },
    {
     "data": {
      "image/png": "[encoded data removed]",
      "text/plain": [
       "<Figure size 960x640 with 1 Axes>"
      ]
     },
     "metadata": {},
     "output_type": "display_data"
    }
   ],
   "source": [
    "plt.figure(figsize=(24,16), dpi= 40)\n",
    "plt.plot(year_list,josb_assets_list,label=\"Joseph A Bank\",linewidth=8)\n",
    "plt.plot(year_list,mw_assets_list,'r--',label=\"Men's Wearhouse\",linewidth=8)\n",
    "xtick_location = np.arange(1994,2013,4)\n",
    "plt.xticks(ticks=xtick_location, rotation=0, fontsize=50, horizontalalignment='center')\n",
    "plt.legend(bbox_to_anchor=(0.50, 0.95),fontsize=50)\n",
    "plt.yticks(fontsize=50)\n",
    "plt.grid(axis='both')\n",
    "plt.xlabel('Year', fontsize = 65)\n",
    "plt.ylabel('Total Assets', fontsize = 65)"
   ]
  },
  {
   "cell_type": "code",
   "execution_count": 14,
   "metadata": {},
   "outputs": [
    {
     "data": {
      "text/plain": [
       "Text(0.5, 1.0, 'Histogram of Asset Values in NYSE')"
      ]
     },
     "execution_count": 14,
     "metadata": {},
     "output_type": "execute_result"
    },
    {
     "data": {
      "image/png": "[encoded data removed]",
      "text/plain": [
       "<Figure size 960x640 with 1 Axes>"
      ]
     },
     "metadata": {},
     "output_type": "display_data"
    }
   ],
   "source": [
    "random_values = np.random.normal(1000,200,10000)\n",
    "bins = np.linspace(400,1600,30)\n",
    "plt.figure(figsize=(24,16), dpi= 40)\n",
    "plt.hist(random_values,bins)\n",
    "plt.xlabel('Total Assets', fontsize = 65)\n",
    "plt.ylabel('Frequency', fontsize = 65)\n",
    "plt.xticks(fontsize=50)\n",
    "plt.yticks(fontsize=50)\n",
    "plt.grid(axis='both')\n",
    "plt.title('Histogram of Asset Values in NYSE', fontsize = 65)"
   ]
  },
  {
   "cell_type": "code",
   "execution_count": null,
   "metadata": {},
   "outputs": [],
   "source": [
    "# gai yanse\n",
    "random_values = np.random.normal(1000,200,10000)\n",
    "bins = np.linspace(400,1600,30)\n",
    "plt.figure(figsize=(24,16), dpi= 40)\n",
    "plt.hist(random_values,bins)\n",
    "plt.xlabel('Total Assets', fontsize = 65)\n",
    "plt.ylabel('Frequency', fontsize = 65)\n",
    "plt.xticks(fontsize=50)\n",
    "plt.yticks(fontsize=50)\n",
    "plt.grid(axis='both')\n",
    "plt.title('Histogram of Asset Values in NYSE', fontsize = 65)"
   ]
  },
  {
   "cell_type": "code",
   "execution_count": 15,
   "metadata": {},
   "outputs": [
    {
     "data": {
      "text/plain": [
       "[1, 2, 3, 4, 1]"
      ]
     },
     "execution_count": 15,
     "metadata": {},
     "output_type": "execute_result"
    }
   ],
   "source": [
    "list_vec = [1,2,3,4]\n",
    "list_vec + [1]"
   ]
  },
  {
   "cell_type": "code",
   "execution_count": 16,
   "metadata": {},
   "outputs": [
    {
     "data": {
      "text/plain": [
       "[1, 2, 3, 4, 1]"
      ]
     },
     "execution_count": 16,
     "metadata": {},
     "output_type": "execute_result"
    }
   ],
   "source": [
    "list_vec = [1,2,3,4]\n",
    "list_vec.append(1)\n",
    "list_vec"
   ]
  },
  {
   "cell_type": "code",
   "execution_count": 17,
   "metadata": {},
   "outputs": [
    {
     "data": {
      "text/plain": [
       "array([2, 3, 4, 5])"
      ]
     },
     "execution_count": 17,
     "metadata": {},
     "output_type": "execute_result"
    }
   ],
   "source": [
    "import numpy as np\n",
    "array_vec = np.array([1,2,3,4])\n",
    "array_vec + np.array([1])"
   ]
  },
  {
   "cell_type": "code",
   "execution_count": 18,
   "metadata": {},
   "outputs": [],
   "source": [
    "matrix_example = np.array([[1,2,3],[0,-1,2],[1,0,4]])\n",
    "array_example = np.array([1,-2,1])"
   ]
  },
  {
   "cell_type": "code",
   "execution_count": 19,
   "metadata": {},
   "outputs": [
    {
     "data": {
      "text/plain": [
       "array([0, 4, 5])"
      ]
     },
     "execution_count": 19,
     "metadata": {},
     "output_type": "execute_result"
    }
   ],
   "source": [
    "np.dot(matrix_example,array_example)"
   ]
  },
  {
   "cell_type": "code",
   "execution_count": 20,
   "metadata": {},
   "outputs": [
    {
     "data": {
      "text/plain": [
       "array([[-1.33333333, -2.66666667,  2.33333333],\n",
       "       [ 0.66666667,  0.33333333, -0.66666667],\n",
       "       [ 0.33333333,  0.66666667, -0.33333333]])"
      ]
     },
     "execution_count": 20,
     "metadata": {},
     "output_type": "execute_result"
    }
   ],
   "source": [
    "np.linalg.inv(matrix_example)"
   ]
  },
  {
   "cell_type": "code",
   "execution_count": 21,
   "metadata": {},
   "outputs": [
    {
     "data": {
      "text/plain": [
       "array([[ 1,  0,  1],\n",
       "       [ 2, -1,  0],\n",
       "       [ 3,  2,  4]])"
      ]
     },
     "execution_count": 21,
     "metadata": {},
     "output_type": "execute_result"
    }
   ],
   "source": [
    "np.transpose(matrix_example)"
   ]
  },
  {
   "cell_type": "code",
   "execution_count": 22,
   "metadata": {},
   "outputs": [
    {
     "data": {
      "text/plain": [
       "array([ 4.93394491+0.j        , -0.46697245+0.62447535j,\n",
       "       -0.46697245-0.62447535j])"
      ]
     },
     "execution_count": 22,
     "metadata": {},
     "output_type": "execute_result"
    }
   ],
   "source": [
    "np.linalg.eigvals(matrix_example)"
   ]
  },
  {
   "cell_type": "code",
   "execution_count": 23,
   "metadata": {},
   "outputs": [
    {
     "data": {
      "text/plain": [
       "np.int64(3)"
      ]
     },
     "execution_count": 23,
     "metadata": {},
     "output_type": "execute_result"
    }
   ],
   "source": [
    "np.linalg.matrix_rank(matrix_example)"
   ]
  },
  {
   "cell_type": "code",
   "execution_count": 24,
   "metadata": {},
   "outputs": [
    {
     "data": {
      "text/plain": [
       "array([[ 1,  2,  3],\n",
       "       [ 0, -1,  2],\n",
       "       [ 1,  0,  4]])"
      ]
     },
     "execution_count": 24,
     "metadata": {},
     "output_type": "execute_result"
    }
   ],
   "source": [
    "matrix_example"
   ]
  },
  {
   "cell_type": "code",
   "execution_count": 25,
   "metadata": {},
   "outputs": [
    {
     "data": {
      "text/plain": [
       "array([1, 2, 3])"
      ]
     },
     "execution_count": 25,
     "metadata": {},
     "output_type": "execute_result"
    }
   ],
   "source": [
    "matrix_example[0]"
   ]
  },
  {
   "cell_type": "code",
   "execution_count": 26,
   "metadata": {},
   "outputs": [
    {
     "data": {
      "text/plain": [
       "array([ 0, -1,  2])"
      ]
     },
     "execution_count": 26,
     "metadata": {},
     "output_type": "execute_result"
    }
   ],
   "source": [
    "matrix_example[1]"
   ]
  },
  {
   "cell_type": "code",
   "execution_count": 27,
   "metadata": {},
   "outputs": [
    {
     "data": {
      "text/plain": [
       "array([1, 0, 4])"
      ]
     },
     "execution_count": 27,
     "metadata": {},
     "output_type": "execute_result"
    }
   ],
   "source": [
    "matrix_example[2]"
   ]
  },
  {
   "cell_type": "code",
   "execution_count": 28,
   "metadata": {},
   "outputs": [
    {
     "data": {
      "text/plain": [
       "array([1, 0, 4])"
      ]
     },
     "execution_count": 28,
     "metadata": {},
     "output_type": "execute_result"
    }
   ],
   "source": [
    "matrix_example[-1]"
   ]
  },
  {
   "cell_type": "code",
   "execution_count": 29,
   "metadata": {},
   "outputs": [
    {
     "data": {
      "text/plain": [
       "np.int64(1)"
      ]
     },
     "execution_count": 29,
     "metadata": {},
     "output_type": "execute_result"
    }
   ],
   "source": [
    "matrix_example[2][0]"
   ]
  },
  {
   "cell_type": "code",
   "execution_count": 30,
   "metadata": {},
   "outputs": [
    {
     "data": {
      "text/plain": [
       "array([[ 8.09557128,  8.89237753,  9.01964287],\n",
       "       [ 9.54211527,  9.53895179,  8.57639339],\n",
       "       [10.20739778, 12.62227837, 13.34338335],\n",
       "       [11.00954379, 11.55612015, 11.10723062],\n",
       "       [10.73277799, 10.65210146,  9.89931089],\n",
       "       [ 8.82904758, 12.1167365 , 10.76897987],\n",
       "       [10.54992935,  6.61974758, 10.97335168],\n",
       "       [ 9.52809357,  9.31828245, 10.57898558],\n",
       "       [10.65691489,  9.06996786,  7.95872141],\n",
       "       [ 9.03413794,  8.87363343,  9.33914372]])"
      ]
     },
     "execution_count": 30,
     "metadata": {},
     "output_type": "execute_result"
    }
   ],
   "source": [
    "np.random.normal(10,2,[10,3])"
   ]
  },
  {
   "cell_type": "code",
   "execution_count": 31,
   "metadata": {},
   "outputs": [],
   "source": [
    "import scipy as sp"
   ]
  },
  {
   "cell_type": "code",
   "execution_count": 32,
   "metadata": {},
   "outputs": [
    {
     "data": {
      "text/plain": [
       "np.float64(0.02699548325659403)"
      ]
     },
     "execution_count": 32,
     "metadata": {},
     "output_type": "execute_result"
    }
   ],
   "source": [
    "sp.stats.norm.pdf(14,10,2)"
   ]
  },
  {
   "cell_type": "code",
   "execution_count": 33,
   "metadata": {},
   "outputs": [
    {
     "data": {
      "text/plain": [
       "np.float64(0.9772498680518208)"
      ]
     },
     "execution_count": 33,
     "metadata": {},
     "output_type": "execute_result"
    }
   ],
   "source": [
    "sp.stats.norm.cdf(14,10,2)"
   ]
  },
  {
   "cell_type": "code",
   "execution_count": 34,
   "metadata": {},
   "outputs": [
    {
     "data": {
      "text/plain": [
       "np.float64(14.0)"
      ]
     },
     "execution_count": 34,
     "metadata": {},
     "output_type": "execute_result"
    }
   ],
   "source": [
    "sp.stats.norm.isf(1-0.9772498680518208,10,2)"
   ]
  },
  {
   "cell_type": "code",
   "execution_count": 36,
   "metadata": {},
   "outputs": [
    {
     "data": {
      "text/plain": [
       "np.float64(14.0)"
      ]
     },
     "execution_count": 36,
     "metadata": {},
     "output_type": "execute_result"
    }
   ],
   "source": [
    "sp.stats.norm.isf(1-(sp.stats.norm.cdf(14,10,2)),10,2)"
   ]
  },
  {
   "cell_type": "code",
   "execution_count": 37,
   "metadata": {},
   "outputs": [
    {
     "data": {
      "text/plain": [
       "np.float64(14.0)"
      ]
     },
     "execution_count": 37,
     "metadata": {},
     "output_type": "execute_result"
    }
   ],
   "source": [
    "sp.stats.norm.ppf(0.9772498680518208,10,2)"
   ]
  },
  {
   "cell_type": "code",
   "execution_count": 38,
   "metadata": {},
   "outputs": [
    {
     "data": {
      "text/plain": [
       "np.float64(6.080072030919891)"
      ]
     },
     "execution_count": 38,
     "metadata": {},
     "output_type": "execute_result"
    }
   ],
   "source": [
    "sp.stats.norm.ppf(0.025,10,2)"
   ]
  },
  {
   "cell_type": "code",
   "execution_count": 35,
   "metadata": {},
   "outputs": [
    {
     "data": {
      "text/plain": [
       "np.float64(0.9772498680518208)"
      ]
     },
     "execution_count": 35,
     "metadata": {},
     "output_type": "execute_result"
    }
   ],
   "source": [
    "sp.stats.norm.cdf(2,0,1)"
   ]
  },
  {
   "cell_type": "code",
   "execution_count": 39,
   "metadata": {},
   "outputs": [],
   "source": [
    "import pandas as pd"
   ]
  },
  {
   "cell_type": "code",
   "execution_count": 40,
   "metadata": {},
   "outputs": [
    {
     "data": {
      "text/plain": [
       "0     9.261652\n",
       "1    10.387780\n",
       "2     9.062031\n",
       "3    13.180472\n",
       "4     9.874694\n",
       "5    10.037449\n",
       "6    10.442831\n",
       "7     8.547524\n",
       "dtype: float64"
      ]
     },
     "execution_count": 40,
     "metadata": {},
     "output_type": "execute_result"
    }
   ],
   "source": [
    "pd.Series(np.random.normal(10,2,8))"
   ]
  },
  {
   "cell_type": "code",
   "execution_count": 49,
   "metadata": {},
   "outputs": [
    {
     "data": {
      "text/html": [
       "<div>\n",
       "<style scoped>\n",
       "    .dataframe tbody tr th:only-of-type {\n",
       "        vertical-align: middle;\n",
       "    }\n",
       "\n",
       "    .dataframe tbody tr th {\n",
       "        vertical-align: top;\n",
       "    }\n",
       "\n",
       "    .dataframe thead th {\n",
       "        text-align: right;\n",
       "    }\n",
       "</style>\n",
       "<table border=\"1\" class=\"dataframe\">\n",
       "  <thead>\n",
       "    <tr style=\"text-align: right;\">\n",
       "      <th></th>\n",
       "      <th>column 1</th>\n",
       "      <th>column 2</th>\n",
       "      <th>column 3</th>\n",
       "    </tr>\n",
       "  </thead>\n",
       "  <tbody>\n",
       "    <tr>\n",
       "      <th>0</th>\n",
       "      <td>10.254805</td>\n",
       "      <td>11.036849</td>\n",
       "      <td>13.310299</td>\n",
       "    </tr>\n",
       "    <tr>\n",
       "      <th>1</th>\n",
       "      <td>8.284869</td>\n",
       "      <td>13.986728</td>\n",
       "      <td>7.687167</td>\n",
       "    </tr>\n",
       "    <tr>\n",
       "      <th>2</th>\n",
       "      <td>11.083684</td>\n",
       "      <td>7.593973</td>\n",
       "      <td>9.036190</td>\n",
       "    </tr>\n",
       "    <tr>\n",
       "      <th>3</th>\n",
       "      <td>9.261729</td>\n",
       "      <td>7.622721</td>\n",
       "      <td>9.450422</td>\n",
       "    </tr>\n",
       "    <tr>\n",
       "      <th>4</th>\n",
       "      <td>10.908774</td>\n",
       "      <td>8.744566</td>\n",
       "      <td>7.138439</td>\n",
       "    </tr>\n",
       "    <tr>\n",
       "      <th>5</th>\n",
       "      <td>6.962979</td>\n",
       "      <td>7.934990</td>\n",
       "      <td>9.511344</td>\n",
       "    </tr>\n",
       "    <tr>\n",
       "      <th>6</th>\n",
       "      <td>10.843609</td>\n",
       "      <td>10.297740</td>\n",
       "      <td>8.575125</td>\n",
       "    </tr>\n",
       "    <tr>\n",
       "      <th>7</th>\n",
       "      <td>12.253081</td>\n",
       "      <td>14.004607</td>\n",
       "      <td>7.362148</td>\n",
       "    </tr>\n",
       "  </tbody>\n",
       "</table>\n",
       "</div>"
      ],
      "text/plain": [
       "    column 1   column 2   column 3\n",
       "0  10.254805  11.036849  13.310299\n",
       "1   8.284869  13.986728   7.687167\n",
       "2  11.083684   7.593973   9.036190\n",
       "3   9.261729   7.622721   9.450422\n",
       "4  10.908774   8.744566   7.138439\n",
       "5   6.962979   7.934990   9.511344\n",
       "6  10.843609  10.297740   8.575125\n",
       "7  12.253081  14.004607   7.362148"
      ]
     },
     "execution_count": 49,
     "metadata": {},
     "output_type": "execute_result"
    }
   ],
   "source": [
    "DataTable = pd.DataFrame(np.random.normal(10,2,[8,3]),columns=list([\"column 1\", \"column 2\", \"column 3\"]))\n",
    "DataTable"
   ]
  },
  {
   "cell_type": "code",
   "execution_count": 50,
   "metadata": {},
   "outputs": [
    {
     "data": {
      "text/html": [
       "<div>\n",
       "<style scoped>\n",
       "    .dataframe tbody tr th:only-of-type {\n",
       "        vertical-align: middle;\n",
       "    }\n",
       "\n",
       "    .dataframe tbody tr th {\n",
       "        vertical-align: top;\n",
       "    }\n",
       "\n",
       "    .dataframe thead th {\n",
       "        text-align: right;\n",
       "    }\n",
       "</style>\n",
       "<table border=\"1\" class=\"dataframe\">\n",
       "  <thead>\n",
       "    <tr style=\"text-align: right;\">\n",
       "      <th></th>\n",
       "      <th>column 1</th>\n",
       "      <th>column 2</th>\n",
       "      <th>column 3</th>\n",
       "    </tr>\n",
       "  </thead>\n",
       "  <tbody>\n",
       "  </tbody>\n",
       "</table>\n",
       "</div>"
      ],
      "text/plain": [
       "Empty DataFrame\n",
       "Columns: [column 1, column 2, column 3]\n",
       "Index: []"
      ]
     },
     "execution_count": 50,
     "metadata": {},
     "output_type": "execute_result"
    }
   ],
   "source": [
    "DataTable[DataTable[\"column 1\"]>13]"
   ]
  },
  {
   "cell_type": "code",
   "execution_count": 53,
   "metadata": {},
   "outputs": [
    {
     "data": {
      "text/html": [
       "<div>\n",
       "<style scoped>\n",
       "    .dataframe tbody tr th:only-of-type {\n",
       "        vertical-align: middle;\n",
       "    }\n",
       "\n",
       "    .dataframe tbody tr th {\n",
       "        vertical-align: top;\n",
       "    }\n",
       "\n",
       "    .dataframe thead th {\n",
       "        text-align: right;\n",
       "    }\n",
       "</style>\n",
       "<table border=\"1\" class=\"dataframe\">\n",
       "  <thead>\n",
       "    <tr style=\"text-align: right;\">\n",
       "      <th></th>\n",
       "      <th>Order ID</th>\n",
       "      <th>Product ID</th>\n",
       "      <th>Amount (kg)</th>\n",
       "      <th>Order Confirm Date</th>\n",
       "      <th>Required Delivery Date</th>\n",
       "    </tr>\n",
       "  </thead>\n",
       "  <tbody>\n",
       "    <tr>\n",
       "      <th>0</th>\n",
       "      <td>1005781.0</td>\n",
       "      <td>8908023.0</td>\n",
       "      <td>20000.0</td>\n",
       "      <td>NaN</td>\n",
       "      <td>2020-07-30</td>\n",
       "    </tr>\n",
       "    <tr>\n",
       "      <th>1</th>\n",
       "      <td>1005998.0</td>\n",
       "      <td>8909373.0</td>\n",
       "      <td>6297.0</td>\n",
       "      <td>NaN</td>\n",
       "      <td>2020-07-15</td>\n",
       "    </tr>\n",
       "    <tr>\n",
       "      <th>2</th>\n",
       "      <td>1005969.0</td>\n",
       "      <td>8908023.0</td>\n",
       "      <td>20000.0</td>\n",
       "      <td>2020-05-29</td>\n",
       "      <td>NaN</td>\n",
       "    </tr>\n",
       "    <tr>\n",
       "      <th>3</th>\n",
       "      <td>1005969.0</td>\n",
       "      <td>8908023.0</td>\n",
       "      <td>20000.0</td>\n",
       "      <td>2020-05-29</td>\n",
       "      <td>NaN</td>\n",
       "    </tr>\n",
       "    <tr>\n",
       "      <th>4</th>\n",
       "      <td>NaN</td>\n",
       "      <td>NaN</td>\n",
       "      <td>NaN</td>\n",
       "      <td>NaN</td>\n",
       "      <td>NaN</td>\n",
       "    </tr>\n",
       "  </tbody>\n",
       "</table>\n",
       "</div>"
      ],
      "text/plain": [
       "    Order ID  Product ID  Amount (kg) Order Confirm Date  \\\n",
       "0  1005781.0   8908023.0      20000.0                NaN   \n",
       "1  1005998.0   8909373.0       6297.0                NaN   \n",
       "2  1005969.0   8908023.0      20000.0         2020-05-29   \n",
       "3  1005969.0   8908023.0      20000.0         2020-05-29   \n",
       "4        NaN         NaN          NaN                NaN   \n",
       "\n",
       "  Required Delivery Date  \n",
       "0             2020-07-30  \n",
       "1             2020-07-15  \n",
       "2                    NaN  \n",
       "3                    NaN  \n",
       "4                    NaN  "
      ]
     },
     "execution_count": 53,
     "metadata": {},
     "output_type": "execute_result"
    }
   ],
   "source": [
    "import pandas as pd\n",
    "input_table = pd.read_csv('/Users/Owner/Downloads/sales_data.csv')\n",
    "input_table.head()"
   ]
  },
  {
   "cell_type": "code",
   "execution_count": 54,
   "metadata": {},
   "outputs": [
    {
     "data": {
      "text/html": [
       "<div>\n",
       "<style scoped>\n",
       "    .dataframe tbody tr th:only-of-type {\n",
       "        vertical-align: middle;\n",
       "    }\n",
       "\n",
       "    .dataframe tbody tr th {\n",
       "        vertical-align: top;\n",
       "    }\n",
       "\n",
       "    .dataframe thead th {\n",
       "        text-align: right;\n",
       "    }\n",
       "</style>\n",
       "<table border=\"1\" class=\"dataframe\">\n",
       "  <thead>\n",
       "    <tr style=\"text-align: right;\">\n",
       "      <th></th>\n",
       "      <th>Amount (kg)</th>\n",
       "    </tr>\n",
       "    <tr>\n",
       "      <th>Product ID</th>\n",
       "      <th></th>\n",
       "    </tr>\n",
       "  </thead>\n",
       "  <tbody>\n",
       "    <tr>\n",
       "      <th>8601971.0</th>\n",
       "      <td>740.000000</td>\n",
       "    </tr>\n",
       "    <tr>\n",
       "      <th>8601986.0</th>\n",
       "      <td>956.000000</td>\n",
       "    </tr>\n",
       "    <tr>\n",
       "      <th>8902398.0</th>\n",
       "      <td>3937.372553</td>\n",
       "    </tr>\n",
       "    <tr>\n",
       "      <th>8902615.0</th>\n",
       "      <td>2960.000000</td>\n",
       "    </tr>\n",
       "    <tr>\n",
       "      <th>8902635.0</th>\n",
       "      <td>17292.335506</td>\n",
       "    </tr>\n",
       "    <tr>\n",
       "      <th>8905735.0</th>\n",
       "      <td>1754.080000</td>\n",
       "    </tr>\n",
       "    <tr>\n",
       "      <th>8906381.0</th>\n",
       "      <td>3579.833333</td>\n",
       "    </tr>\n",
       "    <tr>\n",
       "      <th>8907133.0</th>\n",
       "      <td>5435.416667</td>\n",
       "    </tr>\n",
       "    <tr>\n",
       "      <th>8908023.0</th>\n",
       "      <td>20063.473486</td>\n",
       "    </tr>\n",
       "    <tr>\n",
       "      <th>8908024.0</th>\n",
       "      <td>16400.000000</td>\n",
       "    </tr>\n",
       "    <tr>\n",
       "      <th>8908111.0</th>\n",
       "      <td>11000.000000</td>\n",
       "    </tr>\n",
       "    <tr>\n",
       "      <th>8908112.0</th>\n",
       "      <td>16647.885521</td>\n",
       "    </tr>\n",
       "    <tr>\n",
       "      <th>8908114.0</th>\n",
       "      <td>18929.411765</td>\n",
       "    </tr>\n",
       "    <tr>\n",
       "      <th>8908672.0</th>\n",
       "      <td>17875.806452</td>\n",
       "    </tr>\n",
       "    <tr>\n",
       "      <th>8908748.0</th>\n",
       "      <td>19866.220736</td>\n",
       "    </tr>\n",
       "    <tr>\n",
       "      <th>8908749.0</th>\n",
       "      <td>20299.019704</td>\n",
       "    </tr>\n",
       "    <tr>\n",
       "      <th>8908880.0</th>\n",
       "      <td>4766.666667</td>\n",
       "    </tr>\n",
       "    <tr>\n",
       "      <th>8909286.0</th>\n",
       "      <td>5975.000000</td>\n",
       "    </tr>\n",
       "    <tr>\n",
       "      <th>8909373.0</th>\n",
       "      <td>5698.556667</td>\n",
       "    </tr>\n",
       "  </tbody>\n",
       "</table>\n",
       "</div>"
      ],
      "text/plain": [
       "             Amount (kg)\n",
       "Product ID              \n",
       "8601971.0     740.000000\n",
       "8601986.0     956.000000\n",
       "8902398.0    3937.372553\n",
       "8902615.0    2960.000000\n",
       "8902635.0   17292.335506\n",
       "8905735.0    1754.080000\n",
       "8906381.0    3579.833333\n",
       "8907133.0    5435.416667\n",
       "8908023.0   20063.473486\n",
       "8908024.0   16400.000000\n",
       "8908111.0   11000.000000\n",
       "8908112.0   16647.885521\n",
       "8908114.0   18929.411765\n",
       "8908672.0   17875.806452\n",
       "8908748.0   19866.220736\n",
       "8908749.0   20299.019704\n",
       "8908880.0    4766.666667\n",
       "8909286.0    5975.000000\n",
       "8909373.0    5698.556667"
      ]
     },
     "execution_count": 54,
     "metadata": {},
     "output_type": "execute_result"
    }
   ],
   "source": [
    "pd.pivot_table(input_table,values=\"Amount (kg)\",index=\"Product ID\")"
   ]
  },
  {
   "cell_type": "code",
   "execution_count": null,
   "metadata": {},
   "outputs": [],
   "source": []
  }
 ],
 "metadata": {
  "kernelspec": {
   "display_name": "Python 3",
   "language": "python",
   "name": "python3"
  },
  "language_info": {
   "codemirror_mode": {
    "name": "ipython",
    "version": 3
   },
   "file_extension": ".py",
   "mimetype": "text/x-python",
   "name": "python",
   "nbconvert_exporter": "python",
   "pygments_lexer": "ipython3",
   "version": "3.9.6"
  }
 },
 "nbformat": 4,
 "nbformat_minor": 2
}
