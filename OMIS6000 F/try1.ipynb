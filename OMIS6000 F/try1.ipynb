{
 "cells": [
  {
   "cell_type": "code",
   "execution_count": 4,
   "metadata": {},
   "outputs": [
    {
     "ename": "IndexError",
     "evalue": "index 17 is out of bounds for axis 1 with size 17",
     "output_type": "error",
     "traceback": [
      "\u001b[0;31m---------------------------------------------------------------------------\u001b[0m",
      "\u001b[0;31mIndexError\u001b[0m                                Traceback (most recent call last)",
      "Cell \u001b[0;32mIn[4], line 21\u001b[0m\n\u001b[1;32m     17\u001b[0m x_pc \u001b[38;5;241m=\u001b[39m model\u001b[38;5;241m.\u001b[39maddVars(num_plants, num_centers, vtype\u001b[38;5;241m=\u001b[39mGRB\u001b[38;5;241m.\u001b[39mCONTINUOUS, name\u001b[38;5;241m=\u001b[39m\u001b[38;5;124m\"\u001b[39m\u001b[38;5;124mx_pc\u001b[39m\u001b[38;5;124m\"\u001b[39m)  \u001b[38;5;66;03m# Fertilizer plant to center\u001b[39;00m\n\u001b[1;32m     19\u001b[0m \u001b[38;5;66;03m# Objective function: Minimize total cost\u001b[39;00m\n\u001b[1;32m     20\u001b[0m model\u001b[38;5;241m.\u001b[39msetObjective(\n\u001b[0;32m---> 21\u001b[0m     \u001b[38;5;28;43msum\u001b[39;49m\u001b[43m(\u001b[49m\n\u001b[1;32m     22\u001b[0m \u001b[43m        \u001b[49m\u001b[43mx_fp\u001b[49m\u001b[43m[\u001b[49m\u001b[43mf\u001b[49m\u001b[43m,\u001b[49m\u001b[43m \u001b[49m\u001b[43mp\u001b[49m\u001b[43m]\u001b[49m\u001b[43m \u001b[49m\u001b[38;5;241;43m*\u001b[39;49m\u001b[43m \u001b[49m\u001b[43mfarms_transport_cost\u001b[49m\u001b[43m[\u001b[49m\u001b[43mf\u001b[49m\u001b[43m,\u001b[49m\u001b[43m \u001b[49m\u001b[43mp\u001b[49m\u001b[43m]\u001b[49m\u001b[43m \u001b[49m\u001b[38;5;28;43;01mfor\u001b[39;49;00m\u001b[43m \u001b[49m\u001b[43mf\u001b[49m\u001b[43m \u001b[49m\u001b[38;5;129;43;01min\u001b[39;49;00m\u001b[43m \u001b[49m\u001b[38;5;28;43mrange\u001b[39;49m\u001b[43m(\u001b[49m\u001b[43mnum_farms\u001b[49m\u001b[43m)\u001b[49m\u001b[43m \u001b[49m\u001b[38;5;28;43;01mfor\u001b[39;49;00m\u001b[43m \u001b[49m\u001b[43mp\u001b[49m\u001b[43m \u001b[49m\u001b[38;5;129;43;01min\u001b[39;49;00m\u001b[43m \u001b[49m\u001b[38;5;28;43mrange\u001b[39;49m\u001b[43m(\u001b[49m\u001b[43mnum_plants\u001b[49m\u001b[43m)\u001b[49m\n\u001b[1;32m     23\u001b[0m \u001b[43m    \u001b[49m\u001b[43m)\u001b[49m \u001b[38;5;241m+\u001b[39m\n\u001b[1;32m     24\u001b[0m     \u001b[38;5;28msum\u001b[39m(\n\u001b[1;32m     25\u001b[0m         x_pc[p, c] \u001b[38;5;241m*\u001b[39m (processing_cost[p] \u001b[38;5;241m+\u001b[39m processing_transport_cost[p, c])\n\u001b[1;32m     26\u001b[0m         \u001b[38;5;28;01mfor\u001b[39;00m p \u001b[38;5;129;01min\u001b[39;00m \u001b[38;5;28mrange\u001b[39m(num_plants) \u001b[38;5;28;01mfor\u001b[39;00m c \u001b[38;5;129;01min\u001b[39;00m \u001b[38;5;28mrange\u001b[39m(num_centers)\n\u001b[1;32m     27\u001b[0m     ),\n\u001b[1;32m     28\u001b[0m     GRB\u001b[38;5;241m.\u001b[39mMINIMIZE\n\u001b[1;32m     29\u001b[0m )\n\u001b[1;32m     31\u001b[0m \u001b[38;5;66;03m# Constraints\u001b[39;00m\n\u001b[1;32m     32\u001b[0m \u001b[38;5;66;03m# 1. Farm capacity constraints\u001b[39;00m\n\u001b[1;32m     33\u001b[0m \u001b[38;5;28;01mfor\u001b[39;00m f \u001b[38;5;129;01min\u001b[39;00m \u001b[38;5;28mrange\u001b[39m(num_farms):\n",
      "Cell \u001b[0;32mIn[4], line 22\u001b[0m, in \u001b[0;36m<genexpr>\u001b[0;34m(.0)\u001b[0m\n\u001b[1;32m     17\u001b[0m x_pc \u001b[38;5;241m=\u001b[39m model\u001b[38;5;241m.\u001b[39maddVars(num_plants, num_centers, vtype\u001b[38;5;241m=\u001b[39mGRB\u001b[38;5;241m.\u001b[39mCONTINUOUS, name\u001b[38;5;241m=\u001b[39m\u001b[38;5;124m\"\u001b[39m\u001b[38;5;124mx_pc\u001b[39m\u001b[38;5;124m\"\u001b[39m)  \u001b[38;5;66;03m# Fertilizer plant to center\u001b[39;00m\n\u001b[1;32m     19\u001b[0m \u001b[38;5;66;03m# Objective function: Minimize total cost\u001b[39;00m\n\u001b[1;32m     20\u001b[0m model\u001b[38;5;241m.\u001b[39msetObjective(\n\u001b[1;32m     21\u001b[0m     \u001b[38;5;28msum\u001b[39m(\n\u001b[0;32m---> 22\u001b[0m         x_fp[f, p] \u001b[38;5;241m*\u001b[39m \u001b[43mfarms_transport_cost\u001b[49m\u001b[43m[\u001b[49m\u001b[43mf\u001b[49m\u001b[43m,\u001b[49m\u001b[43m \u001b[49m\u001b[43mp\u001b[49m\u001b[43m]\u001b[49m \u001b[38;5;28;01mfor\u001b[39;00m f \u001b[38;5;129;01min\u001b[39;00m \u001b[38;5;28mrange\u001b[39m(num_farms) \u001b[38;5;28;01mfor\u001b[39;00m p \u001b[38;5;129;01min\u001b[39;00m \u001b[38;5;28mrange\u001b[39m(num_plants)\n\u001b[1;32m     23\u001b[0m     ) \u001b[38;5;241m+\u001b[39m\n\u001b[1;32m     24\u001b[0m     \u001b[38;5;28msum\u001b[39m(\n\u001b[1;32m     25\u001b[0m         x_pc[p, c] \u001b[38;5;241m*\u001b[39m (processing_cost[p] \u001b[38;5;241m+\u001b[39m processing_transport_cost[p, c])\n\u001b[1;32m     26\u001b[0m         \u001b[38;5;28;01mfor\u001b[39;00m p \u001b[38;5;129;01min\u001b[39;00m \u001b[38;5;28mrange\u001b[39m(num_plants) \u001b[38;5;28;01mfor\u001b[39;00m c \u001b[38;5;129;01min\u001b[39;00m \u001b[38;5;28mrange\u001b[39m(num_centers)\n\u001b[1;32m     27\u001b[0m     ),\n\u001b[1;32m     28\u001b[0m     GRB\u001b[38;5;241m.\u001b[39mMINIMIZE\n\u001b[1;32m     29\u001b[0m )\n\u001b[1;32m     31\u001b[0m \u001b[38;5;66;03m# Constraints\u001b[39;00m\n\u001b[1;32m     32\u001b[0m \u001b[38;5;66;03m# 1. Farm capacity constraints\u001b[39;00m\n\u001b[1;32m     33\u001b[0m \u001b[38;5;28;01mfor\u001b[39;00m f \u001b[38;5;129;01min\u001b[39;00m \u001b[38;5;28mrange\u001b[39m(num_farms):\n",
      "\u001b[0;31mIndexError\u001b[0m: index 17 is out of bounds for axis 1 with size 17"
     ]
    }
   ],
   "source": [
    "from gurobipy import Model, GRB\n",
    "\n",
    "# Ensure correct dimensions for transport cost matrices\n",
    "farms_transport_cost = farms.iloc[:, 5:5 + len(processing)].values  # Adjust to match the number of plants\n",
    "processing_transport_cost = processing.iloc[:, 5:5 + len(centers)].values  # Adjust to match the number of centers\n",
    "\n",
    "# Re-check dimensions\n",
    "num_farms = len(farms)\n",
    "num_plants = len(processing)\n",
    "num_centers = len(centers)\n",
    "\n",
    "# Model creation\n",
    "model = Model(\"BioAgri_Optimization\")\n",
    "\n",
    "# Decision variables\n",
    "x_fp = model.addVars(num_farms, num_plants, vtype=GRB.CONTINUOUS, name=\"x_fp\")  # Raw material farm to plant\n",
    "x_pc = model.addVars(num_plants, num_centers, vtype=GRB.CONTINUOUS, name=\"x_pc\")  # Fertilizer plant to center\n",
    "\n",
    "# Objective function: Minimize total cost\n",
    "model.setObjective(\n",
    "    sum(\n",
    "        x_fp[f, p] * farms_transport_cost[f, p] for f in range(num_farms) for p in range(num_plants)\n",
    "    ) +\n",
    "    sum(\n",
    "        x_pc[p, c] * (processing_cost[p] + processing_transport_cost[p, c])\n",
    "        for p in range(num_plants) for c in range(num_centers)\n",
    "    ),\n",
    "    GRB.MINIMIZE\n",
    ")\n",
    "\n",
    "# Constraints\n",
    "# 1. Farm capacity constraints\n",
    "for f in range(num_farms):\n",
    "    model.addConstr(sum(x_fp[f, p] for p in range(num_plants)) <= farms_capacity[f], name=f\"Farm_Capacity_{f}\")\n",
    "\n",
    "# 2. Processing plant capacity constraints\n",
    "for p in range(num_plants):\n",
    "    model.addConstr(sum(x_fp[f, p] for f in range(num_farms)) <= processing_capacity[p], name=f\"Plant_Capacity_Input_{p}\")\n",
    "    model.addConstr(sum(x_pc[p, c] for c in range(num_centers)) <= processing_capacity[p], name=f\"Plant_Capacity_Output_{p}\")\n",
    "\n",
    "# 3. Demand fulfillment at each center\n",
    "for c in range(num_centers):\n",
    "    model.addConstr(sum(x_pc[p, c] for p in range(num_plants)) == centers_demand[c], name=f\"Center_Demand_{c}\")\n",
    "\n",
    "# Optimize the model\n",
    "model.optimize()\n",
    "\n",
    "# Output results\n",
    "if model.status == GRB.OPTIMAL:\n",
    "    print(f\"Minimum total cost: {model.objVal}\")\n",
    "    # Retrieve optimized decision variables\n",
    "    farm_to_plant = {(f, p): x_fp[f, p].x for f in range(num_farms) for p in range(num_plants) if x_fp[f, p].x > 0}\n",
    "    plant_to_center = {(p, c): x_pc[p, c].x for p in range(num_plants) for c in range(num_centers) if x_pc[p, c].x > 0}\n",
    "    print(\"\\nFarm to Plant Transportation:\")\n",
    "    print(farm_to_plant)\n",
    "    print(\"\\nPlant to Center Transportation:\")\n",
    "    print(plant_to_center)\n",
    "else:\n",
    "    print(\"Optimization was not successful.\")\n"
   ]
  },
  {
   "cell_type": "code",
   "execution_count": null,
   "metadata": {},
   "outputs": [],
   "source": []
  }
 ],
 "metadata": {
  "kernelspec": {
   "display_name": "Python 3",
   "language": "python",
   "name": "python3"
  },
  "language_info": {
   "codemirror_mode": {
    "name": "ipython",
    "version": 3
   },
   "file_extension": ".py",
   "mimetype": "text/x-python",
   "name": "python",
   "nbconvert_exporter": "python",
   "pygments_lexer": "ipython3",
   "version": "3.9.6"
  }
 },
 "nbformat": 4,
 "nbformat_minor": 2
}
