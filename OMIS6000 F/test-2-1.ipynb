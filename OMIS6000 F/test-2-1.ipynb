{
 "cells": [
  {
   "cell_type": "markdown",
   "metadata": {},
   "source": [
    "# (a) First, consider the TechFit Smartwatch with the price response functions provided in Table 2 for the first two weeks (assume no cross-elasticity). Using the KKT conditions, derive the optimal prices, assuming they are non-negative but otherwise have no restrictions."
   ]
  },
  {
   "cell_type": "code",
   "execution_count": 2,
   "metadata": {},
   "outputs": [
    {
     "name": "stdout",
     "output_type": "stream",
     "text": [
      "   Week             Product   Intercept  Own_Price_Coefficient  \\\n",
      "0     1  TechFit Smartwatch  294.306794              -1.491429   \n",
      "1     1  PowerSound Earbuds  274.787669              -1.589617   \n",
      "2     2  TechFit Smartwatch  268.639450              -1.923020   \n",
      "3     2  PowerSound Earbuds  248.366386              -1.070302   \n",
      "4     3  TechFit Smartwatch  390.021127              -1.128539   \n",
      "\n",
      "   Cross_Price_Coefficient  \n",
      "0                 0.281513  \n",
      "1                 0.251110  \n",
      "2                 0.157950  \n",
      "3                 0.261624  \n",
      "4                 0.260734  \n"
     ]
    }
   ],
   "source": [
    "import pandas as pd\n",
    "from gurobipy import Model, GRB, QuadExpr\n",
    "\n",
    "# Load the data\n",
    "df = pd.read_csv('/Users/Sam/Downloads/price_response.csv')\n",
    "\n",
    "# Display first few rows of the data to understand its structure\n",
    "print(df.head())\n"
   ]
  },
  {
   "cell_type": "code",
   "execution_count": 3,
   "metadata": {},
   "outputs": [
    {
     "name": "stdout",
     "output_type": "stream",
     "text": [
      "Set parameter Username\n",
      "Set parameter LicenseID to value 2609998\n",
      "Academic license - for non-commercial use only - expires 2026-01-14\n"
     ]
    }
   ],
   "source": [
    "# Create a Gurobi model\n",
    "model = Model(\"KKT_Optimization\")\n",
    "\n",
    "# Decision variables: Prices for Week 1 and Week 2\n",
    "P1 = model.addVar(vtype=GRB.CONTINUOUS, lb=0, name=\"P1\")  # Price for Week 1 (non-negative)\n",
    "P2 = model.addVar(vtype=GRB.CONTINUOUS, lb=0, name=\"P2\")  # Price for Week 2 (non-negative)\n"
   ]
  },
  {
   "cell_type": "code",
   "execution_count": 4,
   "metadata": {},
   "outputs": [],
   "source": [
    "# Define the objective function using a quadratic expression\n",
    "revenue = QuadExpr()\n",
    "revenue += P1 * (1000 - 5 * P1)  # Week 1 revenue\n",
    "revenue += P2 * (950 - 4.5 * P2)  # Week 2 revenue\n",
    "\n",
    "# Set the objective to maximize revenue\n",
    "model.setObjective(revenue, GRB.MAXIMIZE)\n"
   ]
  },
  {
   "cell_type": "code",
   "execution_count": 5,
   "metadata": {},
   "outputs": [
    {
     "name": "stdout",
     "output_type": "stream",
     "text": [
      "Gurobi Optimizer version 12.0.0 build v12.0.0rc1 (mac64[arm] - Darwin 24.3.0 24D60)\n",
      "\n",
      "CPU model: Apple M3\n",
      "Thread count: 8 physical cores, 8 logical processors, using up to 8 threads\n",
      "\n",
      "Optimize a model with 0 rows, 2 columns and 0 nonzeros\n",
      "Model fingerprint: 0x01fefae1\n",
      "Model has 2 quadratic objective terms\n",
      "Coefficient statistics:\n",
      "  Matrix range     [0e+00, 0e+00]\n",
      "  Objective range  [1e+03, 1e+03]\n",
      "  QObjective range [9e+00, 1e+01]\n",
      "  Bounds range     [0e+00, 0e+00]\n",
      "  RHS range        [0e+00, 0e+00]\n",
      "Presolve removed 0 rows and 2 columns\n",
      "Presolve time: 0.00s\n",
      "Presolve: All rows and columns removed\n",
      "\n",
      "Barrier solved model in 0 iterations and 0.00 seconds (0.00 work units)\n",
      "Optimal objective 1.00138889e+05\n"
     ]
    }
   ],
   "source": [
    "# Optimize the model\n",
    "model.optimize()\n"
   ]
  },
  {
   "cell_type": "code",
   "execution_count": 6,
   "metadata": {},
   "outputs": [
    {
     "name": "stdout",
     "output_type": "stream",
     "text": [
      "Optimal Price for Week 1: $100.00\n",
      "Optimal Price for Week 2: $105.56\n",
      "Maximum Revenue: $100138.89\n"
     ]
    }
   ],
   "source": [
    "# Check if an optimal solution was found\n",
    "if model.status == GRB.OPTIMAL:\n",
    "    print(f\"Optimal Price for Week 1: ${P1.X:.2f}\")\n",
    "    print(f\"Optimal Price for Week 2: ${P2.X:.2f}\")\n",
    "    print(f\"Maximum Revenue: ${model.objVal:.2f}\")\n",
    "else:\n",
    "    print(\"No optimal solution found.\")\n"
   ]
  },
  {
   "cell_type": "markdown",
   "metadata": {},
   "source": [
    "# (b) Consider again the TechFit Smartwatch with the same price response functions as in the previous question for the first two weeks (assume no cross-elasticity). Using the KKT conditions, derive the optimal prices assuming they are non-negative but must remain the same across both weeks."
   ]
  },
  {
   "cell_type": "code",
   "execution_count": 7,
   "metadata": {},
   "outputs": [],
   "source": [
    "# Create a new Gurobi model for the same price constraint\n",
    "model_b = Model(\"Same_Price_Optimization\")\n",
    "\n",
    "# Decision variable: Single price for both weeks\n",
    "P = model_b.addVar(vtype=GRB.CONTINUOUS, lb=0, name=\"P\")  # Price for both Week 1 and Week 2 (non-negative)\n"
   ]
  },
  {
   "cell_type": "code",
   "execution_count": 8,
   "metadata": {},
   "outputs": [],
   "source": [
    "# Define the objective function using a quadratic expression\n",
    "combined_revenue = QuadExpr()\n",
    "combined_revenue += P * (1950 - 9.5 * P)  # Combined revenue for both weeks\n",
    "\n",
    "# Set the objective to maximize combined revenue\n",
    "model_b.setObjective(combined_revenue, GRB.MAXIMIZE)\n"
   ]
  },
  {
   "cell_type": "code",
   "execution_count": 9,
   "metadata": {},
   "outputs": [
    {
     "name": "stdout",
     "output_type": "stream",
     "text": [
      "Gurobi Optimizer version 12.0.0 build v12.0.0rc1 (mac64[arm] - Darwin 24.3.0 24D60)\n",
      "\n",
      "CPU model: Apple M3\n",
      "Thread count: 8 physical cores, 8 logical processors, using up to 8 threads\n",
      "\n",
      "Optimize a model with 0 rows, 1 columns and 0 nonzeros\n",
      "Model fingerprint: 0x36313fc2\n",
      "Model has 1 quadratic objective term\n",
      "Coefficient statistics:\n",
      "  Matrix range     [0e+00, 0e+00]\n",
      "  Objective range  [2e+03, 2e+03]\n",
      "  QObjective range [2e+01, 2e+01]\n",
      "  Bounds range     [0e+00, 0e+00]\n",
      "  RHS range        [0e+00, 0e+00]\n",
      "Presolve removed 0 rows and 1 columns\n",
      "Presolve time: 0.00s\n",
      "Presolve: All rows and columns removed\n",
      "\n",
      "Barrier solved model in 0 iterations and 0.00 seconds (0.00 work units)\n",
      "Optimal objective 1.00065789e+05\n"
     ]
    }
   ],
   "source": [
    "# Optimize the model\n",
    "model_b.optimize()\n"
   ]
  },
  {
   "cell_type": "code",
   "execution_count": 10,
   "metadata": {},
   "outputs": [
    {
     "name": "stdout",
     "output_type": "stream",
     "text": [
      "Optimal Same Price for Both Weeks: $102.63\n",
      "Maximum Combined Revenue: $100065.79\n"
     ]
    }
   ],
   "source": [
    "# Check if an optimal solution was found\n",
    "if model_b.status == GRB.OPTIMAL:\n",
    "    print(f\"Optimal Same Price for Both Weeks: ${P.X:.2f}\")\n",
    "    print(f\"Maximum Combined Revenue: ${model_b.objVal:.2f}\")\n",
    "else:\n",
    "    print(\"No optimal solution found.\")\n"
   ]
  },
  {
   "cell_type": "markdown",
   "metadata": {},
   "source": [
    "# (c) What do you observe about the optimal prices derived using the KKT conditions with and without the equality constraint? Based on our class discussion from the Variable Pricing with Diversion example, why does this occur? What is the benefit of dynamic pricing?"
   ]
  },
  {
   "cell_type": "markdown",
   "metadata": {},
   "source": [
    "### **Question (c) – Analysis and Explanation**\n",
    "\n",
    "#### **Observation:**\n",
    "From the results obtained in (a) and (b), we observe the following:\n",
    "\n",
    "- **(a) Without the equality constraint**:\n",
    "  - The optimal prices for each week are different:\n",
    "    - Week 1: $100.00\n",
    "    - Week 2: $105.56\n",
    "  - **Maximum Revenue: $100,138.89**\n",
    "\n",
    "- **(b) With the equality constraint** (same price for both weeks):\n",
    "  - The optimal price is **$102.63** for both weeks.\n",
    "  - **Maximum Revenue: $100,065.79**\n",
    "\n",
    "---\n",
    "\n",
    "#### **Why Does This Occur?**\n",
    "The reason for the difference lies in the flexibility of pricing in (a) versus the restriction imposed in (b):\n",
    "\n",
    "1. **Dynamic Pricing Flexibility (a)**:\n",
    "   - Allows for adjusting prices each week to match the optimal price-demand combination for that specific week.\n",
    "   - This ensures that the **revenue for each week is maximized individually**, resulting in a higher overall revenue.\n",
    "\n",
    "2. **Static Pricing Restriction (b)**:\n",
    "   - By forcing the same price across both weeks, the optimization is constrained to a compromise price that may not be optimal for either week.\n",
    "   - As a result, the revenue is slightly lower compared to the dynamic pricing model.\n",
    "\n",
    "---\n",
    "\n",
    "#### **Benefit of Dynamic Pricing**:\n",
    "Dynamic pricing offers several advantages:\n",
    "1. **Maximized Revenue**: Each week’s price can be optimized based on current demand conditions, yielding higher total revenue.  \n",
    "2. **Improved Demand Management**: Adjusting prices dynamically can help smooth demand fluctuations and avoid shortages or oversupply.  \n",
    "3. **Competitive Advantage**: Allows companies to react to market changes, competitive pressures, and customer preferences more effectively.\n",
    "\n",
    "---\n",
    "\n",
    "#### **Conclusion:**\n",
    "The results demonstrate that **dynamic pricing** outperforms static pricing in terms of revenue generation. The small difference in revenue between the two strategies in this case might seem minor, but over a longer period or with a larger dataset, the gap could be significant. Companies like GadgetMarket Inc. should adopt **dynamic pricing** to maximize profitability while maintaining the flexibility to adapt to changing market conditions.\n",
    "\n",
    "---\n",
    "\n",
    "如果你想要更详细的表述或把这个部分转换为更学术的风格，我可以帮你润色！ 😊"
   ]
  },
  {
   "cell_type": "markdown",
   "metadata": {},
   "source": [
    "# (d) Now consider both products. Using the price response functions in the price response.csv file for the first two weeks only, determine the optimal prices using the projected gradient descent algorithm. For each product, assume static pricing across both weeks. Initialize all prices at zero, with a step size of 0.001 and a stopping criterion of 10−6. What are the optimal prices?"
   ]
  },
  {
   "cell_type": "code",
   "execution_count": 14,
   "metadata": {},
   "outputs": [],
   "source": [
    "import pandas as pd\n",
    "import numpy as np\n",
    "from gurobipy import Model, GRB\n",
    "\n",
    "# Load the price response data\n",
    "df = pd.read_csv('/Users/Sam/Downloads/price_response.csv')\n",
    "\n",
    "# Initialize prices for both products (TechFit Smartwatch and PowerSound Earbuds)\n",
    "P_smartwatch = 0.0\n",
    "P_earbuds = 0.0\n",
    "\n",
    "# Define step size and stopping criterion\n",
    "step_size = 0.001\n",
    "tolerance = 1e-6\n"
   ]
  },
  {
   "cell_type": "code",
   "execution_count": 16,
   "metadata": {},
   "outputs": [
    {
     "ename": "AttributeError",
     "evalue": "Index out of range for attribute 'X'",
     "output_type": "error",
     "traceback": [
      "\u001b[0;31m---------------------------------------------------------------------------\u001b[0m",
      "\u001b[0;31mAttributeError\u001b[0m                            Traceback (most recent call last)",
      "Cell \u001b[0;32mIn[16], line 16\u001b[0m\n\u001b[1;32m     13\u001b[0m iteration \u001b[38;5;241m+\u001b[39m\u001b[38;5;241m=\u001b[39m \u001b[38;5;241m1\u001b[39m\n\u001b[1;32m     15\u001b[0m \u001b[38;5;66;03m# Calculate gradients (partial derivatives of the revenue functions)\u001b[39;00m\n\u001b[0;32m---> 16\u001b[0m grad_P_s \u001b[38;5;241m=\u001b[39m \u001b[38;5;241m1000\u001b[39m \u001b[38;5;241m-\u001b[39m \u001b[38;5;241m10\u001b[39m \u001b[38;5;241m*\u001b[39m \u001b[43mP_s\u001b[49m\u001b[38;5;241;43m.\u001b[39;49m\u001b[43mX\u001b[49m  \u001b[38;5;66;03m# Example gradient for Smartwatch (replace with actual coefficients)\u001b[39;00m\n\u001b[1;32m     17\u001b[0m grad_P_e \u001b[38;5;241m=\u001b[39m \u001b[38;5;241m950\u001b[39m \u001b[38;5;241m-\u001b[39m \u001b[38;5;241m9\u001b[39m \u001b[38;5;241m*\u001b[39m P_e\u001b[38;5;241m.\u001b[39mX  \u001b[38;5;66;03m# Example gradient for Earbuds (replace with actual coefficients)\u001b[39;00m\n\u001b[1;32m     19\u001b[0m \u001b[38;5;66;03m# Update prices using the gradient and step size\u001b[39;00m\n",
      "File \u001b[0;32msrc/gurobipy/var.pxi:128\u001b[0m, in \u001b[0;36mgurobipy._core.Var.__getattr__\u001b[0;34m()\u001b[0m\n",
      "File \u001b[0;32msrc/gurobipy/var.pxi:156\u001b[0m, in \u001b[0;36mgurobipy._core.Var.getAttr\u001b[0;34m()\u001b[0m\n",
      "File \u001b[0;32msrc/gurobipy/_attrutil.pyx:117\u001b[0m, in \u001b[0;36mgurobipy._attrutil._getattr\u001b[0;34m()\u001b[0m\n",
      "\u001b[0;31mAttributeError\u001b[0m: Index out of range for attribute 'X'"
     ]
    }
   ],
   "source": [
    "# Create Gurobi model\n",
    "model = Model(\"Projected_Gradient_Descent\")\n",
    "\n",
    "# Decision variables for static prices across two weeks\n",
    "P_s = model.addVar(vtype=GRB.CONTINUOUS, lb=0, name=\"P_s\")  # TechFit Smartwatch price\n",
    "P_e = model.addVar(vtype=GRB.CONTINUOUS, lb=0, name=\"P_e\")  # PowerSound Earbuds price\n",
    "\n",
    "# Iterative process for gradient descent\n",
    "converged = False\n",
    "iteration = 0\n",
    "\n",
    "while not converged:\n",
    "    iteration += 1\n",
    "\n",
    "    # Calculate gradients (partial derivatives of the revenue functions)\n",
    "    grad_P_s = 1000 - 10 * P_s.X  # Example gradient for Smartwatch (replace with actual coefficients)\n",
    "    grad_P_e = 950 - 9 * P_e.X  # Example gradient for Earbuds (replace with actual coefficients)\n",
    "\n",
    "    # Update prices using the gradient and step size\n",
    "    new_P_s = P_s.X + step_size * grad_P_s\n",
    "    new_P_e = P_e.X + step_size * grad_P_e\n",
    "\n",
    "    # Project the prices back to the feasible region (non-negative)\n",
    "    new_P_s = max(0, new_P_s)\n",
    "    new_P_e = max(0, new_P_e)\n",
    "\n",
    "    # Check convergence\n",
    "    if abs(new_P_s - P_s.X) < tolerance and abs(new_P_e - P_e.X) < tolerance:\n",
    "        converged = True\n",
    "\n",
    "    # Update the variables in Gurobi\n",
    "    P_s.setAttr(\"Start\", new_P_s)\n",
    "    P_e.setAttr(\"Start\", new_P_e)\n",
    "\n",
    "    # Print the intermediate results for each iteration\n",
    "    print(f\"Iteration {iteration}: P_s = {new_P_s:.6f}, P_e = {new_P_e:.6f}\")\n",
    "\n",
    "# Output the final results\n",
    "print(f\"\\nOptimal Static Price for TechFit Smartwatch: ${P_s.X:.2f}\")\n",
    "print(f\"Optimal Static Price for PowerSound Earbuds: ${P_e.X:.2f}\")\n"
   ]
  },
  {
   "cell_type": "code",
   "execution_count": null,
   "metadata": {},
   "outputs": [],
   "source": []
  }
 ],
 "metadata": {
  "kernelspec": {
   "display_name": "Python 3",
   "language": "python",
   "name": "python3"
  },
  "language_info": {
   "codemirror_mode": {
    "name": "ipython",
    "version": 3
   },
   "file_extension": ".py",
   "mimetype": "text/x-python",
   "name": "python",
   "nbconvert_exporter": "python",
   "pygments_lexer": "ipython3",
   "version": "3.9.6"
  }
 },
 "nbformat": 4,
 "nbformat_minor": 2
}
